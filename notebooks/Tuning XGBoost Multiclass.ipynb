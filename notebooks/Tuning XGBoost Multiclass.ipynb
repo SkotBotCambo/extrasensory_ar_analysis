{
 "cells": [
  {
   "cell_type": "markdown",
   "metadata": {},
   "source": [
    "# Tuning XGBoost"
   ]
  },
  {
   "cell_type": "markdown",
   "metadata": {},
   "source": [
    "### [Advice from a Kaggle forum](https://www.kaggle.com/general/4092)\n",
    "1. tune the number of candidate feature for splitting (starting with min_samples_leaf=1)\n",
    "2. tune the depth of the trees (min_samples_leaf)\n",
    "3. tune the number of trees"
   ]
  },
  {
   "cell_type": "markdown",
   "metadata": {},
   "source": [
    "### Original XGBoost article : [Greedy Function Approximation: A Gradient Boosting Machine](http://www.jstor.org/stable/2699986?seq=1#page_scan_tab_contents)"
   ]
  },
  {
   "cell_type": "markdown",
   "metadata": {},
   "source": [
    "### sklearn's [tips for parameter tuning](http://scikit-learn.org/stable/modules/grid_search.html#tips-for-parameter-search)"
   ]
  },
  {
   "cell_type": "markdown",
   "metadata": {},
   "source": [
    "### Analytics Vidhya [tuning random forest](https://www.analyticsvidhya.com/blog/2015/06/tuning-random-forest-model/)"
   ]
  },
  {
   "cell_type": "code",
   "execution_count": 31,
   "metadata": {
    "collapsed": true
   },
   "outputs": [],
   "source": [
    "import pandas as pd\n",
    "import numpy as np\n",
    "import time\n",
    "import importlib.machinery\n",
    "es = importlib.machinery.SourceFileLoader('extrasense','/home/sac086/extrasensory/extrasense/extrasense.py').load_module()\n",
    "from sklearn.ensemble import RandomForestClassifier\n",
    "from sklearn.metrics import accuracy_score, make_scorer\n",
    "from sklearn.preprocessing import StandardScaler, MinMaxScaler\n",
    "from sklearn.model_selection import GroupShuffleSplit, GroupKFold, cross_val_score, GridSearchCV, RandomizedSearchCV\n",
    "from sklearn.pipeline import Pipeline"
   ]
  },
  {
   "cell_type": "code",
   "execution_count": 63,
   "metadata": {
    "collapsed": true
   },
   "outputs": [],
   "source": [
    "import xgboost as xgb"
   ]
  },
  {
   "cell_type": "markdown",
   "metadata": {},
   "source": [
    "### Load Data"
   ]
  },
  {
   "cell_type": "code",
   "execution_count": 2,
   "metadata": {
    "collapsed": true
   },
   "outputs": [],
   "source": [
    "features_df = es.get_impersonal_data(leave_users_out=[], data_type=\"activity\", labeled_only=False)\n",
    "\n",
    "# remove nan rows\n",
    "no_label_indeces = features_df.label.isnull()\n",
    "features_df = features_df[~no_label_indeces]\n",
    "\n",
    "timestamps = features_df.pop('timestamp')\n",
    "label_source = features_df.pop(\"label_source\")\n",
    "labels = features_df.pop(\"label\")\n",
    "user_ids = features_df.pop(\"user_id\")"
   ]
  },
  {
   "cell_type": "code",
   "execution_count": 3,
   "metadata": {
    "collapsed": true
   },
   "outputs": [],
   "source": [
    "resulting_scores = {}"
   ]
  },
  {
   "cell_type": "markdown",
   "metadata": {},
   "source": [
    "## Score to beat\n",
    "* In previous trials, the best parameters were n_estimators=100, max_features=\"log2\", min_samples_leaf=1"
   ]
  },
  {
   "cell_type": "code",
   "execution_count": 6,
   "metadata": {
    "collapsed": true
   },
   "outputs": [],
   "source": [
    "# set up the accuracy scorer for cross validation\n",
    "scorer = make_scorer(accuracy_score)\n",
    "resulting_scores = {}"
   ]
  },
  {
   "cell_type": "markdown",
   "metadata": {},
   "source": [
    "### ZeroR"
   ]
  },
  {
   "cell_type": "code",
   "execution_count": 7,
   "metadata": {
    "collapsed": true
   },
   "outputs": [],
   "source": [
    "steps = []\n",
    "steps.append(('standardize', StandardScaler()))\n",
    "steps.append(('ZeroR', es.ZeroR()))\n",
    "clf = Pipeline(steps)"
   ]
  },
  {
   "cell_type": "code",
   "execution_count": 9,
   "metadata": {
    "collapsed": true,
    "scrolled": true
   },
   "outputs": [],
   "source": [
    "score = cross_val_score(clf, features_df, labels, groups=user_ids, cv=GroupKFold(n_splits=3), n_jobs=20, scoring=scorer)\n",
    "resulting_scores[\"ZeroR\"]=score"
   ]
  },
  {
   "cell_type": "markdown",
   "metadata": {},
   "source": [
    "# Try [XGBoost](https://machinelearningmastery.com/develop-first-xgboost-model-python-scikit-learn/)"
   ]
  },
  {
   "cell_type": "markdown",
   "metadata": {},
   "source": [
    "# Boosting algos\n",
    "* [Machine Learning Mastery's page on gradient boosting, lots of other resources too!](https://machinelearningmastery.com/gentle-introduction-gradient-boosting-algorithm-machine-learning/)\n",
    "* [Kaggle master's blog on gradient descent](http://blog.kaggle.com/2017/01/23/a-kaggle-master-explains-gradient-boosting/)\n",
    "* [Notes on tuning from the XGBoost docs](https://xgboost.readthedocs.io/en/latest/how_to/param_tuning.html)\n"
   ]
  },
  {
   "cell_type": "code",
   "execution_count": 10,
   "metadata": {
    "collapsed": true
   },
   "outputs": [],
   "source": [
    "from xgboost import XGBClassifier"
   ]
  },
  {
   "cell_type": "code",
   "execution_count": 15,
   "metadata": {
    "scrolled": true
   },
   "outputs": [
    {
     "name": "stdout",
     "output_type": "stream",
     "text": [
      "Object `xgboost.cv` not found.\n"
     ]
    }
   ],
   "source": [
    "xgboost.cv?"
   ]
  },
  {
   "cell_type": "code",
   "execution_count": 17,
   "metadata": {
    "collapsed": true
   },
   "outputs": [],
   "source": [
    "steps = [('standardize', StandardScaler()),\n",
    "         ('clf', XGBClassifier())]\n",
    "clf = Pipeline(steps)"
   ]
  },
  {
   "cell_type": "code",
   "execution_count": 18,
   "metadata": {
    "collapsed": true
   },
   "outputs": [],
   "source": [
    "cv = cv=GroupKFold(n_splits=2).split(features_df, labels, user_ids)\n",
    "iteration = next(cv)\n",
    "X_train = features_df.iloc[iteration[0]]\n",
    "y_train = labels.iloc[iteration[0]]\n",
    "\n",
    "X_test = features_df.iloc[iteration[1]]\n",
    "y_test = labels.iloc[iteration[1]]"
   ]
  },
  {
   "cell_type": "code",
   "execution_count": 19,
   "metadata": {},
   "outputs": [
    {
     "data": {
      "text/plain": [
       "Pipeline(memory=None,\n",
       "     steps=[('standardize', StandardScaler(copy=True, with_mean=True, with_std=True)), ('clf', XGBClassifier(base_score=0.5, booster='gbtree', colsample_bylevel=1,\n",
       "       colsample_bytree=1, gamma=0, learning_rate=0.1, max_delta_step=0,\n",
       "       max_depth=3, min_child_weight=1, missing=None, n_estimators=100,\n",
       "       n_jobs=1, nthread=None, objective='multi:softprob', random_state=0,\n",
       "       reg_alpha=0, reg_lambda=1, scale_pos_weight=1, seed=None,\n",
       "       silent=True, subsample=1))])"
      ]
     },
     "execution_count": 19,
     "metadata": {},
     "output_type": "execute_result"
    }
   ],
   "source": [
    "clf.fit(X_train, y_train)"
   ]
  },
  {
   "cell_type": "code",
   "execution_count": 20,
   "metadata": {
    "collapsed": true
   },
   "outputs": [],
   "source": [
    "predictions = clf.predict(X_test)"
   ]
  },
  {
   "cell_type": "code",
   "execution_count": 21,
   "metadata": {},
   "outputs": [
    {
     "data": {
      "text/plain": [
       "0.65276582427040142"
      ]
     },
     "execution_count": 21,
     "metadata": {},
     "output_type": "execute_result"
    }
   ],
   "source": [
    "accuracy_score(y_test, predictions)"
   ]
  },
  {
   "cell_type": "code",
   "execution_count": 25,
   "metadata": {},
   "outputs": [
    {
     "data": {
      "text/plain": [
       "0.55462198046807643"
      ]
     },
     "execution_count": 25,
     "metadata": {},
     "output_type": "execute_result"
    }
   ],
   "source": [
    "training_predictions = clf.predict(X_train)\n",
    "accuracy_score(y_train, training_predictions)"
   ]
  },
  {
   "cell_type": "markdown",
   "metadata": {},
   "source": [
    "## ^^^ Best score yet and it's not even optimized!"
   ]
  },
  {
   "cell_type": "markdown",
   "metadata": {},
   "source": [
    "### Optimizing 1 : Control Overfitting\n",
    "\n",
    "from docs:\n",
    "When you observe high training accuracy, but low tests accuracy, it is likely that you encounter overfitting problem.\n",
    "\n",
    "There are in general two ways that you can control overfitting in xgboost\n",
    "\n",
    "* The first way is to directly control model complexity\n",
    "    * This include max_depth, min_child_weight and gamma\n",
    "* The second way is to add randomness to make training robust to noise\n",
    "    * This include subsample, colsample_bytree\n",
    "\n",
    "You can also reduce stepsize eta, but needs to remember to increase num_round when you do so."
   ]
  },
  {
   "cell_type": "markdown",
   "metadata": {},
   "source": [
    "### How much are we overfitting?"
   ]
  },
  {
   "cell_type": "code",
   "execution_count": 28,
   "metadata": {},
   "outputs": [
    {
     "name": "stdout",
     "output_type": "stream",
     "text": [
      "With 1 users for training : Training Score=0.942, Test Score=0.517\n",
      "With 1 users for training : Training Score=0.859, Test Score=0.437\n",
      "With 1 users for training : Training Score=0.865, Test Score=0.280\n",
      "With 5 users for training : Training Score=0.803, Test Score=0.582\n",
      "With 5 users for training : Training Score=0.826, Test Score=0.553\n",
      "With 5 users for training : Training Score=0.816, Test Score=0.518\n",
      "With 10 users for training : Training Score=0.783, Test Score=0.605\n",
      "With 10 users for training : Training Score=0.818, Test Score=0.480\n",
      "With 10 users for training : Training Score=0.771, Test Score=0.607\n",
      "With 15 users for training : Training Score=0.746, Test Score=0.558\n",
      "With 15 users for training : Training Score=0.742, Test Score=0.553\n",
      "With 15 users for training : Training Score=0.728, Test Score=0.611\n",
      "With 20 users for training : Training Score=0.749, Test Score=0.590\n",
      "With 20 users for training : Training Score=0.748, Test Score=0.576\n",
      "With 20 users for training : Training Score=0.719, Test Score=0.632\n",
      "With 25 users for training : Training Score=0.716, Test Score=0.581\n",
      "With 25 users for training : Training Score=0.732, Test Score=0.580\n",
      "With 25 users for training : Training Score=0.716, Test Score=0.533\n",
      "With 30 users for training : Training Score=0.706, Test Score=0.616\n",
      "With 30 users for training : Training Score=0.703, Test Score=0.607\n",
      "With 30 users for training : Training Score=0.701, Test Score=0.570\n",
      "With 35 users for training : Training Score=0.708, Test Score=0.634\n",
      "With 35 users for training : Training Score=0.718, Test Score=0.675\n",
      "With 35 users for training : Training Score=0.701, Test Score=0.628\n"
     ]
    }
   ],
   "source": [
    "training_sizes = [1,5,10,15,20,25,30,35] # this is the number of participants whose data we are including\n",
    "\n",
    "test_size = 5\n",
    "\n",
    "rows = []\n",
    "for ts in training_sizes:\n",
    "    # setup classification pipeline\n",
    "    steps = [('standardize', StandardScaler()),\n",
    "         ('clf', XGBClassifier())]\n",
    "    clf = Pipeline(steps)\n",
    "    \n",
    "    # set up splitter\n",
    "    splitter = GroupShuffleSplit(n_splits=3, test_size = test_size, train_size=ts)\n",
    "    \n",
    "    for train_ind, test_ind in splitter.split(features_df, labels, groups=user_ids):\n",
    "        X_train = features_df.iloc[train_ind]\n",
    "        y_train = labels.iloc[train_ind]\n",
    "\n",
    "        X_test = features_df.iloc[test_ind]\n",
    "        y_test = labels.iloc[test_ind]\n",
    "        \n",
    "        clf.fit(X_train, y_train)\n",
    "        \n",
    "        training_predictions = clf.predict(X_train)\n",
    "        training_score = accuracy_score(y_train, training_predictions)\n",
    "        \n",
    "        test_predictions = clf.predict(X_test)\n",
    "        test_score = accuracy_score(y_test, test_predictions)\n",
    "        \n",
    "        print(\"With %s users for training : Training Score=%.3f, Test Score=%.3f\" % (ts, training_score, test_score))\n",
    "        \n",
    "        row = {\"test score\" : test_score,\n",
    "               \"training score\" : training_score,\n",
    "               \"test instances\" : len(y_test),\n",
    "               \"training instances\" : len(y_train),\n",
    "               \"training users\" : ts}\n",
    "        rows.append(row)"
   ]
  },
  {
   "cell_type": "code",
   "execution_count": 29,
   "metadata": {
    "collapsed": true
   },
   "outputs": [],
   "source": [
    "results_df = pd.DataFrame(rows)"
   ]
  },
  {
   "cell_type": "code",
   "execution_count": 30,
   "metadata": {},
   "outputs": [
    {
     "name": "stdout",
     "output_type": "stream",
     "text": [
      "TS = 1\n",
      "\ttest : M=0.411, SD=0.098\n",
      "\ttrain : M=0.889, SD=0.038\n",
      "TS = 5\n",
      "\ttest : M=0.551, SD=0.026\n",
      "\ttrain : M=0.815, SD=0.009\n",
      "TS = 10\n",
      "\ttest : M=0.564, SD=0.059\n",
      "\ttrain : M=0.791, SD=0.020\n",
      "TS = 15\n",
      "\ttest : M=0.574, SD=0.026\n",
      "\ttrain : M=0.739, SD=0.008\n",
      "TS = 20\n",
      "\ttest : M=0.599, SD=0.024\n",
      "\ttrain : M=0.739, SD=0.014\n",
      "TS = 25\n",
      "\ttest : M=0.565, SD=0.023\n",
      "\ttrain : M=0.721, SD=0.008\n",
      "TS = 30\n",
      "\ttest : M=0.598, SD=0.020\n",
      "\ttrain : M=0.703, SD=0.002\n",
      "TS = 35\n",
      "\ttest : M=0.646, SD=0.021\n",
      "\ttrain : M=0.709, SD=0.007\n"
     ]
    }
   ],
   "source": [
    "for ts in training_sizes:\n",
    "    ts_df = results_df[results_df['training users'] == ts]\n",
    "    training_score = ts_df['training score']\n",
    "    test_score = ts_df['test score']\n",
    "    print(\"TS = %s\" % ts)\n",
    "    print(\"\\ttest : M=%.3f, SD=%.3f\" % (test_score.mean(), np.std(test_score)))\n",
    "    print(\"\\ttrain : M=%.3f, SD=%.3f\" % (training_score.mean(), np.std(training_score)))"
   ]
  },
  {
   "cell_type": "markdown",
   "metadata": {},
   "source": [
    "### Random Grid Tuning"
   ]
  },
  {
   "cell_type": "code",
   "execution_count": 46,
   "metadata": {
    "collapsed": true
   },
   "outputs": [],
   "source": [
    "param_grid = {\"clf__max_depth\" : [3,4,5,6,7,8,9,10],\n",
    "              \"clf__min_child_weight\" : [1,2,3]}\n",
    "steps = [('standardize', StandardScaler()),\n",
    "         ('clf', XGBClassifier())]\n",
    "clf = Pipeline(steps)\n",
    "cv = list(GroupKFold(n_splits=3).split(features_df, labels, user_ids))\n",
    "gscv = GridSearchCV(clf, param_grid=param_grid, cv=cv, n_jobs=12, verbose=2)"
   ]
  },
  {
   "cell_type": "code",
   "execution_count": 47,
   "metadata": {},
   "outputs": [
    {
     "name": "stdout",
     "output_type": "stream",
     "text": [
      "Fitting 3 folds for each of 24 candidates, totalling 72 fits\n",
      "[CV] clf__max_depth=3, clf__min_child_weight=1 .......................\n",
      "[CV] clf__max_depth=3, clf__min_child_weight=1 .......................\n",
      "[CV] clf__max_depth=3, clf__min_child_weight=1 .......................\n",
      "[CV] clf__max_depth=3, clf__min_child_weight=2 .......................\n",
      "[CV] clf__max_depth=3, clf__min_child_weight=2 .......................\n",
      "[CV] clf__max_depth=3, clf__min_child_weight=2 .......................\n",
      "[CV] clf__max_depth=3, clf__min_child_weight=3 .......................\n",
      "[CV] clf__max_depth=3, clf__min_child_weight=3 .......................\n",
      "[CV] clf__max_depth=3, clf__min_child_weight=3 .......................\n",
      "[CV] clf__max_depth=4, clf__min_child_weight=1 .......................\n",
      "[CV] clf__max_depth=4, clf__min_child_weight=1 .......................\n",
      "[CV] clf__max_depth=4, clf__min_child_weight=1 .......................\n",
      "[CV] ........ clf__max_depth=3, clf__min_child_weight=1, total= 3.9min\n",
      "[CV] clf__max_depth=4, clf__min_child_weight=2 .......................\n",
      "[CV] ........ clf__max_depth=3, clf__min_child_weight=3, total= 3.9min\n",
      "[CV] clf__max_depth=4, clf__min_child_weight=2 .......................\n",
      "[CV] ........ clf__max_depth=3, clf__min_child_weight=2, total= 4.0min\n",
      "[CV] clf__max_depth=4, clf__min_child_weight=2 .......................\n",
      "[CV] ........ clf__max_depth=3, clf__min_child_weight=1, total= 4.1min\n",
      "[CV] clf__max_depth=4, clf__min_child_weight=3 .......................\n",
      "[CV] ........ clf__max_depth=3, clf__min_child_weight=2, total= 4.1min\n",
      "[CV] clf__max_depth=4, clf__min_child_weight=3 .......................\n",
      "[CV] ........ clf__max_depth=3, clf__min_child_weight=1, total= 4.2min\n",
      "[CV] clf__max_depth=4, clf__min_child_weight=3 .......................\n",
      "[CV] ........ clf__max_depth=3, clf__min_child_weight=3, total= 4.2min\n",
      "[CV] clf__max_depth=5, clf__min_child_weight=1 .......................\n",
      "[CV] ........ clf__max_depth=3, clf__min_child_weight=3, total= 4.2min\n",
      "[CV] clf__max_depth=5, clf__min_child_weight=1 .......................\n",
      "[CV] ........ clf__max_depth=3, clf__min_child_weight=2, total= 4.3min\n",
      "[CV] clf__max_depth=5, clf__min_child_weight=1 .......................\n",
      "[CV] ........ clf__max_depth=4, clf__min_child_weight=1, total= 5.1min\n",
      "[CV] clf__max_depth=5, clf__min_child_weight=2 .......................\n",
      "[CV] ........ clf__max_depth=4, clf__min_child_weight=1, total= 5.4min\n",
      "[CV] clf__max_depth=5, clf__min_child_weight=2 .......................\n",
      "[CV] ........ clf__max_depth=4, clf__min_child_weight=1, total= 5.5min\n",
      "[CV] clf__max_depth=5, clf__min_child_weight=2 .......................\n",
      "[CV] ........ clf__max_depth=4, clf__min_child_weight=2, total= 5.1min\n",
      "[CV] clf__max_depth=5, clf__min_child_weight=3 .......................\n",
      "[CV] ........ clf__max_depth=4, clf__min_child_weight=3, total= 5.0min\n",
      "[CV] clf__max_depth=5, clf__min_child_weight=3 .......................\n",
      "[CV] ........ clf__max_depth=4, clf__min_child_weight=2, total= 5.4min\n",
      "[CV] clf__max_depth=5, clf__min_child_weight=3 .......................\n",
      "[CV] ........ clf__max_depth=4, clf__min_child_weight=2, total= 5.4min\n",
      "[CV] clf__max_depth=6, clf__min_child_weight=1 .......................\n",
      "[CV] ........ clf__max_depth=4, clf__min_child_weight=3, total= 5.3min\n",
      "[CV] clf__max_depth=6, clf__min_child_weight=1 .......................\n"
     ]
    },
    {
     "name": "stderr",
     "output_type": "stream",
     "text": [
      "[Parallel(n_jobs=12)]: Done  17 tasks      | elapsed:  9.8min\n"
     ]
    },
    {
     "name": "stdout",
     "output_type": "stream",
     "text": [
      "[CV] ........ clf__max_depth=4, clf__min_child_weight=3, total= 5.4min\n",
      "[CV] clf__max_depth=6, clf__min_child_weight=1 .......................\n",
      "[CV] ........ clf__max_depth=5, clf__min_child_weight=1, total= 6.2min\n",
      "[CV] clf__max_depth=6, clf__min_child_weight=2 .......................\n",
      "[CV] ........ clf__max_depth=5, clf__min_child_weight=1, total= 6.7min\n",
      "[CV] clf__max_depth=6, clf__min_child_weight=2 .......................\n",
      "[CV] ........ clf__max_depth=5, clf__min_child_weight=1, total= 6.6min\n",
      "[CV] clf__max_depth=6, clf__min_child_weight=2 .......................\n",
      "[CV] ........ clf__max_depth=5, clf__min_child_weight=2, total= 6.2min\n",
      "[CV] clf__max_depth=6, clf__min_child_weight=3 .......................\n",
      "[CV] ........ clf__max_depth=5, clf__min_child_weight=2, total= 6.6min\n",
      "[CV] clf__max_depth=6, clf__min_child_weight=3 .......................\n",
      "[CV] ........ clf__max_depth=5, clf__min_child_weight=2, total= 6.7min\n",
      "[CV] clf__max_depth=6, clf__min_child_weight=3 .......................\n",
      "[CV] ........ clf__max_depth=5, clf__min_child_weight=3, total= 6.2min\n",
      "[CV] clf__max_depth=7, clf__min_child_weight=1 .......................\n",
      "[CV] ........ clf__max_depth=5, clf__min_child_weight=3, total= 6.7min\n",
      "[CV] clf__max_depth=7, clf__min_child_weight=1 .......................\n",
      "[CV] ........ clf__max_depth=5, clf__min_child_weight=3, total= 6.6min\n",
      "[CV] clf__max_depth=7, clf__min_child_weight=1 .......................\n",
      "[CV] ........ clf__max_depth=6, clf__min_child_weight=1, total= 7.4min\n",
      "[CV] clf__max_depth=7, clf__min_child_weight=2 .......................\n",
      "[CV] ........ clf__max_depth=6, clf__min_child_weight=1, total= 8.0min\n",
      "[CV] clf__max_depth=7, clf__min_child_weight=2 .......................\n",
      "[CV] ........ clf__max_depth=6, clf__min_child_weight=1, total= 7.9min\n",
      "[CV] clf__max_depth=7, clf__min_child_weight=2 .......................\n",
      "[CV] ........ clf__max_depth=6, clf__min_child_weight=2, total= 7.4min\n",
      "[CV] clf__max_depth=7, clf__min_child_weight=3 .......................\n",
      "[CV] ........ clf__max_depth=6, clf__min_child_weight=2, total= 8.0min\n",
      "[CV] clf__max_depth=7, clf__min_child_weight=3 .......................\n",
      "[CV] ........ clf__max_depth=6, clf__min_child_weight=2, total= 7.9min\n",
      "[CV] clf__max_depth=7, clf__min_child_weight=3 .......................\n",
      "[CV] ........ clf__max_depth=6, clf__min_child_weight=3, total= 7.4min\n",
      "[CV] clf__max_depth=8, clf__min_child_weight=1 .......................\n",
      "[CV] ........ clf__max_depth=6, clf__min_child_weight=3, total= 7.9min\n",
      "[CV] clf__max_depth=8, clf__min_child_weight=1 .......................\n",
      "[CV] ........ clf__max_depth=6, clf__min_child_weight=3, total= 7.8min\n",
      "[CV] clf__max_depth=8, clf__min_child_weight=1 .......................\n",
      "[CV] ........ clf__max_depth=7, clf__min_child_weight=1, total= 8.6min\n",
      "[CV] clf__max_depth=8, clf__min_child_weight=2 .......................\n",
      "[CV] ........ clf__max_depth=7, clf__min_child_weight=1, total= 9.3min\n",
      "[CV] clf__max_depth=8, clf__min_child_weight=2 .......................\n",
      "[CV] ........ clf__max_depth=7, clf__min_child_weight=1, total= 9.3min\n",
      "[CV] clf__max_depth=8, clf__min_child_weight=2 .......................\n",
      "[CV] ........ clf__max_depth=7, clf__min_child_weight=2, total= 8.6min\n",
      "[CV] clf__max_depth=8, clf__min_child_weight=3 .......................\n",
      "[CV] ........ clf__max_depth=7, clf__min_child_weight=2, total= 9.2min\n",
      "[CV] clf__max_depth=8, clf__min_child_weight=3 .......................\n",
      "[CV] ........ clf__max_depth=7, clf__min_child_weight=2, total= 9.2min\n",
      "[CV] clf__max_depth=8, clf__min_child_weight=3 .......................\n",
      "[CV] ........ clf__max_depth=7, clf__min_child_weight=3, total= 8.5min\n",
      "[CV] clf__max_depth=9, clf__min_child_weight=1 .......................\n",
      "[CV] ........ clf__max_depth=7, clf__min_child_weight=3, total= 9.6min\n",
      "[CV] clf__max_depth=9, clf__min_child_weight=1 .......................\n",
      "[CV] ........ clf__max_depth=7, clf__min_child_weight=3, total= 9.2min\n",
      "[CV] clf__max_depth=9, clf__min_child_weight=1 .......................\n",
      "[CV] ........ clf__max_depth=8, clf__min_child_weight=1, total= 9.8min\n",
      "[CV] clf__max_depth=9, clf__min_child_weight=2 .......................\n",
      "[CV] ........ clf__max_depth=8, clf__min_child_weight=1, total=10.5min\n",
      "[CV] clf__max_depth=9, clf__min_child_weight=2 .......................\n",
      "[CV] ........ clf__max_depth=8, clf__min_child_weight=1, total=10.5min\n",
      "[CV] clf__max_depth=9, clf__min_child_weight=2 .......................\n",
      "[CV] ........ clf__max_depth=8, clf__min_child_weight=2, total= 9.8min\n",
      "[CV] clf__max_depth=9, clf__min_child_weight=3 .......................\n",
      "[CV] ........ clf__max_depth=8, clf__min_child_weight=2, total=10.4min\n",
      "[CV] clf__max_depth=9, clf__min_child_weight=3 .......................\n",
      "[CV] ........ clf__max_depth=8, clf__min_child_weight=2, total=10.4min\n",
      "[CV] clf__max_depth=9, clf__min_child_weight=3 .......................\n",
      "[CV] ........ clf__max_depth=8, clf__min_child_weight=3, total= 9.8min\n",
      "[CV] clf__max_depth=10, clf__min_child_weight=1 ......................\n",
      "[CV] ........ clf__max_depth=8, clf__min_child_weight=3, total=10.3min\n",
      "[CV] clf__max_depth=10, clf__min_child_weight=1 ......................\n",
      "[CV] ........ clf__max_depth=8, clf__min_child_weight=3, total=10.4min\n",
      "[CV] clf__max_depth=10, clf__min_child_weight=1 ......................\n",
      "[CV] ........ clf__max_depth=9, clf__min_child_weight=1, total=11.9min\n",
      "[CV] clf__max_depth=10, clf__min_child_weight=2 ......................\n",
      "[CV] ........ clf__max_depth=9, clf__min_child_weight=1, total=11.1min\n",
      "[CV] clf__max_depth=10, clf__min_child_weight=2 ......................\n",
      "[CV] ........ clf__max_depth=9, clf__min_child_weight=1, total=11.7min\n",
      "[CV] clf__max_depth=10, clf__min_child_weight=2 ......................\n",
      "[CV] ........ clf__max_depth=9, clf__min_child_weight=2, total=11.0min\n",
      "[CV] clf__max_depth=10, clf__min_child_weight=3 ......................\n",
      "[CV] ........ clf__max_depth=9, clf__min_child_weight=2, total=11.7min\n",
      "[CV] clf__max_depth=10, clf__min_child_weight=3 ......................\n",
      "[CV] ........ clf__max_depth=9, clf__min_child_weight=2, total=11.8min\n",
      "[CV] clf__max_depth=10, clf__min_child_weight=3 ......................\n",
      "[CV] ........ clf__max_depth=9, clf__min_child_weight=3, total=10.8min\n",
      "[CV] ........ clf__max_depth=9, clf__min_child_weight=3, total=11.5min\n",
      "[CV] ........ clf__max_depth=9, clf__min_child_weight=3, total=11.5min\n",
      "[CV] ....... clf__max_depth=10, clf__min_child_weight=1, total=12.1min\n",
      "[CV] ....... clf__max_depth=10, clf__min_child_weight=1, total=13.0min\n",
      "[CV] ....... clf__max_depth=10, clf__min_child_weight=1, total=12.7min\n",
      "[CV] ....... clf__max_depth=10, clf__min_child_weight=2, total=11.8min\n",
      "[CV] ....... clf__max_depth=10, clf__min_child_weight=2, total=12.6min\n",
      "[CV] ....... clf__max_depth=10, clf__min_child_weight=2, total=12.4min\n",
      "[CV] ....... clf__max_depth=10, clf__min_child_weight=3, total=11.7min\n",
      "[CV] ....... clf__max_depth=10, clf__min_child_weight=3, total=12.2min\n",
      "[CV] ....... clf__max_depth=10, clf__min_child_weight=3, total=12.0min\n"
     ]
    },
    {
     "name": "stderr",
     "output_type": "stream",
     "text": [
      "[Parallel(n_jobs=12)]: Done  72 out of  72 | elapsed: 55.8min finished\n"
     ]
    },
    {
     "data": {
      "text/plain": [
       "GridSearchCV(cv=[(array([  9347,   9348, ..., 307241, 307242]), array([     0,      1, ..., 301622, 301623])), (array([     0,      1, ..., 307241, 307242]), array([  9347,   9348, ..., 305083, 305084])), (array([     0,      1, ..., 305083, 305084]), array([ 19009,  19010, ..., 307241, 307242]))],\n",
       "       error_score='raise',\n",
       "       estimator=Pipeline(memory=None,\n",
       "     steps=[('standardize', StandardScaler(copy=True, with_mean=True, with_std=True)), ('clf', XGBClassifier(base_score=0.5, booster='gbtree', colsample_bylevel=1,\n",
       "       colsample_bytree=1, gamma=0, learning_rate=0.1, max_delta_step=0,\n",
       "       max_depth=3, min_child_w...       reg_alpha=0, reg_lambda=1, scale_pos_weight=1, seed=None,\n",
       "       silent=True, subsample=1))]),\n",
       "       fit_params=None, iid=True, n_jobs=12,\n",
       "       param_grid={'clf__max_depth': [3, 4, 5, 6, 7, 8, 9, 10], 'clf__min_child_weight': [1, 2, 3]},\n",
       "       pre_dispatch='2*n_jobs', refit=True, return_train_score=True,\n",
       "       scoring=None, verbose=2)"
      ]
     },
     "execution_count": 47,
     "metadata": {},
     "output_type": "execute_result"
    }
   ],
   "source": [
    "gscv.fit(features_df, labels)"
   ]
  },
  {
   "cell_type": "code",
   "execution_count": 51,
   "metadata": {},
   "outputs": [
    {
     "data": {
      "text/plain": [
       "{'clf__max_depth': 3, 'clf__min_child_weight': 1}"
      ]
     },
     "execution_count": 51,
     "metadata": {},
     "output_type": "execute_result"
    }
   ],
   "source": [
    "gscv.best_params_"
   ]
  },
  {
   "cell_type": "code",
   "execution_count": 52,
   "metadata": {},
   "outputs": [
    {
     "data": {
      "text/plain": [
       "0.63768743307414655"
      ]
     },
     "execution_count": 52,
     "metadata": {},
     "output_type": "execute_result"
    }
   ],
   "source": [
    "gscv.best_score_"
   ]
  },
  {
   "cell_type": "code",
   "execution_count": 54,
   "metadata": {},
   "outputs": [
    {
     "data": {
      "text/plain": [
       "dict_keys(['rank_test_score', 'split2_test_score', 'std_fit_time', 'std_score_time', 'split0_test_score', 'std_train_score', 'std_test_score', 'split0_train_score', 'param_clf__min_child_weight', 'split1_test_score', 'mean_fit_time', 'mean_train_score', 'mean_test_score', 'param_clf__max_depth', 'split2_train_score', 'params', 'split1_train_score', 'mean_score_time'])"
      ]
     },
     "execution_count": 54,
     "metadata": {},
     "output_type": "execute_result"
    }
   ],
   "source": [
    "gscv.cv_results_.keys()"
   ]
  },
  {
   "cell_type": "code",
   "execution_count": 58,
   "metadata": {},
   "outputs": [
    {
     "data": {
      "text/plain": [
       "0.79484629838441145"
      ]
     },
     "execution_count": 58,
     "metadata": {},
     "output_type": "execute_result"
    }
   ],
   "source": [
    "gscv.cv_results_['mean_train_score']"
   ]
  },
  {
   "cell_type": "code",
   "execution_count": 61,
   "metadata": {},
   "outputs": [
    {
     "data": {
      "text/plain": [
       "[{'clf__max_depth': 3, 'clf__min_child_weight': 1},\n",
       " {'clf__max_depth': 3, 'clf__min_child_weight': 2},\n",
       " {'clf__max_depth': 3, 'clf__min_child_weight': 3},\n",
       " {'clf__max_depth': 4, 'clf__min_child_weight': 1},\n",
       " {'clf__max_depth': 4, 'clf__min_child_weight': 2},\n",
       " {'clf__max_depth': 4, 'clf__min_child_weight': 3},\n",
       " {'clf__max_depth': 5, 'clf__min_child_weight': 1},\n",
       " {'clf__max_depth': 5, 'clf__min_child_weight': 2},\n",
       " {'clf__max_depth': 5, 'clf__min_child_weight': 3},\n",
       " {'clf__max_depth': 6, 'clf__min_child_weight': 1},\n",
       " {'clf__max_depth': 6, 'clf__min_child_weight': 2},\n",
       " {'clf__max_depth': 6, 'clf__min_child_weight': 3},\n",
       " {'clf__max_depth': 7, 'clf__min_child_weight': 1},\n",
       " {'clf__max_depth': 7, 'clf__min_child_weight': 2},\n",
       " {'clf__max_depth': 7, 'clf__min_child_weight': 3},\n",
       " {'clf__max_depth': 8, 'clf__min_child_weight': 1},\n",
       " {'clf__max_depth': 8, 'clf__min_child_weight': 2},\n",
       " {'clf__max_depth': 8, 'clf__min_child_weight': 3},\n",
       " {'clf__max_depth': 9, 'clf__min_child_weight': 1},\n",
       " {'clf__max_depth': 9, 'clf__min_child_weight': 2},\n",
       " {'clf__max_depth': 9, 'clf__min_child_weight': 3},\n",
       " {'clf__max_depth': 10, 'clf__min_child_weight': 1},\n",
       " {'clf__max_depth': 10, 'clf__min_child_weight': 2},\n",
       " {'clf__max_depth': 10, 'clf__min_child_weight': 3}]"
      ]
     },
     "execution_count": 61,
     "metadata": {},
     "output_type": "execute_result"
    }
   ],
   "source": [
    "gscv.cv_results_['params']"
   ]
  },
  {
   "cell_type": "code",
   "execution_count": 62,
   "metadata": {
    "scrolled": true
   },
   "outputs": [
    {
     "name": "stdout",
     "output_type": "stream",
     "text": [
      "params : {'clf__max_depth': 3, 'clf__min_child_weight': 1}\n",
      "\ttrain score : 0.702\n",
      "\ttest score : 0.638\n",
      "params : {'clf__max_depth': 3, 'clf__min_child_weight': 2}\n",
      "\ttrain score : 0.702\n",
      "\ttest score : 0.636\n",
      "params : {'clf__max_depth': 3, 'clf__min_child_weight': 3}\n",
      "\ttrain score : 0.702\n",
      "\ttest score : 0.636\n",
      "params : {'clf__max_depth': 4, 'clf__min_child_weight': 1}\n",
      "\ttrain score : 0.730\n",
      "\ttest score : 0.635\n",
      "params : {'clf__max_depth': 4, 'clf__min_child_weight': 2}\n",
      "\ttrain score : 0.730\n",
      "\ttest score : 0.634\n",
      "params : {'clf__max_depth': 4, 'clf__min_child_weight': 3}\n",
      "\ttrain score : 0.729\n",
      "\ttest score : 0.634\n",
      "params : {'clf__max_depth': 5, 'clf__min_child_weight': 1}\n",
      "\ttrain score : 0.756\n",
      "\ttest score : 0.625\n",
      "params : {'clf__max_depth': 5, 'clf__min_child_weight': 2}\n",
      "\ttrain score : 0.755\n",
      "\ttest score : 0.625\n",
      "params : {'clf__max_depth': 5, 'clf__min_child_weight': 3}\n",
      "\ttrain score : 0.756\n",
      "\ttest score : 0.625\n",
      "params : {'clf__max_depth': 6, 'clf__min_child_weight': 1}\n",
      "\ttrain score : 0.782\n",
      "\ttest score : 0.620\n",
      "params : {'clf__max_depth': 6, 'clf__min_child_weight': 2}\n",
      "\ttrain score : 0.782\n",
      "\ttest score : 0.619\n",
      "params : {'clf__max_depth': 6, 'clf__min_child_weight': 3}\n",
      "\ttrain score : 0.782\n",
      "\ttest score : 0.615\n",
      "params : {'clf__max_depth': 7, 'clf__min_child_weight': 1}\n",
      "\ttrain score : 0.808\n",
      "\ttest score : 0.615\n",
      "params : {'clf__max_depth': 7, 'clf__min_child_weight': 2}\n",
      "\ttrain score : 0.809\n",
      "\ttest score : 0.614\n",
      "params : {'clf__max_depth': 7, 'clf__min_child_weight': 3}\n",
      "\ttrain score : 0.807\n",
      "\ttest score : 0.616\n",
      "params : {'clf__max_depth': 8, 'clf__min_child_weight': 1}\n",
      "\ttrain score : 0.836\n",
      "\ttest score : 0.612\n",
      "params : {'clf__max_depth': 8, 'clf__min_child_weight': 2}\n",
      "\ttrain score : 0.834\n",
      "\ttest score : 0.609\n",
      "params : {'clf__max_depth': 8, 'clf__min_child_weight': 3}\n",
      "\ttrain score : 0.832\n",
      "\ttest score : 0.608\n",
      "params : {'clf__max_depth': 9, 'clf__min_child_weight': 1}\n",
      "\ttrain score : 0.863\n",
      "\ttest score : 0.605\n",
      "params : {'clf__max_depth': 9, 'clf__min_child_weight': 2}\n",
      "\ttrain score : 0.860\n",
      "\ttest score : 0.602\n",
      "params : {'clf__max_depth': 9, 'clf__min_child_weight': 3}\n",
      "\ttrain score : 0.857\n",
      "\ttest score : 0.605\n",
      "params : {'clf__max_depth': 10, 'clf__min_child_weight': 1}\n",
      "\ttrain score : 0.891\n",
      "\ttest score : 0.602\n",
      "params : {'clf__max_depth': 10, 'clf__min_child_weight': 2}\n",
      "\ttrain score : 0.887\n",
      "\ttest score : 0.601\n",
      "params : {'clf__max_depth': 10, 'clf__min_child_weight': 3}\n",
      "\ttrain score : 0.882\n",
      "\ttest score : 0.596\n"
     ]
    }
   ],
   "source": [
    "for i in range(len(gscv.cv_results_['mean_train_score'])):\n",
    "    train_score = gscv.cv_results_['mean_train_score'][i]\n",
    "    test_score = gscv.cv_results_['mean_test_score'][i]\n",
    "    params = gscv.cv_results_['params'][i]\n",
    "    print('params : %s' % params)\n",
    "    print('\\ttrain score : %.3f' % train_score)\n",
    "    print('\\ttest score : %.3f' % test_score)"
   ]
  },
  {
   "cell_type": "code",
   "execution_count": null,
   "metadata": {
    "collapsed": true
   },
   "outputs": [],
   "source": [
    "param_grid = {\"clf__gamma\" : [0,1,2,3,4,5]}\n",
    "steps = [('standardize', StandardScaler()),\n",
    "         ('clf', XGBClassifier(max_depth=3, min_child_weight=1))]\n",
    "clf = Pipeline(steps)\n",
    "cv = list(GroupKFold(n_splits=3).split(features_df, labels, user_ids))\n",
    "gscv = GridSearchCV(clf, param_grid=param_grid, cv=cv, n_jobs=12, verbose=2)"
   ]
  },
  {
   "cell_type": "code",
   "execution_count": 64,
   "metadata": {
    "collapsed": true
   },
   "outputs": [],
   "source": [
    "xgb.cv?"
   ]
  },
  {
   "cell_type": "code",
   "execution_count": null,
   "metadata": {
    "collapsed": true
   },
   "outputs": [],
   "source": []
  },
  {
   "cell_type": "markdown",
   "metadata": {},
   "source": [
    "### ^^^^ Optimize the shit out of this!!!\n",
    "* [Analytics Vidhya's blog about tuning xgboost](https://www.analyticsvidhya.com/blog/2016/03/complete-guide-parameter-tuning-xgboost-with-codes-python/)"
   ]
  },
  {
   "cell_type": "code",
   "execution_count": 74,
   "metadata": {
    "collapsed": true
   },
   "outputs": [],
   "source": [
    "from sklearn.preprocessing import LabelEncoder"
   ]
  },
  {
   "cell_type": "code",
   "execution_count": 99,
   "metadata": {
    "collapsed": true
   },
   "outputs": [],
   "source": [
    "def modelfit(alg, features, labels,useTrainCV=True, cv_folds=5, early_stopping_rounds=50):\n",
    "    \n",
    "    if useTrainCV:\n",
    "        xgb_param = alg.get_xgb_params()\n",
    "        xgtrain = xgb.DMatrix(features, label=labels)\n",
    "        cvresult = xgb.cv(xgb_param, xgtrain, num_boost_round=alg.get_params()['n_estimators'], nfold=cv_folds,\n",
    "                          early_stopping_rounds=early_stopping_rounds)\n",
    "        alg.set_params(n_estimators=cvresult.shape[0])\n",
    "    \n",
    "    #Fit the algorithm on the data\n",
    "    alg.fit(features_df, numeric_labels,eval_metric='auc')\n",
    "        \n",
    "    #Predict training set:\n",
    "    dtrain_predictions = alg.predict(features_df)\n",
    "    dtrain_predprob = alg.predict_proba(features_df)[:,1]\n",
    "        \n",
    "    #Print model report:\n",
    "    print(\"\\nModel Report\")\n",
    "    print(\"Accuracy : %.4g\" % metrics.accuracy_score(dtrain['Disbursed'].values, dtrain_predictions))\n",
    "    print(\"AUC Score (Train): %f\" % metrics.roc_auc_score(dtrain['Disbursed'], dtrain_predprob))\n",
    "                    \n",
    "    feat_imp = pd.Series(alg.booster().get_fscore()).sort_values(ascending=False)\n",
    "    feat_imp.plot(kind='bar', title='Feature Importances')\n",
    "    plt.ylabel('Feature Importance Score')"
   ]
  },
  {
   "cell_type": "code",
   "execution_count": 102,
   "metadata": {
    "collapsed": true
   },
   "outputs": [],
   "source": [
    "xgtrain = xgb.DMatrix(features_df, label=numeric_labels)"
   ]
  },
  {
   "cell_type": "code",
   "execution_count": 103,
   "metadata": {},
   "outputs": [
    {
     "data": {
      "text/plain": [
       "{'base_score': 0.5,\n",
       " 'booster': 'gbtree',\n",
       " 'colsample_bylevel': 1,\n",
       " 'colsample_bytree': 0.8,\n",
       " 'gamma': 0,\n",
       " 'learning_rate': 0.1,\n",
       " 'max_delta_step': 0,\n",
       " 'max_depth': 3,\n",
       " 'min_child_weight': 1,\n",
       " 'missing': None,\n",
       " 'n_estimators': 1000,\n",
       " 'n_jobs': 1,\n",
       " 'nthread': 4,\n",
       " 'num_class': 7,\n",
       " 'objective': 'multi:softprob',\n",
       " 'random_state': 0,\n",
       " 'reg_alpha': 0,\n",
       " 'reg_lambda': 1,\n",
       " 'scale_pos_weight': 1,\n",
       " 'seed': 27,\n",
       " 'silent': True,\n",
       " 'subsample': 0.8}"
      ]
     },
     "execution_count": 103,
     "metadata": {},
     "output_type": "execute_result"
    }
   ],
   "source": [
    "params = xgb1.get_params()\n",
    "params"
   ]
  },
  {
   "cell_type": "code",
   "execution_count": null,
   "metadata": {
    "collapsed": true
   },
   "outputs": [],
   "source": [
    "cvresult = xgb.cv(params,\n",
    "                  xgtrain, \n",
    "                  num_boost_round=params['n_estimators'], \n",
    "                  nfold=5, \n",
    "                  early_stopping_rounds=50)"
   ]
  },
  {
   "cell_type": "code",
   "execution_count": null,
   "metadata": {
    "collapsed": true
   },
   "outputs": [],
   "source": []
  },
  {
   "cell_type": "code",
   "execution_count": 75,
   "metadata": {
    "collapsed": true
   },
   "outputs": [],
   "source": [
    "le = LabelEncoder()\n",
    "le.fit(labels)\n",
    "numeric_labels = le.transform(labels)"
   ]
  },
  {
   "cell_type": "code",
   "execution_count": 84,
   "metadata": {},
   "outputs": [
    {
     "data": {
      "text/plain": [
       "array([4, 4, 4, ..., 2, 2, 2])"
      ]
     },
     "execution_count": 84,
     "metadata": {},
     "output_type": "execute_result"
    }
   ],
   "source": [
    "numeric_labels"
   ]
  },
  {
   "cell_type": "code",
   "execution_count": 85,
   "metadata": {},
   "outputs": [
    {
     "data": {
      "text/plain": [
       "7"
      ]
     },
     "execution_count": 85,
     "metadata": {},
     "output_type": "execute_result"
    }
   ],
   "source": [
    "len(set(numeric_labels))"
   ]
  },
  {
   "cell_type": "code",
   "execution_count": 87,
   "metadata": {},
   "outputs": [
    {
     "data": {
      "text/plain": [
       "7"
      ]
     },
     "execution_count": 87,
     "metadata": {},
     "output_type": "execute_result"
    }
   ],
   "source": [
    "len(le.classes_)"
   ]
  },
  {
   "cell_type": "code",
   "execution_count": 89,
   "metadata": {},
   "outputs": [
    {
     "data": {
      "text/plain": [
       "307243"
      ]
     },
     "execution_count": 89,
     "metadata": {},
     "output_type": "execute_result"
    }
   ],
   "source": [
    "len(numeric_labels)"
   ]
  },
  {
   "cell_type": "code",
   "execution_count": 90,
   "metadata": {},
   "outputs": [
    {
     "data": {
      "text/plain": [
       "307243"
      ]
     },
     "execution_count": 90,
     "metadata": {},
     "output_type": "execute_result"
    }
   ],
   "source": [
    "len(labels)"
   ]
  },
  {
   "cell_type": "code",
   "execution_count": 106,
   "metadata": {},
   "outputs": [
    {
     "ename": "XGBoostError",
     "evalue": "b'[10:39:59] src/metric/rank_metric.cc:88: Check failed: preds.size() == info.labels.size() (1720558 vs. 245794) label size predict size not match\\n\\nStack trace returned 10 entries:\\n[bt] (0) /usr/lib/python3.4/site-packages/xgboost/./lib/libxgboost.so(_ZN4dmlc15LogMessageFatalD1Ev+0x29) [0x7fe7946fc849]\\n[bt] (1) /usr/lib/python3.4/site-packages/xgboost/./lib/libxgboost.so(_ZNK7xgboost6metric7EvalAuc4EvalERKSt6vectorIfSaIfEERKNS_8MetaInfoEb+0x172) [0x7fe794755b62]\\n[bt] (2) /usr/lib/python3.4/site-packages/xgboost/./lib/libxgboost.so(_ZN7xgboost11LearnerImpl11EvalOneIterEiRKSt6vectorIPNS_7DMatrixESaIS3_EERKS1_ISsSaISsEE+0x26b) [0x7fe79470684b]\\n[bt] (3) /usr/lib/python3.4/site-packages/xgboost/./lib/libxgboost.so(XGBoosterEvalOneIter+0x36d) [0x7fe79485797d]\\n[bt] (4) /lib64/libffi.so.6(ffi_call_unix64+0x4c) [0x7fe7b3a59dcc]\\n[bt] (5) /lib64/libffi.so.6(ffi_call+0x1f5) [0x7fe7b3a596f5]\\n[bt] (6) /usr/lib64/python3.4/lib-dynload/_ctypes.cpython-34m.so(_ctypes_callproc+0x2fb) [0x7fe7b3c6c4fb]\\n[bt] (7) /usr/lib64/python3.4/lib-dynload/_ctypes.cpython-34m.so(+0xa5ef) [0x7fe7b3c665ef]\\n[bt] (8) /lib64/libpython3.4m.so.1.0(PyObject_Call+0x8c) [0x7fe7c0b09dcc]\\n[bt] (9) /lib64/libpython3.4m.so.1.0(PyEval_EvalFrameEx+0x3ce2) [0x7fe7c0bbcf52]\\n'",
     "output_type": "error",
     "traceback": [
      "\u001b[0;31m---------------------------------------------------------------------------\u001b[0m",
      "\u001b[0;31mXGBoostError\u001b[0m                              Traceback (most recent call last)",
      "\u001b[0;32m<ipython-input-106-acee3955ce58>\u001b[0m in \u001b[0;36m<module>\u001b[0;34m()\u001b[0m\n\u001b[1;32m     12\u001b[0m  \u001b[0mscale_pos_weight\u001b[0m\u001b[0;34m=\u001b[0m\u001b[0;36m1\u001b[0m\u001b[0;34m,\u001b[0m\u001b[0;34m\u001b[0m\u001b[0m\n\u001b[1;32m     13\u001b[0m  seed=27)\n\u001b[0;32m---> 14\u001b[0;31m \u001b[0mmodelfit\u001b[0m\u001b[0;34m(\u001b[0m\u001b[0mxgb1\u001b[0m\u001b[0;34m,\u001b[0m \u001b[0mfeatures_df\u001b[0m\u001b[0;34m,\u001b[0m \u001b[0mnumeric_labels\u001b[0m\u001b[0;34m)\u001b[0m\u001b[0;34m\u001b[0m\u001b[0m\n\u001b[0m",
      "\u001b[0;32m<ipython-input-99-b63c17363c9b>\u001b[0m in \u001b[0;36mmodelfit\u001b[0;34m(alg, features, labels, useTrainCV, cv_folds, early_stopping_rounds)\u001b[0m\n\u001b[1;32m      5\u001b[0m         \u001b[0mxgtrain\u001b[0m \u001b[0;34m=\u001b[0m \u001b[0mxgb\u001b[0m\u001b[0;34m.\u001b[0m\u001b[0mDMatrix\u001b[0m\u001b[0;34m(\u001b[0m\u001b[0mfeatures\u001b[0m\u001b[0;34m,\u001b[0m \u001b[0mlabel\u001b[0m\u001b[0;34m=\u001b[0m\u001b[0mlabels\u001b[0m\u001b[0;34m)\u001b[0m\u001b[0;34m\u001b[0m\u001b[0m\n\u001b[1;32m      6\u001b[0m         cvresult = xgb.cv(xgb_param, xgtrain, num_boost_round=alg.get_params()['n_estimators'], nfold=cv_folds,\n\u001b[0;32m----> 7\u001b[0;31m             metrics='auc', early_stopping_rounds=early_stopping_rounds)\n\u001b[0m\u001b[1;32m      8\u001b[0m         \u001b[0malg\u001b[0m\u001b[0;34m.\u001b[0m\u001b[0mset_params\u001b[0m\u001b[0;34m(\u001b[0m\u001b[0mn_estimators\u001b[0m\u001b[0;34m=\u001b[0m\u001b[0mcvresult\u001b[0m\u001b[0;34m.\u001b[0m\u001b[0mshape\u001b[0m\u001b[0;34m[\u001b[0m\u001b[0;36m0\u001b[0m\u001b[0;34m]\u001b[0m\u001b[0;34m)\u001b[0m\u001b[0;34m\u001b[0m\u001b[0m\n\u001b[1;32m      9\u001b[0m \u001b[0;34m\u001b[0m\u001b[0m\n",
      "\u001b[0;32m/usr/lib/python3.4/site-packages/xgboost/training.py\u001b[0m in \u001b[0;36mcv\u001b[0;34m(params, dtrain, num_boost_round, nfold, stratified, folds, metrics, obj, feval, maximize, early_stopping_rounds, fpreproc, as_pandas, verbose_eval, show_stdv, seed, callbacks, shuffle)\u001b[0m\n\u001b[1;32m    405\u001b[0m         \u001b[0;32mfor\u001b[0m \u001b[0mfold\u001b[0m \u001b[0;32min\u001b[0m \u001b[0mcvfolds\u001b[0m\u001b[0;34m:\u001b[0m\u001b[0;34m\u001b[0m\u001b[0m\n\u001b[1;32m    406\u001b[0m             \u001b[0mfold\u001b[0m\u001b[0;34m.\u001b[0m\u001b[0mupdate\u001b[0m\u001b[0;34m(\u001b[0m\u001b[0mi\u001b[0m\u001b[0;34m,\u001b[0m \u001b[0mobj\u001b[0m\u001b[0;34m)\u001b[0m\u001b[0;34m\u001b[0m\u001b[0m\n\u001b[0;32m--> 407\u001b[0;31m         \u001b[0mres\u001b[0m \u001b[0;34m=\u001b[0m \u001b[0maggcv\u001b[0m\u001b[0;34m(\u001b[0m\u001b[0;34m[\u001b[0m\u001b[0mf\u001b[0m\u001b[0;34m.\u001b[0m\u001b[0meval\u001b[0m\u001b[0;34m(\u001b[0m\u001b[0mi\u001b[0m\u001b[0;34m,\u001b[0m \u001b[0mfeval\u001b[0m\u001b[0;34m)\u001b[0m \u001b[0;32mfor\u001b[0m \u001b[0mf\u001b[0m \u001b[0;32min\u001b[0m \u001b[0mcvfolds\u001b[0m\u001b[0;34m]\u001b[0m\u001b[0;34m)\u001b[0m\u001b[0;34m\u001b[0m\u001b[0m\n\u001b[0m\u001b[1;32m    408\u001b[0m \u001b[0;34m\u001b[0m\u001b[0m\n\u001b[1;32m    409\u001b[0m         \u001b[0;32mfor\u001b[0m \u001b[0mkey\u001b[0m\u001b[0;34m,\u001b[0m \u001b[0mmean\u001b[0m\u001b[0;34m,\u001b[0m \u001b[0mstd\u001b[0m \u001b[0;32min\u001b[0m \u001b[0mres\u001b[0m\u001b[0;34m:\u001b[0m\u001b[0;34m\u001b[0m\u001b[0m\n",
      "\u001b[0;32m/usr/lib/python3.4/site-packages/xgboost/training.py\u001b[0m in \u001b[0;36m<listcomp>\u001b[0;34m(.0)\u001b[0m\n\u001b[1;32m    405\u001b[0m         \u001b[0;32mfor\u001b[0m \u001b[0mfold\u001b[0m \u001b[0;32min\u001b[0m \u001b[0mcvfolds\u001b[0m\u001b[0;34m:\u001b[0m\u001b[0;34m\u001b[0m\u001b[0m\n\u001b[1;32m    406\u001b[0m             \u001b[0mfold\u001b[0m\u001b[0;34m.\u001b[0m\u001b[0mupdate\u001b[0m\u001b[0;34m(\u001b[0m\u001b[0mi\u001b[0m\u001b[0;34m,\u001b[0m \u001b[0mobj\u001b[0m\u001b[0;34m)\u001b[0m\u001b[0;34m\u001b[0m\u001b[0m\n\u001b[0;32m--> 407\u001b[0;31m         \u001b[0mres\u001b[0m \u001b[0;34m=\u001b[0m \u001b[0maggcv\u001b[0m\u001b[0;34m(\u001b[0m\u001b[0;34m[\u001b[0m\u001b[0mf\u001b[0m\u001b[0;34m.\u001b[0m\u001b[0meval\u001b[0m\u001b[0;34m(\u001b[0m\u001b[0mi\u001b[0m\u001b[0;34m,\u001b[0m \u001b[0mfeval\u001b[0m\u001b[0;34m)\u001b[0m \u001b[0;32mfor\u001b[0m \u001b[0mf\u001b[0m \u001b[0;32min\u001b[0m \u001b[0mcvfolds\u001b[0m\u001b[0;34m]\u001b[0m\u001b[0;34m)\u001b[0m\u001b[0;34m\u001b[0m\u001b[0m\n\u001b[0m\u001b[1;32m    408\u001b[0m \u001b[0;34m\u001b[0m\u001b[0m\n\u001b[1;32m    409\u001b[0m         \u001b[0;32mfor\u001b[0m \u001b[0mkey\u001b[0m\u001b[0;34m,\u001b[0m \u001b[0mmean\u001b[0m\u001b[0;34m,\u001b[0m \u001b[0mstd\u001b[0m \u001b[0;32min\u001b[0m \u001b[0mres\u001b[0m\u001b[0;34m:\u001b[0m\u001b[0;34m\u001b[0m\u001b[0m\n",
      "\u001b[0;32m/usr/lib/python3.4/site-packages/xgboost/training.py\u001b[0m in \u001b[0;36meval\u001b[0;34m(self, iteration, feval)\u001b[0m\n\u001b[1;32m    220\u001b[0m     \u001b[0;32mdef\u001b[0m \u001b[0meval\u001b[0m\u001b[0;34m(\u001b[0m\u001b[0mself\u001b[0m\u001b[0;34m,\u001b[0m \u001b[0miteration\u001b[0m\u001b[0;34m,\u001b[0m \u001b[0mfeval\u001b[0m\u001b[0;34m)\u001b[0m\u001b[0;34m:\u001b[0m\u001b[0;34m\u001b[0m\u001b[0m\n\u001b[1;32m    221\u001b[0m         \u001b[0;34m\"\"\"\"Evaluate the CVPack for one iteration.\"\"\"\u001b[0m\u001b[0;34m\u001b[0m\u001b[0m\n\u001b[0;32m--> 222\u001b[0;31m         \u001b[0;32mreturn\u001b[0m \u001b[0mself\u001b[0m\u001b[0;34m.\u001b[0m\u001b[0mbst\u001b[0m\u001b[0;34m.\u001b[0m\u001b[0meval_set\u001b[0m\u001b[0;34m(\u001b[0m\u001b[0mself\u001b[0m\u001b[0;34m.\u001b[0m\u001b[0mwatchlist\u001b[0m\u001b[0;34m,\u001b[0m \u001b[0miteration\u001b[0m\u001b[0;34m,\u001b[0m \u001b[0mfeval\u001b[0m\u001b[0;34m)\u001b[0m\u001b[0;34m\u001b[0m\u001b[0m\n\u001b[0m\u001b[1;32m    223\u001b[0m \u001b[0;34m\u001b[0m\u001b[0m\n\u001b[1;32m    224\u001b[0m \u001b[0;34m\u001b[0m\u001b[0m\n",
      "\u001b[0;32m/usr/lib/python3.4/site-packages/xgboost/core.py\u001b[0m in \u001b[0;36meval_set\u001b[0;34m(self, evals, iteration, feval)\u001b[0m\n\u001b[1;32m    957\u001b[0m                                               \u001b[0mdmats\u001b[0m\u001b[0;34m,\u001b[0m \u001b[0mevnames\u001b[0m\u001b[0;34m,\u001b[0m\u001b[0;34m\u001b[0m\u001b[0m\n\u001b[1;32m    958\u001b[0m                                               \u001b[0mc_bst_ulong\u001b[0m\u001b[0;34m(\u001b[0m\u001b[0mlen\u001b[0m\u001b[0;34m(\u001b[0m\u001b[0mevals\u001b[0m\u001b[0;34m)\u001b[0m\u001b[0;34m)\u001b[0m\u001b[0;34m,\u001b[0m\u001b[0;34m\u001b[0m\u001b[0m\n\u001b[0;32m--> 959\u001b[0;31m                                               ctypes.byref(msg)))\n\u001b[0m\u001b[1;32m    960\u001b[0m         \u001b[0mres\u001b[0m \u001b[0;34m=\u001b[0m \u001b[0mmsg\u001b[0m\u001b[0;34m.\u001b[0m\u001b[0mvalue\u001b[0m\u001b[0;34m.\u001b[0m\u001b[0mdecode\u001b[0m\u001b[0;34m(\u001b[0m\u001b[0;34m)\u001b[0m\u001b[0;34m\u001b[0m\u001b[0m\n\u001b[1;32m    961\u001b[0m         \u001b[0;32mif\u001b[0m \u001b[0mfeval\u001b[0m \u001b[0;32mis\u001b[0m \u001b[0;32mnot\u001b[0m \u001b[0;32mNone\u001b[0m\u001b[0;34m:\u001b[0m\u001b[0;34m\u001b[0m\u001b[0m\n",
      "\u001b[0;32m/usr/lib/python3.4/site-packages/xgboost/core.py\u001b[0m in \u001b[0;36m_check_call\u001b[0;34m(ret)\u001b[0m\n\u001b[1;32m    128\u001b[0m     \"\"\"\n\u001b[1;32m    129\u001b[0m     \u001b[0;32mif\u001b[0m \u001b[0mret\u001b[0m \u001b[0;34m!=\u001b[0m \u001b[0;36m0\u001b[0m\u001b[0;34m:\u001b[0m\u001b[0;34m\u001b[0m\u001b[0m\n\u001b[0;32m--> 130\u001b[0;31m         \u001b[0;32mraise\u001b[0m \u001b[0mXGBoostError\u001b[0m\u001b[0;34m(\u001b[0m\u001b[0m_LIB\u001b[0m\u001b[0;34m.\u001b[0m\u001b[0mXGBGetLastError\u001b[0m\u001b[0;34m(\u001b[0m\u001b[0;34m)\u001b[0m\u001b[0;34m)\u001b[0m\u001b[0;34m\u001b[0m\u001b[0m\n\u001b[0m\u001b[1;32m    131\u001b[0m \u001b[0;34m\u001b[0m\u001b[0m\n\u001b[1;32m    132\u001b[0m \u001b[0;34m\u001b[0m\u001b[0m\n",
      "\u001b[0;31mXGBoostError\u001b[0m: b'[10:39:59] src/metric/rank_metric.cc:88: Check failed: preds.size() == info.labels.size() (1720558 vs. 245794) label size predict size not match\\n\\nStack trace returned 10 entries:\\n[bt] (0) /usr/lib/python3.4/site-packages/xgboost/./lib/libxgboost.so(_ZN4dmlc15LogMessageFatalD1Ev+0x29) [0x7fe7946fc849]\\n[bt] (1) /usr/lib/python3.4/site-packages/xgboost/./lib/libxgboost.so(_ZNK7xgboost6metric7EvalAuc4EvalERKSt6vectorIfSaIfEERKNS_8MetaInfoEb+0x172) [0x7fe794755b62]\\n[bt] (2) /usr/lib/python3.4/site-packages/xgboost/./lib/libxgboost.so(_ZN7xgboost11LearnerImpl11EvalOneIterEiRKSt6vectorIPNS_7DMatrixESaIS3_EERKS1_ISsSaISsEE+0x26b) [0x7fe79470684b]\\n[bt] (3) /usr/lib/python3.4/site-packages/xgboost/./lib/libxgboost.so(XGBoosterEvalOneIter+0x36d) [0x7fe79485797d]\\n[bt] (4) /lib64/libffi.so.6(ffi_call_unix64+0x4c) [0x7fe7b3a59dcc]\\n[bt] (5) /lib64/libffi.so.6(ffi_call+0x1f5) [0x7fe7b3a596f5]\\n[bt] (6) /usr/lib64/python3.4/lib-dynload/_ctypes.cpython-34m.so(_ctypes_callproc+0x2fb) [0x7fe7b3c6c4fb]\\n[bt] (7) /usr/lib64/python3.4/lib-dynload/_ctypes.cpython-34m.so(+0xa5ef) [0x7fe7b3c665ef]\\n[bt] (8) /lib64/libpython3.4m.so.1.0(PyObject_Call+0x8c) [0x7fe7c0b09dcc]\\n[bt] (9) /lib64/libpython3.4m.so.1.0(PyEval_EvalFrameEx+0x3ce2) [0x7fe7c0bbcf52]\\n'"
     ]
    }
   ],
   "source": [
    "xgb1 = XGBClassifier(\n",
    " learning_rate =0.1,\n",
    " n_estimators=1000,\n",
    " max_depth=3,\n",
    " min_child_weight=1,\n",
    " gamma=0,\n",
    " num_class = len(le.classes_),\n",
    " subsample=0.8,\n",
    " colsample_bytree=0.8,\n",
    " objective= 'multi:softmax',\n",
    " nthread=4,\n",
    " scale_pos_weight=1,\n",
    " seed=27)\n",
    "modelfit(xgb1, features_df, numeric_labels)"
   ]
  },
  {
   "cell_type": "code",
   "execution_count": 98,
   "metadata": {},
   "outputs": [
    {
     "data": {
      "text/plain": [
       "True"
      ]
     },
     "execution_count": 98,
     "metadata": {},
     "output_type": "execute_result"
    }
   ],
   "source": [
    "len(features_df) == len(numeric_labels)"
   ]
  },
  {
   "cell_type": "markdown",
   "metadata": {},
   "source": [
    "# Attempting one vs. rest with regression models\n",
    "* [Drawing from Sklearn's page](http://scikit-learn.org/stable/modules/multiclass.html#one-vs-the-rest)"
   ]
  },
  {
   "cell_type": "markdown",
   "metadata": {},
   "source": [
    "# Maybe also consider [Deep Forest](https://github.com/kingfengji/gcForest)"
   ]
  },
  {
   "cell_type": "code",
   "execution_count": 80,
   "metadata": {
    "collapsed": true
   },
   "outputs": [],
   "source": [
    "xgb.DMatrix?"
   ]
  },
  {
   "cell_type": "code",
   "execution_count": 77,
   "metadata": {
    "collapsed": true
   },
   "outputs": [],
   "source": [
    "xgb.cv?"
   ]
  },
  {
   "cell_type": "code",
   "execution_count": 81,
   "metadata": {
    "collapsed": true
   },
   "outputs": [],
   "source": [
    "xgb.XGBClassifier?"
   ]
  },
  {
   "cell_type": "code",
   "execution_count": null,
   "metadata": {
    "collapsed": true
   },
   "outputs": [],
   "source": []
  }
 ],
 "metadata": {
  "kernelspec": {
   "display_name": "Python 3",
   "language": "python",
   "name": "python3"
  },
  "language_info": {
   "codemirror_mode": {
    "name": "ipython",
    "version": 3
   },
   "file_extension": ".py",
   "mimetype": "text/x-python",
   "name": "python",
   "nbconvert_exporter": "python",
   "pygments_lexer": "ipython3",
   "version": "3.4.5"
  }
 },
 "nbformat": 4,
 "nbformat_minor": 2
}
