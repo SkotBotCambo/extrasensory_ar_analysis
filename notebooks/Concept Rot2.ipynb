{
 "cells": [
  {
   "cell_type": "markdown",
   "metadata": {},
   "source": [
    "# Model Personalization"
   ]
  },
  {
   "cell_type": "markdown",
   "metadata": {},
   "source": [
    "### H1: The accuracy of a model trained at time, *t*, and predicting on time, *t+i*, will have diminishing predictive accuracy as *i* increases"
   ]
  },
  {
   "cell_type": "code",
   "execution_count": 2,
   "metadata": {},
   "outputs": [],
   "source": [
    "import pandas as pd\n",
    "import numpy as np\n",
    "import time\n",
    "import importlib.machinery\n",
    "import sys\n",
    "sys.path.append('/home/sac086/extrasensory/')\n",
    "import extrasense as es\n",
    "from xgboost import XGBClassifier\n",
    "from sklearn.metrics import accuracy_score, make_scorer\n",
    "from sklearn.preprocessing import StandardScaler, MinMaxScaler\n",
    "from sklearn.model_selection import GroupShuffleSplit, GroupKFold, cross_val_score, GridSearchCV\n",
    "from sklearn.pipeline import Pipeline"
   ]
  },
  {
   "cell_type": "code",
   "execution_count": 3,
   "metadata": {
    "collapsed": true
   },
   "outputs": [],
   "source": [
    "features_df = es.get_impersonal_data(leave_users_out=[], data_type=\"activity\", labeled_only=False)\n",
    "\n",
    "# remove nan rows\n",
    "no_label_indeces = features_df.label.isnull()\n",
    "features_df = features_df[~no_label_indeces]\n",
    "\n",
    "timestamps = features_df.pop('timestamp')\n",
    "label_source = features_df.pop(\"label_source\")\n",
    "labels = features_df.pop(\"label\")\n",
    "user_ids = features_df.pop(\"user_id\")"
   ]
  },
  {
   "cell_type": "markdown",
   "metadata": {},
   "source": [
    "# Step 1 : Find users who labeled a variety of things early on in their participation"
   ]
  },
  {
   "cell_type": "code",
   "execution_count": 3,
   "metadata": {
    "collapsed": true
   },
   "outputs": [],
   "source": [
    "users_df = es.get_impersonal_data(leave_users_out=[], data_type=\"activity\", labeled_only=False)"
   ]
  },
  {
   "cell_type": "code",
   "execution_count": 4,
   "metadata": {
    "collapsed": true
   },
   "outputs": [],
   "source": [
    "from collections import Counter"
   ]
  },
  {
   "cell_type": "code",
   "execution_count": 5,
   "metadata": {
    "collapsed": true
   },
   "outputs": [],
   "source": [
    "# who contributed the most data?\n",
    "activities = labels.unique()\n",
    "\n",
    "rows = []\n",
    "for user_id in es.user_ids:\n",
    "    user_df = users_df[users_df['user_id'] == user_id]\n",
    "    user_counts = Counter(user_df.label)\n",
    "        \n",
    "    row = {str(val) : user_counts[val] for val in activities}\n",
    "    row['user id'] = user_id\n",
    "    row['total'] = np.sum([val for val in user_counts.values()])\n",
    "    # find number of days of participation too\n",
    "    row['days participated'] = (user_df.timestamp.max() - user_df.timestamp.min()) / (3600 * 24)\n",
    "    rows.append(row)"
   ]
  },
  {
   "cell_type": "code",
   "execution_count": 6,
   "metadata": {
    "collapsed": true
   },
   "outputs": [],
   "source": [
    "data_df = pd.DataFrame(rows)"
   ]
  },
  {
   "cell_type": "code",
   "execution_count": 7,
   "metadata": {},
   "outputs": [
    {
     "data": {
      "text/html": [
       "<div>\n",
       "<style scoped>\n",
       "    .dataframe tbody tr th:only-of-type {\n",
       "        vertical-align: middle;\n",
       "    }\n",
       "\n",
       "    .dataframe tbody tr th {\n",
       "        vertical-align: top;\n",
       "    }\n",
       "\n",
       "    .dataframe thead th {\n",
       "        text-align: right;\n",
       "    }\n",
       "</style>\n",
       "<table border=\"1\" class=\"dataframe\">\n",
       "  <thead>\n",
       "    <tr style=\"text-align: right;\">\n",
       "      <th></th>\n",
       "      <th>BICYCLING</th>\n",
       "      <th>FIX_running</th>\n",
       "      <th>FIX_walking</th>\n",
       "      <th>LYING_DOWN</th>\n",
       "      <th>SITTING</th>\n",
       "      <th>STAIRS_-_GOING_DOWN</th>\n",
       "      <th>STAIRS_-_GOING_UP</th>\n",
       "      <th>days participated</th>\n",
       "      <th>total</th>\n",
       "      <th>user id</th>\n",
       "    </tr>\n",
       "  </thead>\n",
       "  <tbody>\n",
       "    <tr>\n",
       "      <th>0</th>\n",
       "      <td>120</td>\n",
       "      <td>33</td>\n",
       "      <td>187</td>\n",
       "      <td>2882</td>\n",
       "      <td>2246</td>\n",
       "      <td>0</td>\n",
       "      <td>0</td>\n",
       "      <td>28.136505</td>\n",
       "      <td>6808</td>\n",
       "      <td>098A72A5-E3E5-4F54-A152-BBDA0DF7B694</td>\n",
       "    </tr>\n",
       "    <tr>\n",
       "      <th>1</th>\n",
       "      <td>0</td>\n",
       "      <td>7</td>\n",
       "      <td>190</td>\n",
       "      <td>1415</td>\n",
       "      <td>2253</td>\n",
       "      <td>7</td>\n",
       "      <td>7</td>\n",
       "      <td>2.987384</td>\n",
       "      <td>3960</td>\n",
       "      <td>0A986513-7828-4D53-AA1F-E02D6DF9561B</td>\n",
       "    </tr>\n",
       "    <tr>\n",
       "      <th>2</th>\n",
       "      <td>106</td>\n",
       "      <td>35</td>\n",
       "      <td>375</td>\n",
       "      <td>0</td>\n",
       "      <td>1671</td>\n",
       "      <td>0</td>\n",
       "      <td>0</td>\n",
       "      <td>6.982650</td>\n",
       "      <td>3090</td>\n",
       "      <td>0BFC35E2-4817-4865-BFA7-764742302A2D</td>\n",
       "    </tr>\n",
       "    <tr>\n",
       "      <th>3</th>\n",
       "      <td>0</td>\n",
       "      <td>0</td>\n",
       "      <td>1532</td>\n",
       "      <td>2855</td>\n",
       "      <td>3088</td>\n",
       "      <td>0</td>\n",
       "      <td>0</td>\n",
       "      <td>6.968553</td>\n",
       "      <td>7513</td>\n",
       "      <td>0E6184E1-90C0-48EE-B25A-F1ECB7B9714E</td>\n",
       "    </tr>\n",
       "    <tr>\n",
       "      <th>4</th>\n",
       "      <td>0</td>\n",
       "      <td>1</td>\n",
       "      <td>158</td>\n",
       "      <td>979</td>\n",
       "      <td>1543</td>\n",
       "      <td>0</td>\n",
       "      <td>0</td>\n",
       "      <td>8.769792</td>\n",
       "      <td>2685</td>\n",
       "      <td>1155FF54-63D3-4AB2-9863-8385D0BD0A13</td>\n",
       "    </tr>\n",
       "  </tbody>\n",
       "</table>\n",
       "</div>"
      ],
      "text/plain": [
       "   BICYCLING  FIX_running  FIX_walking  LYING_DOWN  SITTING  \\\n",
       "0        120           33          187        2882     2246   \n",
       "1          0            7          190        1415     2253   \n",
       "2        106           35          375           0     1671   \n",
       "3          0            0         1532        2855     3088   \n",
       "4          0            1          158         979     1543   \n",
       "\n",
       "   STAIRS_-_GOING_DOWN  STAIRS_-_GOING_UP  days participated  total  \\\n",
       "0                    0                  0          28.136505   6808   \n",
       "1                    7                  7           2.987384   3960   \n",
       "2                    0                  0           6.982650   3090   \n",
       "3                    0                  0           6.968553   7513   \n",
       "4                    0                  0           8.769792   2685   \n",
       "\n",
       "                                user id  \n",
       "0  098A72A5-E3E5-4F54-A152-BBDA0DF7B694  \n",
       "1  0A986513-7828-4D53-AA1F-E02D6DF9561B  \n",
       "2  0BFC35E2-4817-4865-BFA7-764742302A2D  \n",
       "3  0E6184E1-90C0-48EE-B25A-F1ECB7B9714E  \n",
       "4  1155FF54-63D3-4AB2-9863-8385D0BD0A13  "
      ]
     },
     "execution_count": 7,
     "metadata": {},
     "output_type": "execute_result"
    }
   ],
   "source": [
    "data_df.head()"
   ]
  },
  {
   "cell_type": "code",
   "execution_count": 8,
   "metadata": {
    "collapsed": true
   },
   "outputs": [],
   "source": [
    "users_to_keep = data_df[data_df['days participated'] > 7]"
   ]
  },
  {
   "cell_type": "code",
   "execution_count": 9,
   "metadata": {},
   "outputs": [
    {
     "data": {
      "text/html": [
       "<div>\n",
       "<style scoped>\n",
       "    .dataframe tbody tr th:only-of-type {\n",
       "        vertical-align: middle;\n",
       "    }\n",
       "\n",
       "    .dataframe tbody tr th {\n",
       "        vertical-align: top;\n",
       "    }\n",
       "\n",
       "    .dataframe thead th {\n",
       "        text-align: right;\n",
       "    }\n",
       "</style>\n",
       "<table border=\"1\" class=\"dataframe\">\n",
       "  <thead>\n",
       "    <tr style=\"text-align: right;\">\n",
       "      <th></th>\n",
       "      <th>BICYCLING</th>\n",
       "      <th>FIX_running</th>\n",
       "      <th>FIX_walking</th>\n",
       "      <th>LYING_DOWN</th>\n",
       "      <th>SITTING</th>\n",
       "      <th>STAIRS_-_GOING_DOWN</th>\n",
       "      <th>STAIRS_-_GOING_UP</th>\n",
       "      <th>days participated</th>\n",
       "      <th>total</th>\n",
       "      <th>user id</th>\n",
       "    </tr>\n",
       "  </thead>\n",
       "  <tbody>\n",
       "    <tr>\n",
       "      <th>0</th>\n",
       "      <td>120</td>\n",
       "      <td>33</td>\n",
       "      <td>187</td>\n",
       "      <td>2882</td>\n",
       "      <td>2246</td>\n",
       "      <td>0</td>\n",
       "      <td>0</td>\n",
       "      <td>28.136505</td>\n",
       "      <td>6808</td>\n",
       "      <td>098A72A5-E3E5-4F54-A152-BBDA0DF7B694</td>\n",
       "    </tr>\n",
       "    <tr>\n",
       "      <th>4</th>\n",
       "      <td>0</td>\n",
       "      <td>1</td>\n",
       "      <td>158</td>\n",
       "      <td>979</td>\n",
       "      <td>1543</td>\n",
       "      <td>0</td>\n",
       "      <td>0</td>\n",
       "      <td>8.769792</td>\n",
       "      <td>2685</td>\n",
       "      <td>1155FF54-63D3-4AB2-9863-8385D0BD0A13</td>\n",
       "    </tr>\n",
       "    <tr>\n",
       "      <th>5</th>\n",
       "      <td>62</td>\n",
       "      <td>0</td>\n",
       "      <td>164</td>\n",
       "      <td>3583</td>\n",
       "      <td>1694</td>\n",
       "      <td>0</td>\n",
       "      <td>74</td>\n",
       "      <td>7.084676</td>\n",
       "      <td>8845</td>\n",
       "      <td>11B5EC4D-4133-4289-B475-4E737182A406</td>\n",
       "    </tr>\n",
       "    <tr>\n",
       "      <th>6</th>\n",
       "      <td>0</td>\n",
       "      <td>0</td>\n",
       "      <td>765</td>\n",
       "      <td>2040</td>\n",
       "      <td>3153</td>\n",
       "      <td>0</td>\n",
       "      <td>29</td>\n",
       "      <td>7.017407</td>\n",
       "      <td>6218</td>\n",
       "      <td>136562B6-95B2-483D-88DC-065F28409FD2</td>\n",
       "    </tr>\n",
       "    <tr>\n",
       "      <th>8</th>\n",
       "      <td>0</td>\n",
       "      <td>47</td>\n",
       "      <td>925</td>\n",
       "      <td>2779</td>\n",
       "      <td>3441</td>\n",
       "      <td>0</td>\n",
       "      <td>0</td>\n",
       "      <td>7.703831</td>\n",
       "      <td>7371</td>\n",
       "      <td>1DBB0F6F-1F81-4A50-9DF4-CD62ACFA4842</td>\n",
       "    </tr>\n",
       "    <tr>\n",
       "      <th>9</th>\n",
       "      <td>59</td>\n",
       "      <td>0</td>\n",
       "      <td>363</td>\n",
       "      <td>1037</td>\n",
       "      <td>1728</td>\n",
       "      <td>0</td>\n",
       "      <td>43</td>\n",
       "      <td>11.445544</td>\n",
       "      <td>4771</td>\n",
       "      <td>24E40C4C-A349-4F9F-93AB-01D00FB994AF</td>\n",
       "    </tr>\n",
       "    <tr>\n",
       "      <th>10</th>\n",
       "      <td>0</td>\n",
       "      <td>0</td>\n",
       "      <td>207</td>\n",
       "      <td>1439</td>\n",
       "      <td>1184</td>\n",
       "      <td>0</td>\n",
       "      <td>55</td>\n",
       "      <td>7.873090</td>\n",
       "      <td>4925</td>\n",
       "      <td>27E04243-B138-4F40-A164-F40B60165CF3</td>\n",
       "    </tr>\n",
       "    <tr>\n",
       "      <th>12</th>\n",
       "      <td>150</td>\n",
       "      <td>0</td>\n",
       "      <td>454</td>\n",
       "      <td>2380</td>\n",
       "      <td>1810</td>\n",
       "      <td>0</td>\n",
       "      <td>0</td>\n",
       "      <td>7.098634</td>\n",
       "      <td>6164</td>\n",
       "      <td>33A85C34-CFE4-4732-9E73-0A7AC861B27A</td>\n",
       "    </tr>\n",
       "    <tr>\n",
       "      <th>13</th>\n",
       "      <td>0</td>\n",
       "      <td>0</td>\n",
       "      <td>132</td>\n",
       "      <td>1720</td>\n",
       "      <td>1916</td>\n",
       "      <td>0</td>\n",
       "      <td>0</td>\n",
       "      <td>7.813542</td>\n",
       "      <td>5203</td>\n",
       "      <td>3600D531-0C55-44A7-AE95-A7A38519464E</td>\n",
       "    </tr>\n",
       "    <tr>\n",
       "      <th>15</th>\n",
       "      <td>0</td>\n",
       "      <td>0</td>\n",
       "      <td>1141</td>\n",
       "      <td>1429</td>\n",
       "      <td>3485</td>\n",
       "      <td>0</td>\n",
       "      <td>5</td>\n",
       "      <td>8.907650</td>\n",
       "      <td>6690</td>\n",
       "      <td>481F4DD2-7689-43B9-A2AA-C8772227162B</td>\n",
       "    </tr>\n",
       "    <tr>\n",
       "      <th>23</th>\n",
       "      <td>232</td>\n",
       "      <td>0</td>\n",
       "      <td>234</td>\n",
       "      <td>2723</td>\n",
       "      <td>2731</td>\n",
       "      <td>0</td>\n",
       "      <td>0</td>\n",
       "      <td>7.267431</td>\n",
       "      <td>6072</td>\n",
       "      <td>61359772-D8D8-480D-B623-7C636EAD0C81</td>\n",
       "    </tr>\n",
       "    <tr>\n",
       "      <th>24</th>\n",
       "      <td>0</td>\n",
       "      <td>1</td>\n",
       "      <td>412</td>\n",
       "      <td>1861</td>\n",
       "      <td>3467</td>\n",
       "      <td>0</td>\n",
       "      <td>0</td>\n",
       "      <td>121.897639</td>\n",
       "      <td>8730</td>\n",
       "      <td>61976C24-1C50-4355-9C49-AAE44A7D09F6</td>\n",
       "    </tr>\n",
       "    <tr>\n",
       "      <th>27</th>\n",
       "      <td>290</td>\n",
       "      <td>0</td>\n",
       "      <td>193</td>\n",
       "      <td>4126</td>\n",
       "      <td>3706</td>\n",
       "      <td>0</td>\n",
       "      <td>0</td>\n",
       "      <td>9.263241</td>\n",
       "      <td>11996</td>\n",
       "      <td>78A91A4E-4A51-4065-BDA7-94755F0BB3BB</td>\n",
       "    </tr>\n",
       "    <tr>\n",
       "      <th>31</th>\n",
       "      <td>362</td>\n",
       "      <td>0</td>\n",
       "      <td>275</td>\n",
       "      <td>4434</td>\n",
       "      <td>2765</td>\n",
       "      <td>0</td>\n",
       "      <td>0</td>\n",
       "      <td>7.961458</td>\n",
       "      <td>9189</td>\n",
       "      <td>8023FE1A-D3B0-4E2C-A57A-9321B7FC755F</td>\n",
       "    </tr>\n",
       "    <tr>\n",
       "      <th>32</th>\n",
       "      <td>0</td>\n",
       "      <td>50</td>\n",
       "      <td>506</td>\n",
       "      <td>4749</td>\n",
       "      <td>3668</td>\n",
       "      <td>0</td>\n",
       "      <td>0</td>\n",
       "      <td>7.010370</td>\n",
       "      <td>9242</td>\n",
       "      <td>806289BC-AD52-4CC1-806C-0CDB14D65EB6</td>\n",
       "    </tr>\n",
       "    <tr>\n",
       "      <th>33</th>\n",
       "      <td>579</td>\n",
       "      <td>0</td>\n",
       "      <td>78</td>\n",
       "      <td>2691</td>\n",
       "      <td>2141</td>\n",
       "      <td>0</td>\n",
       "      <td>0</td>\n",
       "      <td>7.040984</td>\n",
       "      <td>6343</td>\n",
       "      <td>81536B0A-8DBF-4D8A-AC24-9543E2E4C8E0</td>\n",
       "    </tr>\n",
       "    <tr>\n",
       "      <th>34</th>\n",
       "      <td>0</td>\n",
       "      <td>0</td>\n",
       "      <td>658</td>\n",
       "      <td>3744</td>\n",
       "      <td>4488</td>\n",
       "      <td>0</td>\n",
       "      <td>0</td>\n",
       "      <td>7.013414</td>\n",
       "      <td>9539</td>\n",
       "      <td>83CF687B-7CEC-434B-9FE8-00C3D5799BE6</td>\n",
       "    </tr>\n",
       "    <tr>\n",
       "      <th>35</th>\n",
       "      <td>0</td>\n",
       "      <td>0</td>\n",
       "      <td>175</td>\n",
       "      <td>4024</td>\n",
       "      <td>207</td>\n",
       "      <td>0</td>\n",
       "      <td>0</td>\n",
       "      <td>11.803750</td>\n",
       "      <td>10716</td>\n",
       "      <td>86A4F379-B305-473D-9D83-FC7D800180EF</td>\n",
       "    </tr>\n",
       "    <tr>\n",
       "      <th>36</th>\n",
       "      <td>0</td>\n",
       "      <td>0</td>\n",
       "      <td>28</td>\n",
       "      <td>1201</td>\n",
       "      <td>553</td>\n",
       "      <td>0</td>\n",
       "      <td>0</td>\n",
       "      <td>8.035822</td>\n",
       "      <td>5811</td>\n",
       "      <td>96A358A0-FFF2-4239-B93E-C7425B901B47</td>\n",
       "    </tr>\n",
       "    <tr>\n",
       "      <th>38</th>\n",
       "      <td>126</td>\n",
       "      <td>0</td>\n",
       "      <td>468</td>\n",
       "      <td>2675</td>\n",
       "      <td>2215</td>\n",
       "      <td>0</td>\n",
       "      <td>62</td>\n",
       "      <td>7.778576</td>\n",
       "      <td>6028</td>\n",
       "      <td>99B204C0-DD5C-4BB7-83E8-A37281B8D769</td>\n",
       "    </tr>\n",
       "    <tr>\n",
       "      <th>41</th>\n",
       "      <td>0</td>\n",
       "      <td>36</td>\n",
       "      <td>205</td>\n",
       "      <td>1179</td>\n",
       "      <td>2577</td>\n",
       "      <td>0</td>\n",
       "      <td>1</td>\n",
       "      <td>8.466192</td>\n",
       "      <td>6040</td>\n",
       "      <td>A5CDF89D-02A2-4EC1-89F8-F534FDABDD96</td>\n",
       "    </tr>\n",
       "    <tr>\n",
       "      <th>44</th>\n",
       "      <td>122</td>\n",
       "      <td>95</td>\n",
       "      <td>294</td>\n",
       "      <td>2780</td>\n",
       "      <td>1359</td>\n",
       "      <td>0</td>\n",
       "      <td>0</td>\n",
       "      <td>10.950509</td>\n",
       "      <td>8134</td>\n",
       "      <td>B09E373F-8A54-44C8-895B-0039390B859F</td>\n",
       "    </tr>\n",
       "    <tr>\n",
       "      <th>45</th>\n",
       "      <td>0</td>\n",
       "      <td>2</td>\n",
       "      <td>261</td>\n",
       "      <td>3652</td>\n",
       "      <td>4226</td>\n",
       "      <td>0</td>\n",
       "      <td>0</td>\n",
       "      <td>7.740081</td>\n",
       "      <td>9383</td>\n",
       "      <td>B7F9D634-263E-4A97-87F9-6FFB4DDCB36C</td>\n",
       "    </tr>\n",
       "    <tr>\n",
       "      <th>56</th>\n",
       "      <td>0</td>\n",
       "      <td>0</td>\n",
       "      <td>163</td>\n",
       "      <td>850</td>\n",
       "      <td>1106</td>\n",
       "      <td>0</td>\n",
       "      <td>0</td>\n",
       "      <td>7.773924</td>\n",
       "      <td>2287</td>\n",
       "      <td>00EABED2-271D-49D8-B599-1D4A09240601</td>\n",
       "    </tr>\n",
       "    <tr>\n",
       "      <th>57</th>\n",
       "      <td>0</td>\n",
       "      <td>0</td>\n",
       "      <td>156</td>\n",
       "      <td>126</td>\n",
       "      <td>956</td>\n",
       "      <td>0</td>\n",
       "      <td>0</td>\n",
       "      <td>10.916308</td>\n",
       "      <td>3530</td>\n",
       "      <td>ECECC2AB-D32F-4F90-B74C-E12A1C69BBE2</td>\n",
       "    </tr>\n",
       "    <tr>\n",
       "      <th>59</th>\n",
       "      <td>0</td>\n",
       "      <td>0</td>\n",
       "      <td>223</td>\n",
       "      <td>839</td>\n",
       "      <td>1096</td>\n",
       "      <td>0</td>\n",
       "      <td>0</td>\n",
       "      <td>7.012257</td>\n",
       "      <td>4973</td>\n",
       "      <td>FDAA70A1-42A3-4E3F-9AE3-3FDA412E03BF</td>\n",
       "    </tr>\n",
       "  </tbody>\n",
       "</table>\n",
       "</div>"
      ],
      "text/plain": [
       "    BICYCLING  FIX_running  FIX_walking  LYING_DOWN  SITTING  \\\n",
       "0         120           33          187        2882     2246   \n",
       "4           0            1          158         979     1543   \n",
       "5          62            0          164        3583     1694   \n",
       "6           0            0          765        2040     3153   \n",
       "8           0           47          925        2779     3441   \n",
       "9          59            0          363        1037     1728   \n",
       "10          0            0          207        1439     1184   \n",
       "12        150            0          454        2380     1810   \n",
       "13          0            0          132        1720     1916   \n",
       "15          0            0         1141        1429     3485   \n",
       "23        232            0          234        2723     2731   \n",
       "24          0            1          412        1861     3467   \n",
       "27        290            0          193        4126     3706   \n",
       "31        362            0          275        4434     2765   \n",
       "32          0           50          506        4749     3668   \n",
       "33        579            0           78        2691     2141   \n",
       "34          0            0          658        3744     4488   \n",
       "35          0            0          175        4024      207   \n",
       "36          0            0           28        1201      553   \n",
       "38        126            0          468        2675     2215   \n",
       "41          0           36          205        1179     2577   \n",
       "44        122           95          294        2780     1359   \n",
       "45          0            2          261        3652     4226   \n",
       "56          0            0          163         850     1106   \n",
       "57          0            0          156         126      956   \n",
       "59          0            0          223         839     1096   \n",
       "\n",
       "    STAIRS_-_GOING_DOWN  STAIRS_-_GOING_UP  days participated  total  \\\n",
       "0                     0                  0          28.136505   6808   \n",
       "4                     0                  0           8.769792   2685   \n",
       "5                     0                 74           7.084676   8845   \n",
       "6                     0                 29           7.017407   6218   \n",
       "8                     0                  0           7.703831   7371   \n",
       "9                     0                 43          11.445544   4771   \n",
       "10                    0                 55           7.873090   4925   \n",
       "12                    0                  0           7.098634   6164   \n",
       "13                    0                  0           7.813542   5203   \n",
       "15                    0                  5           8.907650   6690   \n",
       "23                    0                  0           7.267431   6072   \n",
       "24                    0                  0         121.897639   8730   \n",
       "27                    0                  0           9.263241  11996   \n",
       "31                    0                  0           7.961458   9189   \n",
       "32                    0                  0           7.010370   9242   \n",
       "33                    0                  0           7.040984   6343   \n",
       "34                    0                  0           7.013414   9539   \n",
       "35                    0                  0          11.803750  10716   \n",
       "36                    0                  0           8.035822   5811   \n",
       "38                    0                 62           7.778576   6028   \n",
       "41                    0                  1           8.466192   6040   \n",
       "44                    0                  0          10.950509   8134   \n",
       "45                    0                  0           7.740081   9383   \n",
       "56                    0                  0           7.773924   2287   \n",
       "57                    0                  0          10.916308   3530   \n",
       "59                    0                  0           7.012257   4973   \n",
       "\n",
       "                                 user id  \n",
       "0   098A72A5-E3E5-4F54-A152-BBDA0DF7B694  \n",
       "4   1155FF54-63D3-4AB2-9863-8385D0BD0A13  \n",
       "5   11B5EC4D-4133-4289-B475-4E737182A406  \n",
       "6   136562B6-95B2-483D-88DC-065F28409FD2  \n",
       "8   1DBB0F6F-1F81-4A50-9DF4-CD62ACFA4842  \n",
       "9   24E40C4C-A349-4F9F-93AB-01D00FB994AF  \n",
       "10  27E04243-B138-4F40-A164-F40B60165CF3  \n",
       "12  33A85C34-CFE4-4732-9E73-0A7AC861B27A  \n",
       "13  3600D531-0C55-44A7-AE95-A7A38519464E  \n",
       "15  481F4DD2-7689-43B9-A2AA-C8772227162B  \n",
       "23  61359772-D8D8-480D-B623-7C636EAD0C81  \n",
       "24  61976C24-1C50-4355-9C49-AAE44A7D09F6  \n",
       "27  78A91A4E-4A51-4065-BDA7-94755F0BB3BB  \n",
       "31  8023FE1A-D3B0-4E2C-A57A-9321B7FC755F  \n",
       "32  806289BC-AD52-4CC1-806C-0CDB14D65EB6  \n",
       "33  81536B0A-8DBF-4D8A-AC24-9543E2E4C8E0  \n",
       "34  83CF687B-7CEC-434B-9FE8-00C3D5799BE6  \n",
       "35  86A4F379-B305-473D-9D83-FC7D800180EF  \n",
       "36  96A358A0-FFF2-4239-B93E-C7425B901B47  \n",
       "38  99B204C0-DD5C-4BB7-83E8-A37281B8D769  \n",
       "41  A5CDF89D-02A2-4EC1-89F8-F534FDABDD96  \n",
       "44  B09E373F-8A54-44C8-895B-0039390B859F  \n",
       "45  B7F9D634-263E-4A97-87F9-6FFB4DDCB36C  \n",
       "56  00EABED2-271D-49D8-B599-1D4A09240601  \n",
       "57  ECECC2AB-D32F-4F90-B74C-E12A1C69BBE2  \n",
       "59  FDAA70A1-42A3-4E3F-9AE3-3FDA412E03BF  "
      ]
     },
     "execution_count": 9,
     "metadata": {},
     "output_type": "execute_result"
    }
   ],
   "source": [
    "users_to_keep"
   ]
  },
  {
   "cell_type": "markdown",
   "metadata": {},
   "source": [
    "### For users that participated for more than one day, train a personal model at t=1 and predict at t=2, t=3, t=4, etc."
   ]
  },
  {
   "cell_type": "markdown",
   "metadata": {},
   "source": [
    "#### Use [XGBoost](Tuning XGBoost.ipynb)"
   ]
  },
  {
   "cell_type": "code",
   "execution_count": 11,
   "metadata": {
    "collapsed": true
   },
   "outputs": [],
   "source": [
    "norm_timestamps = es.get_normalized_timestamps(users_df)\n",
    "users_df['norm_timestamps'] = norm_timestamps  "
   ]
  },
  {
   "cell_type": "markdown",
   "metadata": {},
   "source": [
    "## One Person Test"
   ]
  },
  {
   "cell_type": "code",
   "execution_count": 12,
   "metadata": {
    "collapsed": true
   },
   "outputs": [],
   "source": [
    "test_user = \"81536B0A-8DBF-4D8A-AC24-9543E2E4C8E0\" # this user has a fair variety, but not perfect"
   ]
  },
  {
   "cell_type": "code",
   "execution_count": 13,
   "metadata": {
    "collapsed": true
   },
   "outputs": [],
   "source": [
    "impersonal_df = users_df[users_df['user_id'] != test_user]\n",
    "personal_df = users_df[users_df['user_id'] == test_user]"
   ]
  },
  {
   "cell_type": "markdown",
   "metadata": {},
   "source": [
    "### Personal Model"
   ]
  },
  {
   "cell_type": "code",
   "execution_count": 27,
   "metadata": {
    "collapsed": true
   },
   "outputs": [],
   "source": [
    "day_one_df = personal_df[personal_df['norm_timestamps'] < 1]"
   ]
  },
  {
   "cell_type": "code",
   "execution_count": 17,
   "metadata": {
    "collapsed": true
   },
   "outputs": [],
   "source": [
    "from collections import Counter"
   ]
  },
  {
   "cell_type": "code",
   "execution_count": 28,
   "metadata": {},
   "outputs": [
    {
     "data": {
      "text/plain": [
       "Counter({nan: 152,\n",
       "         'FIX_walking': 25,\n",
       "         'LYING_DOWN': 450,\n",
       "         'SITTING': 426,\n",
       "         'BICYCLING': 83})"
      ]
     },
     "execution_count": 28,
     "metadata": {},
     "output_type": "execute_result"
    }
   ],
   "source": [
    "Counter(day_one_df.label)"
   ]
  },
  {
   "cell_type": "code",
   "execution_count": 20,
   "metadata": {
    "collapsed": true
   },
   "outputs": [],
   "source": [
    "import xgboost as xgb"
   ]
  },
  {
   "cell_type": "code",
   "execution_count": 21,
   "metadata": {
    "collapsed": true
   },
   "outputs": [],
   "source": [
    "personal_clf = xgb.XGBClassifier()"
   ]
  },
  {
   "cell_type": "code",
   "execution_count": 29,
   "metadata": {
    "collapsed": true
   },
   "outputs": [],
   "source": [
    "y_day_one = day_one_df.pop(\"label\")\n",
    "label_source_day_one = day_one_df.pop(\"label_source\")\n",
    "timestamps_day_one = day_one_df.pop(\"timestamp\")\n",
    "norm_timestamps_day_one = day_one_df.pop(\"norm_timestamps\")\n",
    "__ = day_one_df.pop(\"user_id\")"
   ]
  },
  {
   "cell_type": "code",
   "execution_count": 30,
   "metadata": {},
   "outputs": [
    {
     "data": {
      "text/plain": [
       "StandardScaler(copy=True, with_mean=True, with_std=True)"
      ]
     },
     "execution_count": 30,
     "metadata": {},
     "output_type": "execute_result"
    }
   ],
   "source": [
    "personal_scaler = StandardScaler()\n",
    "personal_scaler.fit(day_one_df)"
   ]
  },
  {
   "cell_type": "code",
   "execution_count": 31,
   "metadata": {
    "collapsed": true
   },
   "outputs": [],
   "source": [
    "X_day_one = personal_scaler.transform(day_one_df)"
   ]
  },
  {
   "cell_type": "code",
   "execution_count": 34,
   "metadata": {},
   "outputs": [
    {
     "data": {
      "text/plain": [
       "XGBClassifier(base_score=0.5, booster='gbtree', colsample_bylevel=1,\n",
       "       colsample_bytree=1, gamma=0, learning_rate=0.1, max_delta_step=0,\n",
       "       max_depth=3, min_child_weight=1, missing=None, n_estimators=100,\n",
       "       n_jobs=1, nthread=None, objective='multi:softprob', random_state=0,\n",
       "       reg_alpha=0, reg_lambda=1, scale_pos_weight=1, seed=None,\n",
       "       silent=True, subsample=1)"
      ]
     },
     "execution_count": 34,
     "metadata": {},
     "output_type": "execute_result"
    }
   ],
   "source": [
    "personal_clf.fit(X_day_one, np.array([str(y) for y in y_day_one]))"
   ]
  },
  {
   "cell_type": "code",
   "execution_count": 36,
   "metadata": {
    "collapsed": true
   },
   "outputs": [],
   "source": [
    "day_two_df = personal_df[(personal_df['norm_timestamps'] < 2) &\\\n",
    "                         (personal_df['norm_timestamps'] > 1)]"
   ]
  },
  {
   "cell_type": "code",
   "execution_count": 37,
   "metadata": {
    "collapsed": true
   },
   "outputs": [],
   "source": [
    "y_day_two = day_two_df.pop(\"label\")\n",
    "label_source_day_two = day_two_df.pop(\"label_source\")\n",
    "timestamps_day_two = day_two_df.pop(\"timestamp\")\n",
    "norm_timestamps_day_two = day_two_df.pop(\"norm_timestamps\")\n",
    "__ = day_two_df.pop(\"user_id\")"
   ]
  },
  {
   "cell_type": "code",
   "execution_count": 38,
   "metadata": {
    "collapsed": true
   },
   "outputs": [],
   "source": [
    "X_day_two = personal_scaler.transform(day_two_df)"
   ]
  },
  {
   "cell_type": "code",
   "execution_count": 39,
   "metadata": {
    "collapsed": true
   },
   "outputs": [],
   "source": [
    "y_day_two = [str(y) for y in y_day_two]"
   ]
  },
  {
   "cell_type": "code",
   "execution_count": 40,
   "metadata": {},
   "outputs": [
    {
     "data": {
      "text/plain": [
       "0.47030185004868547"
      ]
     },
     "execution_count": 40,
     "metadata": {},
     "output_type": "execute_result"
    }
   ],
   "source": [
    "accuracy_score(y_day_two, personal_clf.predict(X_day_two))"
   ]
  },
  {
   "cell_type": "code",
   "execution_count": null,
   "metadata": {
    "collapsed": true
   },
   "outputs": [],
   "source": []
  }
 ],
 "metadata": {
  "kernelspec": {
   "display_name": "Python 3",
   "language": "python",
   "name": "python3"
  },
  "language_info": {
   "codemirror_mode": {
    "name": "ipython",
    "version": 3
   },
   "file_extension": ".py",
   "mimetype": "text/x-python",
   "name": "python",
   "nbconvert_exporter": "python",
   "pygments_lexer": "ipython3",
   "version": "3.4.5"
  }
 },
 "nbformat": 4,
 "nbformat_minor": 2
}
