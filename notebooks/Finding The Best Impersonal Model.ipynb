{
 "cells": [
  {
   "cell_type": "markdown",
   "metadata": {},
   "source": [
    "# Q: What is the best model (and parameters) for activity recognition\n",
    "* Conduct parameter k-fold validated grid search parameter tuning for SVM, RF, KNN, NB, and Neural Net classifiers.\n",
    "* Validation should check for each model's accuracy, precision, recall with regard to each class prediction (confusion matrix).\n",
    "* Are the mediocre performing models getting the same things correct as the best model or are these different things? Will an ensemble approach work well?\n",
    "* How well are model confidences working? Are highly confident examples typically correct?"
   ]
  },
  {
   "cell_type": "markdown",
   "metadata": {},
   "source": [
    "# Optimize Random Forest Classifier"
   ]
  },
  {
   "cell_type": "markdown",
   "metadata": {},
   "source": [
    "* Consider using precision, F1 score, and balanaced accuracy measure for optimization"
   ]
  },
  {
   "cell_type": "markdown",
   "metadata": {},
   "source": [
    "### [Advice from a Kaggle forum](https://www.kaggle.com/general/4092)\n",
    "1. tune the number of candidate feature for splitting (starting with min_samples_leaf=1)\n",
    "2. tune the depth of the trees (min_samples_leaf)\n",
    "3. tune the number of trees"
   ]
  },
  {
   "cell_type": "markdown",
   "metadata": {},
   "source": [
    "### sklearn's [tips for parameter tuning](http://scikit-learn.org/stable/modules/grid_search.html#tips-for-parameter-search)"
   ]
  },
  {
   "cell_type": "markdown",
   "metadata": {},
   "source": [
    "### Analytics Vidhya [tuning random forest](https://www.analyticsvidhya.com/blog/2015/06/tuning-random-forest-model/)"
   ]
  },
  {
   "cell_type": "code",
   "execution_count": 1,
   "metadata": {
    "collapsed": true
   },
   "outputs": [],
   "source": [
    "import pandas as pd\n",
    "import numpy as np\n",
    "import time\n",
    "import importlib.machinery\n",
    "es = importlib.machinery.SourceFileLoader('extrasense','/home/sac086/extrasensory/extrasense/extrasense.py').load_module()\n",
    "from sklearn.ensemble import RandomForestClassifier\n",
    "from sklearn.metrics import accuracy_score, make_scorer\n",
    "from sklearn.preprocessing import StandardScaler, MinMaxScaler\n",
    "from sklearn.model_selection import GroupShuffleSplit, GroupKFold, cross_val_score, GridSearchCV\n",
    "from sklearn.pipeline import Pipeline"
   ]
  },
  {
   "cell_type": "markdown",
   "metadata": {},
   "source": [
    "### Load Data"
   ]
  },
  {
   "cell_type": "code",
   "execution_count": 2,
   "metadata": {
    "collapsed": true
   },
   "outputs": [],
   "source": [
    "features_df = es.get_impersonal_data(leave_users_out=[], data_type=\"activity\", labeled_only=False)\n",
    "\n",
    "# remove nan rows\n",
    "no_label_indeces = features_df.label.isnull()\n",
    "features_df = features_df[~no_label_indeces]\n",
    "\n",
    "timestamps = features_df.pop('timestamp')\n",
    "label_source = features_df.pop(\"label_source\")\n",
    "labels = features_df.pop(\"label\")\n",
    "user_ids = features_df.pop(\"user_id\")"
   ]
  },
  {
   "cell_type": "code",
   "execution_count": 3,
   "metadata": {
    "collapsed": true
   },
   "outputs": [],
   "source": [
    "resulting_scores = {}"
   ]
  },
  {
   "cell_type": "markdown",
   "metadata": {},
   "source": [
    "## Score to beat\n",
    "* In previous trials, the best parameters were n_estimators=100, max_features=\"log2\", min_samples_leaf=1"
   ]
  },
  {
   "cell_type": "code",
   "execution_count": 9,
   "metadata": {
    "collapsed": true
   },
   "outputs": [],
   "source": [
    "# set up the accuracy scorer for cross validation\n",
    "scorer = make_scorer(accuracy_score)"
   ]
  },
  {
   "cell_type": "markdown",
   "metadata": {},
   "source": [
    "### ZeroR"
   ]
  },
  {
   "cell_type": "code",
   "execution_count": null,
   "metadata": {
    "collapsed": true
   },
   "outputs": [],
   "source": [
    "steps = []\n",
    "steps.append(('standardize', StandardScaler()))\n",
    "steps.append(('ZeroR', es.ZeroR()))\n",
    "clf = Pipeline(steps)"
   ]
  },
  {
   "cell_type": "code",
   "execution_count": 12,
   "metadata": {
    "collapsed": true
   },
   "outputs": [],
   "source": [
    "score = cross_val_score(clf, features_df, labels, groups=user_ids, cv=GroupKFold(n_splits=3), n_jobs=20, scoring=scorer)\n",
    "resulting_scores[\"ZeroR\"]=score"
   ]
  },
  {
   "cell_type": "markdown",
   "metadata": {},
   "source": [
    "### Random Forest with simple parameters"
   ]
  },
  {
   "cell_type": "code",
   "execution_count": 30,
   "metadata": {
    "collapsed": true
   },
   "outputs": [],
   "source": [
    "RF = RandomForestClassifier(n_estimators=500, max_features=\"log2\", min_samples_leaf=1)\n",
    "steps = [('standardize', StandardScaler()),\n",
    "         ('RF_basic', RF)]\n",
    "clf = Pipeline(steps)\n",
    "score = cross_val_score(clf, features_df, labels, groups=user_ids, cv=GroupKFold(n_splits=3), n_jobs=20, scoring=scorer)\n",
    "resulting_scores[\"RandomForest_basic\"] = score\n",
    "print(score)"
   ]
  },
  {
   "cell_type": "code",
   "execution_count": 31,
   "metadata": {},
   "outputs": [
    {
     "name": "stdout",
     "output_type": "stream",
     "text": [
      "[ 0.60857622  0.62225529  0.54801124]\n"
     ]
    }
   ],
   "source": [
    "print(score)"
   ]
  },
  {
   "cell_type": "markdown",
   "metadata": {},
   "source": [
    "### Tuning Random Forest"
   ]
  },
  {
   "cell_type": "markdown",
   "metadata": {},
   "source": [
    "#### Tuning the max features"
   ]
  },
  {
   "cell_type": "code",
   "execution_count": 14,
   "metadata": {
    "collapsed": true
   },
   "outputs": [],
   "source": [
    "param_grid = {\"clf__max_features\":[\"auto\", \"sqrt\", \"log2\", 0.2, 0.4, 0.6, 0.8]}\n",
    "RF = RandomForestClassifier(n_estimators=500, min_samples_leaf=1) # default settings"
   ]
  },
  {
   "cell_type": "code",
   "execution_count": null,
   "metadata": {
    "collapsed": true
   },
   "outputs": [],
   "source": [
    "steps = [('standardize', StandardScaler()),\n",
    "         ('clf', RF)]\n",
    "clf = Pipeline(steps)\n",
    "cv = list(GroupKFold(n_splits=3).split(features_df, labels, user_ids))\n",
    "gsv = GridSearchCV(clf, param_grid=param_grid, cv=cv, n_jobs=12, verbose=2)\n",
    "\n",
    "gsv_results = gsv.fit(features_df, labels)\n",
    "print(\"best score : %s\" % gsv_results.best_score_)\n",
    "print(\"best params : %s\" % gsv_results.best_params_)"
   ]
  },
  {
   "cell_type": "code",
   "execution_count": 15,
   "metadata": {
    "collapsed": true
   },
   "outputs": [],
   "source": [
    "cv = list(GroupKFold(n_splits=3).split(features_df, labels, user_ids))\n",
    "gsv = GridSearchCV(RandomForestClassifier(n_estimators=500, min_samples_leaf=1), param_grid=param_grid, cv=cv, n_jobs=20)\n",
    "results = gsv.fit(features_df, labels)"
   ]
  },
  {
   "cell_type": "code",
   "execution_count": 23,
   "metadata": {},
   "outputs": [
    {
     "data": {
      "text/plain": [
       "array([ 0.58944549,  0.58944549,  0.59473121,  0.58944549,  0.58180984,\n",
       "        0.5772955 ,  0.57567463])"
      ]
     },
     "execution_count": 23,
     "metadata": {},
     "output_type": "execute_result"
    }
   ],
   "source": [
    "results.cv_results_['mean_test_score']"
   ]
  },
  {
   "cell_type": "code",
   "execution_count": 17,
   "metadata": {},
   "outputs": [
    {
     "data": {
      "text/plain": [
       "{'max_features': 'log2'}"
      ]
     },
     "execution_count": 17,
     "metadata": {},
     "output_type": "execute_result"
    }
   ],
   "source": [
    "results.best_params_"
   ]
  },
  {
   "cell_type": "code",
   "execution_count": 18,
   "metadata": {},
   "outputs": [
    {
     "data": {
      "text/plain": [
       "{'RandomForest_basic': array([ 0.60941991,  0.60791178,  0.55080214]),\n",
       " 'ZeroR': array([ 0.45628011,  0.44938444,  0.42823686])}"
      ]
     },
     "execution_count": 18,
     "metadata": {},
     "output_type": "execute_result"
    }
   ],
   "source": [
    "resulting_scores"
   ]
  },
  {
   "cell_type": "code",
   "execution_count": 24,
   "metadata": {
    "collapsed": true
   },
   "outputs": [],
   "source": [
    "resulting_scores['RandomForest_max_features_log2'] = results.best_score_"
   ]
  },
  {
   "cell_type": "markdown",
   "metadata": {},
   "source": [
    "#### Tuning min_sample_leaf"
   ]
  },
  {
   "cell_type": "code",
   "execution_count": 37,
   "metadata": {
    "collapsed": true
   },
   "outputs": [],
   "source": [
    "param_grid = {\"clf__min_samples_leaf\":[10,20,30,40,50,60,70,80,90,100]}\n",
    "RF = RandomForestClassifier(n_estimators=500, max_features=\"log2\") # default settings"
   ]
  },
  {
   "cell_type": "code",
   "execution_count": 39,
   "metadata": {},
   "outputs": [
    {
     "name": "stdout",
     "output_type": "stream",
     "text": [
      "Fitting 3 folds for each of 10 candidates, totalling 30 fits\n",
      "[CV] clf__min_samples_leaf=10 ........................................\n",
      "[CV] clf__min_samples_leaf=10 ........................................\n",
      "[CV] clf__min_samples_leaf=10 ........................................\n",
      "[CV] clf__min_samples_leaf=20 ........................................\n",
      "[CV] clf__min_samples_leaf=20 ........................................\n",
      "[CV] clf__min_samples_leaf=20 ........................................\n",
      "[CV] clf__min_samples_leaf=30 ........................................\n",
      "[CV] clf__min_samples_leaf=30 ........................................\n",
      "[CV] clf__min_samples_leaf=30 ........................................\n",
      "[CV] clf__min_samples_leaf=40 ........................................\n",
      "[CV] clf__min_samples_leaf=40 ........................................\n",
      "[CV] clf__min_samples_leaf=40 ........................................\n",
      "[CV] ......................... clf__min_samples_leaf=40, total= 8.3min\n",
      "[CV] clf__min_samples_leaf=50 ........................................\n",
      "[CV] ......................... clf__min_samples_leaf=40, total= 8.4min\n",
      "[CV] clf__min_samples_leaf=50 ........................................\n",
      "[CV] ......................... clf__min_samples_leaf=40, total= 8.4min\n",
      "[CV] clf__min_samples_leaf=50 ........................................\n",
      "[CV] ......................... clf__min_samples_leaf=30, total= 8.6min\n",
      "[CV] clf__min_samples_leaf=60 ........................................\n",
      "[CV] ......................... clf__min_samples_leaf=30, total= 8.6min\n",
      "[CV] clf__min_samples_leaf=60 ........................................\n",
      "[CV] ......................... clf__min_samples_leaf=30, total= 8.7min\n",
      "[CV] clf__min_samples_leaf=60 ........................................\n",
      "[CV] ......................... clf__min_samples_leaf=20, total= 9.0min\n",
      "[CV] clf__min_samples_leaf=70 ........................................\n",
      "[CV] ......................... clf__min_samples_leaf=20, total= 9.0min\n",
      "[CV] clf__min_samples_leaf=70 ........................................\n",
      "[CV] ......................... clf__min_samples_leaf=20, total= 9.1min\n",
      "[CV] clf__min_samples_leaf=70 ........................................\n",
      "[CV] ......................... clf__min_samples_leaf=10, total= 9.6min\n",
      "[CV] clf__min_samples_leaf=80 ........................................\n",
      "[CV] ......................... clf__min_samples_leaf=10, total= 9.6min\n",
      "[CV] clf__min_samples_leaf=80 ........................................\n",
      "[CV] ......................... clf__min_samples_leaf=10, total= 9.7min\n",
      "[CV] clf__min_samples_leaf=80 ........................................\n",
      "[CV] ......................... clf__min_samples_leaf=50, total= 8.2min\n",
      "[CV] clf__min_samples_leaf=90 ........................................\n",
      "[CV] ......................... clf__min_samples_leaf=50, total= 8.2min\n",
      "[CV] clf__min_samples_leaf=90 ........................................\n",
      "[CV] ......................... clf__min_samples_leaf=60, total= 8.0min\n",
      "[CV] clf__min_samples_leaf=90 ........................................\n",
      "[CV] ......................... clf__min_samples_leaf=60, total= 8.0min\n",
      "[CV] clf__min_samples_leaf=100 .......................................\n",
      "[CV] ......................... clf__min_samples_leaf=50, total= 8.3min\n",
      "[CV] ......................... clf__min_samples_leaf=60, total= 8.0min\n",
      "[CV] clf__min_samples_leaf=100 .......................................\n",
      "[CV] clf__min_samples_leaf=100 .......................................\n",
      "[CV] ......................... clf__min_samples_leaf=70, total= 7.8min\n",
      "[CV] ......................... clf__min_samples_leaf=70, total= 7.8min\n",
      "[CV] ......................... clf__min_samples_leaf=70, total= 7.9min\n",
      "[CV] ......................... clf__min_samples_leaf=80, total= 7.7min\n",
      "[CV] ......................... clf__min_samples_leaf=80, total= 7.7min\n"
     ]
    },
    {
     "name": "stderr",
     "output_type": "stream",
     "text": [
      "[Parallel(n_jobs=12)]: Done  23 out of  30 | elapsed: 18.0min remaining:  5.5min\n"
     ]
    },
    {
     "name": "stdout",
     "output_type": "stream",
     "text": [
      "[CV] ......................... clf__min_samples_leaf=80, total= 7.8min\n",
      "[CV] ......................... clf__min_samples_leaf=90, total= 6.8min\n",
      "[CV] ......................... clf__min_samples_leaf=90, total= 6.7min\n",
      "[CV] ........................ clf__min_samples_leaf=100, total= 6.7min\n",
      "[CV] ......................... clf__min_samples_leaf=90, total= 6.7min\n",
      "[CV] ........................ clf__min_samples_leaf=100, total= 6.7min\n",
      "[CV] ........................ clf__min_samples_leaf=100, total= 6.8min\n"
     ]
    },
    {
     "name": "stderr",
     "output_type": "stream",
     "text": [
      "[Parallel(n_jobs=12)]: Done  30 out of  30 | elapsed: 24.3min finished\n"
     ]
    },
    {
     "name": "stdout",
     "output_type": "stream",
     "text": [
      "best score : 0.614865106772\n",
      "best params : {'clf__min_samples_leaf': 80}\n"
     ]
    }
   ],
   "source": [
    "steps = [('standardize', StandardScaler()),\n",
    "         ('clf', RF)]\n",
    "clf = Pipeline(steps)\n",
    "cv = list(GroupKFold(n_splits=3).split(features_df, labels, user_ids))\n",
    "gsv = GridSearchCV(clf, param_grid=param_grid, cv=cv, n_jobs=12, verbose=2)\n",
    "\n",
    "gsv_results = gsv.fit(features_df, labels)\n",
    "print(\"best score : %s\" % gsv_results.best_score_)\n",
    "print(\"best params : %s\" % gsv_results.best_params_)"
   ]
  },
  {
   "cell_type": "code",
   "execution_count": 40,
   "metadata": {},
   "outputs": [
    {
     "data": {
      "text/plain": [
       "{'mean_fit_time': array([ 567.8111376 ,  531.58625722,  509.29925283,  492.87803324,\n",
       "         484.49457073,  471.49230687,  462.63780745,  456.62535318,\n",
       "         397.51769185,  394.60614038]),\n",
       " 'mean_score_time': array([ 10.41880687,   9.54804317,   9.11394922,   8.84795165,\n",
       "          8.60592993,   8.41252112,   8.40913916,   7.74767915,\n",
       "          7.3434844 ,   7.28181521]),\n",
       " 'mean_test_score': array([ 0.60277045,  0.60750286,  0.61036378,  0.61069902,  0.61233616,\n",
       "         0.6128374 ,  0.61203998,  0.61486511,  0.61435086,  0.61401887]),\n",
       " 'mean_train_score': array([ 0.88126387,  0.8404917 ,  0.8209558 ,  0.80793895,  0.79850808,\n",
       "         0.79047762,  0.78448423,  0.77959766,  0.7753806 ,  0.77170752]),\n",
       " 'param_clf__min_samples_leaf': masked_array(data = [10 20 30 40 50 60 70 80 90 100],\n",
       "              mask = [False False False False False False False False False False],\n",
       "        fill_value = ?),\n",
       " 'params': [{'clf__min_samples_leaf': 10},\n",
       "  {'clf__min_samples_leaf': 20},\n",
       "  {'clf__min_samples_leaf': 30},\n",
       "  {'clf__min_samples_leaf': 40},\n",
       "  {'clf__min_samples_leaf': 50},\n",
       "  {'clf__min_samples_leaf': 60},\n",
       "  {'clf__min_samples_leaf': 70},\n",
       "  {'clf__min_samples_leaf': 80},\n",
       "  {'clf__min_samples_leaf': 90},\n",
       "  {'clf__min_samples_leaf': 100}],\n",
       " 'rank_test_score': array([10,  9,  8,  7,  5,  4,  6,  1,  2,  3], dtype=int32),\n",
       " 'split0_test_score': array([ 0.62357627,  0.62903083,  0.63043372,  0.63114006,  0.63029637,\n",
       "         0.62938401,  0.62819695,  0.63052201,  0.63066917,  0.62829506]),\n",
       " 'split0_train_score': array([ 0.88020554,  0.83964736,  0.81918075,  0.805499  ,  0.79607423,\n",
       "         0.78733135,  0.78095076,  0.77576835,  0.77068823,  0.76695728]),\n",
       " 'split1_test_score': array([ 0.62753564,  0.63027792,  0.63029737,  0.63064745,  0.63125036,\n",
       "         0.63141568,  0.63189218,  0.63343836,  0.63290351,  0.63119202]),\n",
       " 'split1_train_score': array([ 0.88332706,  0.84027611,  0.82063412,  0.80752315,  0.79771439,\n",
       "         0.78969615,  0.78352714,  0.77895787,  0.77531811,  0.77139461]),\n",
       " 'split2_test_score': array([ 0.55722315,  0.56323432,  0.57039697,  0.57034818,  0.57549085,\n",
       "         0.57773527,  0.57604707,  0.58065303,  0.57950154,  0.58258519]),\n",
       " 'split2_train_score': array([ 0.88025903,  0.84155162,  0.82305254,  0.81079471,  0.80173563,\n",
       "         0.79440535,  0.78897479,  0.78406677,  0.78013547,  0.77677067]),\n",
       " 'std_fit_time': array([ 1.95261517,  1.58663921,  1.12900118,  1.37437734,  2.22165663,\n",
       "         1.57222115,  1.53910214,  1.10315608,  0.2932978 ,  2.95909342]),\n",
       " 'std_score_time': array([ 0.14521873,  0.10005576,  0.04389952,  0.10413963,  0.07842018,\n",
       "         0.12263676,  0.06264139,  0.16045026,  0.10453531,  0.08002073]),\n",
       " 'std_test_score': array([ 0.03226185,  0.03132086,  0.02827362,  0.02854595,  0.02606825,\n",
       "         0.024846  ,  0.02550696,  0.02423177,  0.02467018,  0.02226843]),\n",
       " 'std_train_score': array([ 0.00145905,  0.00079221,  0.00159694,  0.00218186,  0.00237842,\n",
       "         0.00294034,  0.00334497,  0.00341789,  0.00385707,  0.0040124 ])}"
      ]
     },
     "execution_count": 40,
     "metadata": {},
     "output_type": "execute_result"
    }
   ],
   "source": [
    "gsv_results.cv_results_"
   ]
  },
  {
   "cell_type": "code",
   "execution_count": 41,
   "metadata": {
    "collapsed": true
   },
   "outputs": [],
   "source": [
    "RF = RandomForestClassifier(n_estimators=500, max_features=\"log2\", min_samples_leaf=80)\n",
    "steps = [('standardize', StandardScaler()),\n",
    "         ('RF_basic', RF)]\n",
    "clf = Pipeline(steps)\n",
    "score = cross_val_score(clf, features_df, labels, groups=user_ids, cv=GroupKFold(n_splits=3), n_jobs=15, scoring=scorer, verbose=2)\n",
    "resulting_scores[\"RandomForest_optimal\"] = score"
   ]
  },
  {
   "cell_type": "code",
   "execution_count": 44,
   "metadata": {},
   "outputs": [
    {
     "data": {
      "text/plain": [
       "0.61487113249084513"
      ]
     },
     "execution_count": 44,
     "metadata": {},
     "output_type": "execute_result"
    }
   ],
   "source": [
    "np.mean(score)"
   ]
  },
  {
   "cell_type": "code",
   "execution_count": 42,
   "metadata": {
    "collapsed": true
   },
   "outputs": [],
   "source": [
    "from sklearn.metrics import classification_report"
   ]
  },
  {
   "cell_type": "markdown",
   "metadata": {},
   "source": [
    "# Use Basic Neural Network to compare"
   ]
  },
  {
   "cell_type": "markdown",
   "metadata": {},
   "source": [
    "# SKLearn MLP Classifier"
   ]
  },
  {
   "cell_type": "code",
   "execution_count": 51,
   "metadata": {
    "collapsed": true
   },
   "outputs": [],
   "source": [
    "from sklearn.neural_network import MLPClassifier"
   ]
  },
  {
   "cell_type": "code",
   "execution_count": 61,
   "metadata": {
    "collapsed": true
   },
   "outputs": [],
   "source": [
    "mlp = MLPClassifier(solver='adam', alpha=1e-5, hidden_layer_sizes=(20,10,5,2,5,10,20))"
   ]
  },
  {
   "cell_type": "code",
   "execution_count": 62,
   "metadata": {},
   "outputs": [
    {
     "name": "stdout",
     "output_type": "stream",
     "text": [
      "[CV]  ................................................................\n",
      "[CV]  ................................................................\n",
      "[CV]  ................................................................\n",
      "[CV] ................................................. , total= 1.1min\n",
      "[CV] ................................................. , total= 1.2min\n",
      "[CV] ................................................. , total= 1.3min\n"
     ]
    },
    {
     "name": "stderr",
     "output_type": "stream",
     "text": [
      "[Parallel(n_jobs=15)]: Done   3 out of   3 | elapsed:  1.4min finished\n"
     ]
    }
   ],
   "source": [
    "steps = [('standardize', StandardScaler()),\n",
    "         ('clf', mlp)]\n",
    "clf = Pipeline(steps)\n",
    "score = cross_val_score(clf, features_df, labels, groups=user_ids, cv=GroupKFold(n_splits=3), n_jobs=15, scoring=scorer, verbose=2)\n",
    "resulting_scores[\"RandomForest_optimal\"] = score"
   ]
  },
  {
   "cell_type": "code",
   "execution_count": 63,
   "metadata": {},
   "outputs": [
    {
     "data": {
      "text/plain": [
       "array([ 0.63620221,  0.54164965,  0.5636832 ])"
      ]
     },
     "execution_count": 63,
     "metadata": {},
     "output_type": "execute_result"
    }
   ],
   "source": [
    "score"
   ]
  },
  {
   "cell_type": "code",
   "execution_count": 64,
   "metadata": {},
   "outputs": [
    {
     "data": {
      "text/plain": [
       "0.58051168802577691"
      ]
     },
     "execution_count": 64,
     "metadata": {},
     "output_type": "execute_result"
    }
   ],
   "source": [
    "np.mean(score)"
   ]
  },
  {
   "cell_type": "code",
   "execution_count": 72,
   "metadata": {
    "collapsed": true
   },
   "outputs": [],
   "source": [
    "param_grid = {'clf__solver': ['sgd', 'lbfgs', 'adam'],\n",
    "              'clf__learning_rate':['constant', 'invscaling'],\n",
    "              'clf__nesterovs_momentum':[True,False],\n",
    "              'clf__momentum':[0,0.9]}"
   ]
  },
  {
   "cell_type": "code",
   "execution_count": 73,
   "metadata": {
    "collapsed": true
   },
   "outputs": [],
   "source": [
    "mlp = MLPClassifier(learning_rate_init=0.2, alpha=1e-5, hidden_layer_sizes=(20,10,5,2,5,10,20))"
   ]
  },
  {
   "cell_type": "code",
   "execution_count": 74,
   "metadata": {
    "collapsed": true
   },
   "outputs": [],
   "source": [
    "steps = [('standardize', StandardScaler()),\n",
    "         ('clf', mlp)]\n",
    "clf = Pipeline(steps)"
   ]
  },
  {
   "cell_type": "code",
   "execution_count": 75,
   "metadata": {
    "scrolled": true
   },
   "outputs": [
    {
     "name": "stdout",
     "output_type": "stream",
     "text": [
      "Fitting 3 folds for each of 24 candidates, totalling 72 fits\n",
      "[CV] clf__nesterovs_momentum=True, clf__solver=sgd, clf__momentum=0, clf__learning_rate=constant \n",
      "[CV] clf__nesterovs_momentum=True, clf__solver=sgd, clf__momentum=0, clf__learning_rate=constant \n",
      "[CV] clf__nesterovs_momentum=True, clf__solver=sgd, clf__momentum=0, clf__learning_rate=constant \n",
      "[CV] clf__nesterovs_momentum=True, clf__solver=lbfgs, clf__momentum=0, clf__learning_rate=constant \n",
      "[CV] clf__nesterovs_momentum=True, clf__solver=lbfgs, clf__momentum=0, clf__learning_rate=constant \n",
      "[CV] clf__nesterovs_momentum=True, clf__solver=lbfgs, clf__momentum=0, clf__learning_rate=constant \n",
      "[CV] clf__nesterovs_momentum=True, clf__solver=adam, clf__momentum=0, clf__learning_rate=constant \n",
      "[CV] clf__nesterovs_momentum=True, clf__solver=adam, clf__momentum=0, clf__learning_rate=constant \n",
      "[CV] clf__nesterovs_momentum=True, clf__solver=adam, clf__momentum=0, clf__learning_rate=constant \n",
      "[CV] clf__nesterovs_momentum=False, clf__solver=sgd, clf__momentum=0, clf__learning_rate=constant \n",
      "[CV] clf__nesterovs_momentum=False, clf__solver=sgd, clf__momentum=0, clf__learning_rate=constant \n",
      "[CV] clf__nesterovs_momentum=False, clf__solver=sgd, clf__momentum=0, clf__learning_rate=constant \n",
      "[CV]  clf__nesterovs_momentum=True, clf__solver=adam, clf__momentum=0, clf__learning_rate=constant, total=   8.6s\n",
      "[CV] clf__nesterovs_momentum=False, clf__solver=lbfgs, clf__momentum=0, clf__learning_rate=constant \n",
      "[CV]  clf__nesterovs_momentum=True, clf__solver=adam, clf__momentum=0, clf__learning_rate=constant, total=  10.0s\n",
      "[CV] clf__nesterovs_momentum=False, clf__solver=lbfgs, clf__momentum=0, clf__learning_rate=constant \n",
      "[CV]  clf__nesterovs_momentum=True, clf__solver=adam, clf__momentum=0, clf__learning_rate=constant, total=  10.0s\n",
      "[CV] clf__nesterovs_momentum=False, clf__solver=lbfgs, clf__momentum=0, clf__learning_rate=constant \n",
      "[CV]  clf__nesterovs_momentum=False, clf__solver=sgd, clf__momentum=0, clf__learning_rate=constant, total=  51.6s\n",
      "[CV] clf__nesterovs_momentum=False, clf__solver=adam, clf__momentum=0, clf__learning_rate=constant \n",
      "[CV]  clf__nesterovs_momentum=True, clf__solver=sgd, clf__momentum=0, clf__learning_rate=constant, total=  54.8s\n",
      "[CV] clf__nesterovs_momentum=False, clf__solver=adam, clf__momentum=0, clf__learning_rate=constant \n",
      "[CV]  clf__nesterovs_momentum=False, clf__solver=adam, clf__momentum=0, clf__learning_rate=constant, total=   8.8s\n",
      "[CV] clf__nesterovs_momentum=False, clf__solver=adam, clf__momentum=0, clf__learning_rate=constant \n",
      "[CV]  clf__nesterovs_momentum=False, clf__solver=adam, clf__momentum=0, clf__learning_rate=constant, total=  11.6s\n",
      "[CV] clf__nesterovs_momentum=True, clf__solver=sgd, clf__momentum=0.9, clf__learning_rate=constant \n",
      "[CV]  clf__nesterovs_momentum=True, clf__solver=sgd, clf__momentum=0, clf__learning_rate=constant, total= 1.1min\n",
      "[CV] clf__nesterovs_momentum=True, clf__solver=sgd, clf__momentum=0.9, clf__learning_rate=constant \n",
      "[CV]  clf__nesterovs_momentum=False, clf__solver=sgd, clf__momentum=0, clf__learning_rate=constant, total= 1.1min\n",
      "[CV] clf__nesterovs_momentum=True, clf__solver=sgd, clf__momentum=0.9, clf__learning_rate=constant \n",
      "[CV]  clf__nesterovs_momentum=False, clf__solver=adam, clf__momentum=0, clf__learning_rate=constant, total=   8.9s\n",
      "[CV] clf__nesterovs_momentum=True, clf__solver=lbfgs, clf__momentum=0.9, clf__learning_rate=constant \n",
      "[CV]  clf__nesterovs_momentum=True, clf__solver=sgd, clf__momentum=0.9, clf__learning_rate=constant, total=   8.3s\n",
      "[CV] clf__nesterovs_momentum=True, clf__solver=lbfgs, clf__momentum=0.9, clf__learning_rate=constant \n",
      "[CV]  clf__nesterovs_momentum=True, clf__solver=sgd, clf__momentum=0.9, clf__learning_rate=constant, total=  10.8s\n",
      "[CV] clf__nesterovs_momentum=True, clf__solver=lbfgs, clf__momentum=0.9, clf__learning_rate=constant \n",
      "[CV]  clf__nesterovs_momentum=True, clf__solver=sgd, clf__momentum=0.9, clf__learning_rate=constant, total=  16.2s\n",
      "[CV] clf__nesterovs_momentum=True, clf__solver=adam, clf__momentum=0.9, clf__learning_rate=constant \n",
      "[CV]  clf__nesterovs_momentum=False, clf__solver=sgd, clf__momentum=0, clf__learning_rate=constant, total= 1.5min\n",
      "[CV] clf__nesterovs_momentum=True, clf__solver=adam, clf__momentum=0.9, clf__learning_rate=constant \n",
      "[CV]  clf__nesterovs_momentum=True, clf__solver=sgd, clf__momentum=0, clf__learning_rate=constant, total= 1.6min\n",
      "[CV] clf__nesterovs_momentum=True, clf__solver=adam, clf__momentum=0.9, clf__learning_rate=constant \n",
      "[CV]  clf__nesterovs_momentum=True, clf__solver=adam, clf__momentum=0.9, clf__learning_rate=constant, total=  11.8s\n",
      "[CV] clf__nesterovs_momentum=False, clf__solver=sgd, clf__momentum=0.9, clf__learning_rate=constant \n",
      "[CV]  clf__nesterovs_momentum=True, clf__solver=adam, clf__momentum=0.9, clf__learning_rate=constant, total=   9.0s\n",
      "[CV] clf__nesterovs_momentum=False, clf__solver=sgd, clf__momentum=0.9, clf__learning_rate=constant \n"
     ]
    },
    {
     "name": "stderr",
     "output_type": "stream",
     "text": [
      "[Parallel(n_jobs=12)]: Done  17 tasks      | elapsed:  1.7min\n"
     ]
    },
    {
     "name": "stdout",
     "output_type": "stream",
     "text": [
      "[CV]  clf__nesterovs_momentum=True, clf__solver=lbfgs, clf__momentum=0, clf__learning_rate=constant, total= 1.8min\n",
      "[CV] clf__nesterovs_momentum=False, clf__solver=sgd, clf__momentum=0.9, clf__learning_rate=constant \n",
      "[CV]  clf__nesterovs_momentum=True, clf__solver=lbfgs, clf__momentum=0, clf__learning_rate=constant, total= 1.8min\n",
      "[CV]  clf__nesterovs_momentum=True, clf__solver=lbfgs, clf__momentum=0, clf__learning_rate=constant, total= 1.8min\n",
      "[CV] clf__nesterovs_momentum=False, clf__solver=lbfgs, clf__momentum=0.9, clf__learning_rate=constant \n",
      "[CV] clf__nesterovs_momentum=False, clf__solver=lbfgs, clf__momentum=0.9, clf__learning_rate=constant \n",
      "[CV]  clf__nesterovs_momentum=True, clf__solver=adam, clf__momentum=0.9, clf__learning_rate=constant, total=  14.3s\n",
      "[CV] clf__nesterovs_momentum=False, clf__solver=lbfgs, clf__momentum=0.9, clf__learning_rate=constant \n",
      "[CV]  clf__nesterovs_momentum=False, clf__solver=sgd, clf__momentum=0.9, clf__learning_rate=constant, total=  14.3s\n",
      "[CV] clf__nesterovs_momentum=False, clf__solver=adam, clf__momentum=0.9, clf__learning_rate=constant \n",
      "[CV]  clf__nesterovs_momentum=False, clf__solver=lbfgs, clf__momentum=0, clf__learning_rate=constant, total= 1.7min\n",
      "[CV] clf__nesterovs_momentum=False, clf__solver=adam, clf__momentum=0.9, clf__learning_rate=constant \n",
      "[CV]  clf__nesterovs_momentum=False, clf__solver=lbfgs, clf__momentum=0, clf__learning_rate=constant, total= 1.7min\n",
      "[CV] clf__nesterovs_momentum=False, clf__solver=adam, clf__momentum=0.9, clf__learning_rate=constant \n",
      "[CV]  clf__nesterovs_momentum=False, clf__solver=sgd, clf__momentum=0.9, clf__learning_rate=constant, total=  10.3s\n",
      "[CV]  clf__nesterovs_momentum=False, clf__solver=lbfgs, clf__momentum=0, clf__learning_rate=constant, total= 1.8min\n",
      "[CV] clf__nesterovs_momentum=True, clf__solver=sgd, clf__momentum=0, clf__learning_rate=invscaling \n",
      "[CV] clf__nesterovs_momentum=True, clf__solver=sgd, clf__momentum=0, clf__learning_rate=invscaling \n",
      "[CV]  clf__nesterovs_momentum=False, clf__solver=sgd, clf__momentum=0.9, clf__learning_rate=constant, total=  17.2s\n",
      "[CV] clf__nesterovs_momentum=True, clf__solver=sgd, clf__momentum=0, clf__learning_rate=invscaling \n",
      "[CV]  clf__nesterovs_momentum=False, clf__solver=adam, clf__momentum=0.9, clf__learning_rate=constant, total=   8.7s\n",
      "[CV] clf__nesterovs_momentum=True, clf__solver=lbfgs, clf__momentum=0, clf__learning_rate=invscaling \n",
      "[CV]  clf__nesterovs_momentum=False, clf__solver=adam, clf__momentum=0.9, clf__learning_rate=constant, total=   8.6s\n",
      "[CV] clf__nesterovs_momentum=True, clf__solver=lbfgs, clf__momentum=0, clf__learning_rate=invscaling \n",
      "[CV]  clf__nesterovs_momentum=False, clf__solver=adam, clf__momentum=0.9, clf__learning_rate=constant, total=   9.8s\n",
      "[CV] clf__nesterovs_momentum=True, clf__solver=lbfgs, clf__momentum=0, clf__learning_rate=invscaling \n",
      "[CV]  clf__nesterovs_momentum=True, clf__solver=sgd, clf__momentum=0, clf__learning_rate=invscaling, total=  11.2s\n",
      "[CV] clf__nesterovs_momentum=True, clf__solver=adam, clf__momentum=0, clf__learning_rate=invscaling \n",
      "[CV]  clf__nesterovs_momentum=True, clf__solver=adam, clf__momentum=0, clf__learning_rate=invscaling, total=  13.6s\n",
      "[CV] clf__nesterovs_momentum=True, clf__solver=adam, clf__momentum=0, clf__learning_rate=invscaling \n",
      "[CV]  clf__nesterovs_momentum=True, clf__solver=sgd, clf__momentum=0, clf__learning_rate=invscaling, total=  27.0s\n",
      "[CV] clf__nesterovs_momentum=True, clf__solver=adam, clf__momentum=0, clf__learning_rate=invscaling \n",
      "[CV]  clf__nesterovs_momentum=True, clf__solver=sgd, clf__momentum=0, clf__learning_rate=invscaling, total=  34.8s\n",
      "[CV] clf__nesterovs_momentum=False, clf__solver=sgd, clf__momentum=0, clf__learning_rate=invscaling \n",
      "[CV]  clf__nesterovs_momentum=True, clf__solver=adam, clf__momentum=0, clf__learning_rate=invscaling, total=  10.8s\n",
      "[CV] clf__nesterovs_momentum=False, clf__solver=sgd, clf__momentum=0, clf__learning_rate=invscaling \n",
      "[CV]  clf__nesterovs_momentum=True, clf__solver=adam, clf__momentum=0, clf__learning_rate=invscaling, total=  14.4s\n",
      "[CV] clf__nesterovs_momentum=False, clf__solver=sgd, clf__momentum=0, clf__learning_rate=invscaling \n",
      "[CV]  clf__nesterovs_momentum=False, clf__solver=sgd, clf__momentum=0, clf__learning_rate=invscaling, total=  24.7s\n",
      "[CV] clf__nesterovs_momentum=False, clf__solver=lbfgs, clf__momentum=0, clf__learning_rate=invscaling \n",
      "[CV]  clf__nesterovs_momentum=True, clf__solver=lbfgs, clf__momentum=0.9, clf__learning_rate=constant, total= 1.8min\n",
      "[CV] clf__nesterovs_momentum=False, clf__solver=lbfgs, clf__momentum=0, clf__learning_rate=invscaling \n",
      "[CV]  clf__nesterovs_momentum=True, clf__solver=lbfgs, clf__momentum=0.9, clf__learning_rate=constant, total= 1.8min\n",
      "[CV] clf__nesterovs_momentum=False, clf__solver=lbfgs, clf__momentum=0, clf__learning_rate=invscaling \n",
      "[CV]  clf__nesterovs_momentum=True, clf__solver=lbfgs, clf__momentum=0.9, clf__learning_rate=constant, total= 1.8min\n",
      "[CV] clf__nesterovs_momentum=False, clf__solver=adam, clf__momentum=0, clf__learning_rate=invscaling \n",
      "[CV]  clf__nesterovs_momentum=False, clf__solver=sgd, clf__momentum=0, clf__learning_rate=invscaling, total=  30.1s\n",
      "[CV] clf__nesterovs_momentum=False, clf__solver=adam, clf__momentum=0, clf__learning_rate=invscaling \n",
      "[CV]  clf__nesterovs_momentum=False, clf__solver=sgd, clf__momentum=0, clf__learning_rate=invscaling, total=  41.9s\n",
      "[CV] clf__nesterovs_momentum=False, clf__solver=adam, clf__momentum=0, clf__learning_rate=invscaling \n",
      "[CV]  clf__nesterovs_momentum=False, clf__solver=adam, clf__momentum=0, clf__learning_rate=invscaling, total=  10.5s\n",
      "[CV] clf__nesterovs_momentum=True, clf__solver=sgd, clf__momentum=0.9, clf__learning_rate=invscaling \n",
      "[CV]  clf__nesterovs_momentum=False, clf__solver=adam, clf__momentum=0, clf__learning_rate=invscaling, total=   9.2s\n",
      "[CV] clf__nesterovs_momentum=True, clf__solver=sgd, clf__momentum=0.9, clf__learning_rate=invscaling \n",
      "[CV]  clf__nesterovs_momentum=False, clf__solver=adam, clf__momentum=0, clf__learning_rate=invscaling, total=   9.0s\n",
      "[CV] clf__nesterovs_momentum=True, clf__solver=sgd, clf__momentum=0.9, clf__learning_rate=invscaling \n",
      "[CV]  clf__nesterovs_momentum=True, clf__solver=sgd, clf__momentum=0.9, clf__learning_rate=invscaling, total=  12.5s\n",
      "[CV] clf__nesterovs_momentum=True, clf__solver=lbfgs, clf__momentum=0.9, clf__learning_rate=invscaling \n",
      "[CV]  clf__nesterovs_momentum=False, clf__solver=lbfgs, clf__momentum=0.9, clf__learning_rate=constant, total= 1.8min\n",
      "[CV] clf__nesterovs_momentum=True, clf__solver=lbfgs, clf__momentum=0.9, clf__learning_rate=invscaling \n",
      "[CV]  clf__nesterovs_momentum=False, clf__solver=lbfgs, clf__momentum=0.9, clf__learning_rate=constant, total= 1.8min\n",
      "[CV] clf__nesterovs_momentum=True, clf__solver=lbfgs, clf__momentum=0.9, clf__learning_rate=invscaling \n",
      "[CV]  clf__nesterovs_momentum=False, clf__solver=lbfgs, clf__momentum=0.9, clf__learning_rate=constant, total= 1.8min\n",
      "[CV] clf__nesterovs_momentum=True, clf__solver=adam, clf__momentum=0.9, clf__learning_rate=invscaling \n",
      "[CV]  clf__nesterovs_momentum=True, clf__solver=sgd, clf__momentum=0.9, clf__learning_rate=invscaling, total=  11.0s\n",
      "[CV] clf__nesterovs_momentum=True, clf__solver=adam, clf__momentum=0.9, clf__learning_rate=invscaling \n",
      "[CV]  clf__nesterovs_momentum=True, clf__solver=adam, clf__momentum=0.9, clf__learning_rate=invscaling, total=   8.8s\n",
      "[CV] clf__nesterovs_momentum=True, clf__solver=adam, clf__momentum=0.9, clf__learning_rate=invscaling \n",
      "[CV]  clf__nesterovs_momentum=True, clf__solver=lbfgs, clf__momentum=0, clf__learning_rate=invscaling, total= 1.8min\n",
      "[CV] clf__nesterovs_momentum=False, clf__solver=sgd, clf__momentum=0.9, clf__learning_rate=invscaling \n",
      "[CV]  clf__nesterovs_momentum=True, clf__solver=lbfgs, clf__momentum=0, clf__learning_rate=invscaling, total= 1.8min\n",
      "[CV] clf__nesterovs_momentum=False, clf__solver=sgd, clf__momentum=0.9, clf__learning_rate=invscaling \n",
      "[CV]  clf__nesterovs_momentum=True, clf__solver=lbfgs, clf__momentum=0, clf__learning_rate=invscaling, total= 1.8min\n",
      "[CV] clf__nesterovs_momentum=False, clf__solver=sgd, clf__momentum=0.9, clf__learning_rate=invscaling \n",
      "[CV]  clf__nesterovs_momentum=True, clf__solver=lbfgs, clf__momentum=0.9, clf__learning_rate=invscaling, total=  16.6s\n"
     ]
    },
    {
     "name": "stdout",
     "output_type": "stream",
     "text": [
      "[CV] clf__nesterovs_momentum=False, clf__solver=lbfgs, clf__momentum=0.9, clf__learning_rate=invscaling \n",
      "[CV]  clf__nesterovs_momentum=True, clf__solver=adam, clf__momentum=0.9, clf__learning_rate=invscaling, total=  14.6s\n",
      "[CV] clf__nesterovs_momentum=False, clf__solver=lbfgs, clf__momentum=0.9, clf__learning_rate=invscaling \n",
      "[CV]  clf__nesterovs_momentum=True, clf__solver=adam, clf__momentum=0.9, clf__learning_rate=invscaling, total=  10.2s\n",
      "[CV] clf__nesterovs_momentum=False, clf__solver=lbfgs, clf__momentum=0.9, clf__learning_rate=invscaling \n",
      "[CV]  clf__nesterovs_momentum=False, clf__solver=sgd, clf__momentum=0.9, clf__learning_rate=invscaling, total=   9.2s\n",
      "[CV] clf__nesterovs_momentum=False, clf__solver=adam, clf__momentum=0.9, clf__learning_rate=invscaling \n",
      "[CV]  clf__nesterovs_momentum=True, clf__solver=sgd, clf__momentum=0.9, clf__learning_rate=invscaling, total=  40.9s\n",
      "[CV] clf__nesterovs_momentum=False, clf__solver=adam, clf__momentum=0.9, clf__learning_rate=invscaling \n",
      "[CV]  clf__nesterovs_momentum=False, clf__solver=sgd, clf__momentum=0.9, clf__learning_rate=invscaling, total=  10.3s\n",
      "[CV] clf__nesterovs_momentum=False, clf__solver=adam, clf__momentum=0.9, clf__learning_rate=invscaling \n",
      "[CV]  clf__nesterovs_momentum=False, clf__solver=adam, clf__momentum=0.9, clf__learning_rate=invscaling, total=   8.9s\n",
      "[CV]  clf__nesterovs_momentum=False, clf__solver=adam, clf__momentum=0.9, clf__learning_rate=invscaling, total=  11.4s\n",
      "[CV]  clf__nesterovs_momentum=False, clf__solver=adam, clf__momentum=0.9, clf__learning_rate=invscaling, total=  15.2s\n",
      "[CV]  clf__nesterovs_momentum=False, clf__solver=lbfgs, clf__momentum=0, clf__learning_rate=invscaling, total= 1.7min\n",
      "[CV]  clf__nesterovs_momentum=False, clf__solver=lbfgs, clf__momentum=0, clf__learning_rate=invscaling, total= 1.7min\n",
      "[CV]  clf__nesterovs_momentum=False, clf__solver=lbfgs, clf__momentum=0, clf__learning_rate=invscaling, total= 1.8min\n",
      "[CV]  clf__nesterovs_momentum=False, clf__solver=sgd, clf__momentum=0.9, clf__learning_rate=invscaling, total= 1.1min\n",
      "[CV]  clf__nesterovs_momentum=True, clf__solver=lbfgs, clf__momentum=0.9, clf__learning_rate=invscaling, total= 1.7min\n",
      "[CV]  clf__nesterovs_momentum=True, clf__solver=lbfgs, clf__momentum=0.9, clf__learning_rate=invscaling, total= 1.8min\n",
      "[CV]  clf__nesterovs_momentum=False, clf__solver=lbfgs, clf__momentum=0.9, clf__learning_rate=invscaling, total= 1.6min\n",
      "[CV]  clf__nesterovs_momentum=False, clf__solver=lbfgs, clf__momentum=0.9, clf__learning_rate=invscaling, total= 1.7min\n",
      "[CV]  clf__nesterovs_momentum=False, clf__solver=lbfgs, clf__momentum=0.9, clf__learning_rate=invscaling, total= 1.7min\n"
     ]
    },
    {
     "name": "stderr",
     "output_type": "stream",
     "text": [
      "[Parallel(n_jobs=12)]: Done  72 out of  72 | elapsed:  5.6min finished\n"
     ]
    },
    {
     "name": "stdout",
     "output_type": "stream",
     "text": [
      "best score : 0.597071373473\n",
      "best params : {'clf__nesterovs_momentum': False, 'clf__solver': 'sgd', 'clf__momentum': 0, 'clf__learning_rate': 'invscaling'}\n"
     ]
    }
   ],
   "source": [
    "clf = Pipeline(steps)\n",
    "cv = list(GroupKFold(n_splits=3).split(features_df, labels, user_ids))\n",
    "gsv = GridSearchCV(clf, param_grid=param_grid, cv=cv, n_jobs=12, verbose=2)\n",
    "\n",
    "gsv_results = gsv.fit(features_df, labels)\n",
    "print(\"best score : %s\" % gsv_results.best_score_)\n",
    "print(\"best params : %s\" % gsv_results.best_params_)"
   ]
  },
  {
   "cell_type": "markdown",
   "metadata": {},
   "source": [
    "# Tuning an SVM classifier"
   ]
  },
  {
   "cell_type": "code",
   "execution_count": 4,
   "metadata": {
    "collapsed": true
   },
   "outputs": [],
   "source": [
    "from sklearn.svm import SVC"
   ]
  },
  {
   "cell_type": "code",
   "execution_count": 5,
   "metadata": {
    "collapsed": true
   },
   "outputs": [],
   "source": [
    "param_grid = {'clf__C':[0.001, 0.01, 0.1, 1, 10], \n",
    "              'clf__gamma': [0.001, 0.01, 0.1, 1]}"
   ]
  },
  {
   "cell_type": "code",
   "execution_count": 6,
   "metadata": {
    "collapsed": true
   },
   "outputs": [],
   "source": [
    "steps = [('standardize', StandardScaler()),\n",
    "         ('clf', SVC(kernel=\"rbf\", cache_size=3000))]\n",
    "clf = Pipeline(steps)"
   ]
  },
  {
   "cell_type": "code",
   "execution_count": 11,
   "metadata": {
    "scrolled": true
   },
   "outputs": [
    {
     "name": "stdout",
     "output_type": "stream",
     "text": [
      "[CV]  ................................................................\n",
      "[CV]  ................................................................\n",
      "[CV]  ................................................................\n"
     ]
    },
    {
     "name": "stderr",
     "output_type": "stream",
     "text": [
      "Process ForkPoolWorker-22:\n",
      "Process ForkPoolWorker-23:\n",
      "Process ForkPoolWorker-21:\n",
      "Process ForkPoolWorker-28:\n",
      "Process ForkPoolWorker-27:\n",
      "Process ForkPoolWorker-20:\n",
      "Process ForkPoolWorker-26:\n",
      "Process ForkPoolWorker-25:\n",
      "Process ForkPoolWorker-24:\n",
      "Traceback (most recent call last):\n",
      "Traceback (most recent call last):\n",
      "Traceback (most recent call last):\n",
      "Traceback (most recent call last):\n",
      "Traceback (most recent call last):\n",
      "Traceback (most recent call last):\n",
      "Traceback (most recent call last):\n",
      "Traceback (most recent call last):\n",
      "  File \"/usr/lib64/python3.4/multiprocessing/process.py\", line 254, in _bootstrap\n",
      "    self.run()\n",
      "Traceback (most recent call last):\n",
      "  File \"/usr/lib64/python3.4/multiprocessing/process.py\", line 254, in _bootstrap\n",
      "    self.run()\n",
      "  File \"/usr/lib64/python3.4/multiprocessing/process.py\", line 254, in _bootstrap\n",
      "    self.run()\n",
      "  File \"/usr/lib64/python3.4/multiprocessing/process.py\", line 93, in run\n",
      "    self._target(*self._args, **self._kwargs)\n",
      "  File \"/usr/lib64/python3.4/multiprocessing/process.py\", line 93, in run\n",
      "    self._target(*self._args, **self._kwargs)\n",
      "  File \"/usr/lib64/python3.4/multiprocessing/process.py\", line 254, in _bootstrap\n",
      "    self.run()\n",
      "  File \"/usr/lib64/python3.4/multiprocessing/process.py\", line 93, in run\n",
      "    self._target(*self._args, **self._kwargs)\n",
      "  File \"/usr/lib64/python3.4/multiprocessing/process.py\", line 254, in _bootstrap\n",
      "    self.run()\n",
      "  File \"/usr/lib64/python3.4/multiprocessing/process.py\", line 254, in _bootstrap\n",
      "    self.run()\n",
      "  File \"/usr/lib64/python3.4/multiprocessing/process.py\", line 254, in _bootstrap\n",
      "    self.run()\n",
      "  File \"/usr/lib64/python3.4/multiprocessing/process.py\", line 254, in _bootstrap\n",
      "    self.run()\n",
      "  File \"/usr/lib64/python3.4/multiprocessing/process.py\", line 254, in _bootstrap\n",
      "    self.run()\n",
      "  File \"/usr/lib64/python3.4/multiprocessing/pool.py\", line 108, in worker\n",
      "    task = get()\n",
      "  File \"/usr/lib64/python3.4/multiprocessing/pool.py\", line 108, in worker\n",
      "    task = get()\n",
      "  File \"/usr/lib64/python3.4/multiprocessing/process.py\", line 93, in run\n",
      "    self._target(*self._args, **self._kwargs)\n",
      "  File \"/usr/lib64/python3.4/multiprocessing/pool.py\", line 108, in worker\n",
      "    task = get()\n",
      "  File \"/usr/lib64/python3.4/multiprocessing/process.py\", line 93, in run\n",
      "    self._target(*self._args, **self._kwargs)\n",
      "  File \"/usr/lib64/python3.4/multiprocessing/process.py\", line 93, in run\n",
      "    self._target(*self._args, **self._kwargs)\n",
      "  File \"/usr/lib64/python3.4/multiprocessing/process.py\", line 93, in run\n",
      "    self._target(*self._args, **self._kwargs)\n",
      "  File \"/usr/lib64/python3.4/multiprocessing/process.py\", line 93, in run\n",
      "    self._target(*self._args, **self._kwargs)\n",
      "  File \"/usr/lib64/python3.4/multiprocessing/process.py\", line 93, in run\n",
      "    self._target(*self._args, **self._kwargs)\n",
      "  File \"/usr/lib64/python3.4/multiprocessing/pool.py\", line 108, in worker\n",
      "    task = get()\n",
      "  File \"/usr/lib64/python3.4/site-packages/sklearn/externals/joblib/pool.py\", line 360, in get\n",
      "    racquire()\n",
      "  File \"/usr/lib64/python3.4/site-packages/sklearn/externals/joblib/pool.py\", line 360, in get\n",
      "    racquire()\n",
      "  File \"/usr/lib64/python3.4/site-packages/sklearn/externals/joblib/pool.py\", line 360, in get\n",
      "    racquire()\n",
      "  File \"/usr/lib64/python3.4/multiprocessing/pool.py\", line 108, in worker\n",
      "    task = get()\n",
      "  File \"/usr/lib64/python3.4/multiprocessing/pool.py\", line 108, in worker\n",
      "    task = get()\n",
      "  File \"/usr/lib64/python3.4/multiprocessing/pool.py\", line 108, in worker\n",
      "    task = get()\n",
      "  File \"/usr/lib64/python3.4/multiprocessing/pool.py\", line 108, in worker\n",
      "    task = get()\n",
      "  File \"/usr/lib64/python3.4/multiprocessing/pool.py\", line 108, in worker\n",
      "    task = get()\n",
      "KeyboardInterrupt\n",
      "KeyboardInterrupt\n",
      "  File \"/usr/lib64/python3.4/site-packages/sklearn/externals/joblib/pool.py\", line 360, in get\n",
      "    racquire()\n",
      "KeyboardInterrupt\n",
      "  File \"/usr/lib64/python3.4/site-packages/sklearn/externals/joblib/pool.py\", line 360, in get\n",
      "    racquire()\n",
      "  File \"/usr/lib64/python3.4/site-packages/sklearn/externals/joblib/pool.py\", line 360, in get\n",
      "    racquire()\n",
      "  File \"/usr/lib64/python3.4/site-packages/sklearn/externals/joblib/pool.py\", line 360, in get\n",
      "    racquire()\n",
      "  File \"/usr/lib64/python3.4/site-packages/sklearn/externals/joblib/pool.py\", line 362, in get\n",
      "    return recv()\n",
      "  File \"/usr/lib64/python3.4/site-packages/sklearn/externals/joblib/pool.py\", line 360, in get\n",
      "    racquire()\n",
      "KeyboardInterrupt\n",
      "KeyboardInterrupt\n",
      "KeyboardInterrupt\n",
      "KeyboardInterrupt\n",
      "KeyboardInterrupt\n",
      "  File \"/usr/lib64/python3.4/multiprocessing/connection.py\", line 250, in recv\n",
      "    buf = self._recv_bytes()\n",
      "  File \"/usr/lib64/python3.4/multiprocessing/connection.py\", line 416, in _recv_bytes\n",
      "    buf = self._recv(4)\n",
      "  File \"/usr/lib64/python3.4/multiprocessing/connection.py\", line 383, in _recv\n",
      "    chunk = read(handle, remaining)\n",
      "KeyboardInterrupt\n"
     ]
    },
    {
     "ename": "KeyboardInterrupt",
     "evalue": "",
     "output_type": "error",
     "traceback": [
      "\u001b[0;31m---------------------------------------------------------------------------\u001b[0m",
      "\u001b[0;31mKeyboardInterrupt\u001b[0m                         Traceback (most recent call last)",
      "\u001b[0;32m<ipython-input-11-e2d4fa57cf8f>\u001b[0m in \u001b[0;36m<module>\u001b[0;34m()\u001b[0m\n\u001b[0;32m----> 1\u001b[0;31m \u001b[0mscore\u001b[0m \u001b[0;34m=\u001b[0m \u001b[0mcross_val_score\u001b[0m\u001b[0;34m(\u001b[0m\u001b[0mclf\u001b[0m\u001b[0;34m,\u001b[0m \u001b[0mfeatures_df\u001b[0m\u001b[0;34m,\u001b[0m \u001b[0mlabels\u001b[0m\u001b[0;34m,\u001b[0m \u001b[0mgroups\u001b[0m\u001b[0;34m=\u001b[0m\u001b[0muser_ids\u001b[0m\u001b[0;34m,\u001b[0m \u001b[0mcv\u001b[0m\u001b[0;34m=\u001b[0m\u001b[0mGroupKFold\u001b[0m\u001b[0;34m(\u001b[0m\u001b[0mn_splits\u001b[0m\u001b[0;34m=\u001b[0m\u001b[0;36m3\u001b[0m\u001b[0;34m)\u001b[0m\u001b[0;34m,\u001b[0m \u001b[0mn_jobs\u001b[0m\u001b[0;34m=\u001b[0m\u001b[0;36m12\u001b[0m\u001b[0;34m,\u001b[0m \u001b[0mscoring\u001b[0m\u001b[0;34m=\u001b[0m\u001b[0mscorer\u001b[0m\u001b[0;34m,\u001b[0m \u001b[0mverbose\u001b[0m\u001b[0;34m=\u001b[0m\u001b[0;36m2\u001b[0m\u001b[0;34m)\u001b[0m\u001b[0;34m\u001b[0m\u001b[0m\n\u001b[0m",
      "\u001b[0;32m/usr/lib64/python3.4/site-packages/sklearn/model_selection/_validation.py\u001b[0m in \u001b[0;36mcross_val_score\u001b[0;34m(estimator, X, y, groups, scoring, cv, n_jobs, verbose, fit_params, pre_dispatch)\u001b[0m\n\u001b[1;32m    319\u001b[0m                                 \u001b[0mn_jobs\u001b[0m\u001b[0;34m=\u001b[0m\u001b[0mn_jobs\u001b[0m\u001b[0;34m,\u001b[0m \u001b[0mverbose\u001b[0m\u001b[0;34m=\u001b[0m\u001b[0mverbose\u001b[0m\u001b[0;34m,\u001b[0m\u001b[0;34m\u001b[0m\u001b[0m\n\u001b[1;32m    320\u001b[0m                                 \u001b[0mfit_params\u001b[0m\u001b[0;34m=\u001b[0m\u001b[0mfit_params\u001b[0m\u001b[0;34m,\u001b[0m\u001b[0;34m\u001b[0m\u001b[0m\n\u001b[0;32m--> 321\u001b[0;31m                                 pre_dispatch=pre_dispatch)\n\u001b[0m\u001b[1;32m    322\u001b[0m     \u001b[0;32mreturn\u001b[0m \u001b[0mcv_results\u001b[0m\u001b[0;34m[\u001b[0m\u001b[0;34m'test_score'\u001b[0m\u001b[0;34m]\u001b[0m\u001b[0;34m\u001b[0m\u001b[0m\n\u001b[1;32m    323\u001b[0m \u001b[0;34m\u001b[0m\u001b[0m\n",
      "\u001b[0;32m/usr/lib64/python3.4/site-packages/sklearn/model_selection/_validation.py\u001b[0m in \u001b[0;36mcross_validate\u001b[0;34m(estimator, X, y, groups, scoring, cv, n_jobs, verbose, fit_params, pre_dispatch, return_train_score)\u001b[0m\n\u001b[1;32m    193\u001b[0m             \u001b[0mfit_params\u001b[0m\u001b[0;34m,\u001b[0m \u001b[0mreturn_train_score\u001b[0m\u001b[0;34m=\u001b[0m\u001b[0mreturn_train_score\u001b[0m\u001b[0;34m,\u001b[0m\u001b[0;34m\u001b[0m\u001b[0m\n\u001b[1;32m    194\u001b[0m             return_times=True)\n\u001b[0;32m--> 195\u001b[0;31m         for train, test in cv.split(X, y, groups))\n\u001b[0m\u001b[1;32m    196\u001b[0m \u001b[0;34m\u001b[0m\u001b[0m\n\u001b[1;32m    197\u001b[0m     \u001b[0;32mif\u001b[0m \u001b[0mreturn_train_score\u001b[0m\u001b[0;34m:\u001b[0m\u001b[0;34m\u001b[0m\u001b[0m\n",
      "\u001b[0;32m/usr/lib64/python3.4/site-packages/sklearn/externals/joblib/parallel.py\u001b[0m in \u001b[0;36m__call__\u001b[0;34m(self, iterable)\u001b[0m\n\u001b[1;32m    787\u001b[0m                 \u001b[0;31m# consumption.\u001b[0m\u001b[0;34m\u001b[0m\u001b[0;34m\u001b[0m\u001b[0m\n\u001b[1;32m    788\u001b[0m                 \u001b[0mself\u001b[0m\u001b[0;34m.\u001b[0m\u001b[0m_iterating\u001b[0m \u001b[0;34m=\u001b[0m \u001b[0;32mFalse\u001b[0m\u001b[0;34m\u001b[0m\u001b[0m\n\u001b[0;32m--> 789\u001b[0;31m             \u001b[0mself\u001b[0m\u001b[0;34m.\u001b[0m\u001b[0mretrieve\u001b[0m\u001b[0;34m(\u001b[0m\u001b[0;34m)\u001b[0m\u001b[0;34m\u001b[0m\u001b[0m\n\u001b[0m\u001b[1;32m    790\u001b[0m             \u001b[0;31m# Make sure that we get a last message telling us we are done\u001b[0m\u001b[0;34m\u001b[0m\u001b[0;34m\u001b[0m\u001b[0m\n\u001b[1;32m    791\u001b[0m             \u001b[0melapsed_time\u001b[0m \u001b[0;34m=\u001b[0m \u001b[0mtime\u001b[0m\u001b[0;34m.\u001b[0m\u001b[0mtime\u001b[0m\u001b[0;34m(\u001b[0m\u001b[0;34m)\u001b[0m \u001b[0;34m-\u001b[0m \u001b[0mself\u001b[0m\u001b[0;34m.\u001b[0m\u001b[0m_start_time\u001b[0m\u001b[0;34m\u001b[0m\u001b[0m\n",
      "\u001b[0;32m/usr/lib64/python3.4/site-packages/sklearn/externals/joblib/parallel.py\u001b[0m in \u001b[0;36mretrieve\u001b[0;34m(self)\u001b[0m\n\u001b[1;32m    697\u001b[0m             \u001b[0;32mtry\u001b[0m\u001b[0;34m:\u001b[0m\u001b[0;34m\u001b[0m\u001b[0m\n\u001b[1;32m    698\u001b[0m                 \u001b[0;32mif\u001b[0m \u001b[0mgetattr\u001b[0m\u001b[0;34m(\u001b[0m\u001b[0mself\u001b[0m\u001b[0;34m.\u001b[0m\u001b[0m_backend\u001b[0m\u001b[0;34m,\u001b[0m \u001b[0;34m'supports_timeout'\u001b[0m\u001b[0;34m,\u001b[0m \u001b[0;32mFalse\u001b[0m\u001b[0;34m)\u001b[0m\u001b[0;34m:\u001b[0m\u001b[0;34m\u001b[0m\u001b[0m\n\u001b[0;32m--> 699\u001b[0;31m                     \u001b[0mself\u001b[0m\u001b[0;34m.\u001b[0m\u001b[0m_output\u001b[0m\u001b[0;34m.\u001b[0m\u001b[0mextend\u001b[0m\u001b[0;34m(\u001b[0m\u001b[0mjob\u001b[0m\u001b[0;34m.\u001b[0m\u001b[0mget\u001b[0m\u001b[0;34m(\u001b[0m\u001b[0mtimeout\u001b[0m\u001b[0;34m=\u001b[0m\u001b[0mself\u001b[0m\u001b[0;34m.\u001b[0m\u001b[0mtimeout\u001b[0m\u001b[0;34m)\u001b[0m\u001b[0;34m)\u001b[0m\u001b[0;34m\u001b[0m\u001b[0m\n\u001b[0m\u001b[1;32m    700\u001b[0m                 \u001b[0;32melse\u001b[0m\u001b[0;34m:\u001b[0m\u001b[0;34m\u001b[0m\u001b[0m\n\u001b[1;32m    701\u001b[0m                     \u001b[0mself\u001b[0m\u001b[0;34m.\u001b[0m\u001b[0m_output\u001b[0m\u001b[0;34m.\u001b[0m\u001b[0mextend\u001b[0m\u001b[0;34m(\u001b[0m\u001b[0mjob\u001b[0m\u001b[0;34m.\u001b[0m\u001b[0mget\u001b[0m\u001b[0;34m(\u001b[0m\u001b[0;34m)\u001b[0m\u001b[0;34m)\u001b[0m\u001b[0;34m\u001b[0m\u001b[0m\n",
      "\u001b[0;32m/usr/lib64/python3.4/multiprocessing/pool.py\u001b[0m in \u001b[0;36mget\u001b[0;34m(self, timeout)\u001b[0m\n\u001b[1;32m    600\u001b[0m \u001b[0;34m\u001b[0m\u001b[0m\n\u001b[1;32m    601\u001b[0m     \u001b[0;32mdef\u001b[0m \u001b[0mget\u001b[0m\u001b[0;34m(\u001b[0m\u001b[0mself\u001b[0m\u001b[0;34m,\u001b[0m \u001b[0mtimeout\u001b[0m\u001b[0;34m=\u001b[0m\u001b[0;32mNone\u001b[0m\u001b[0;34m)\u001b[0m\u001b[0;34m:\u001b[0m\u001b[0;34m\u001b[0m\u001b[0m\n\u001b[0;32m--> 602\u001b[0;31m         \u001b[0mself\u001b[0m\u001b[0;34m.\u001b[0m\u001b[0mwait\u001b[0m\u001b[0;34m(\u001b[0m\u001b[0mtimeout\u001b[0m\u001b[0;34m)\u001b[0m\u001b[0;34m\u001b[0m\u001b[0m\n\u001b[0m\u001b[1;32m    603\u001b[0m         \u001b[0;32mif\u001b[0m \u001b[0;32mnot\u001b[0m \u001b[0mself\u001b[0m\u001b[0;34m.\u001b[0m\u001b[0mready\u001b[0m\u001b[0;34m(\u001b[0m\u001b[0;34m)\u001b[0m\u001b[0;34m:\u001b[0m\u001b[0;34m\u001b[0m\u001b[0m\n\u001b[1;32m    604\u001b[0m             \u001b[0;32mraise\u001b[0m \u001b[0mTimeoutError\u001b[0m\u001b[0;34m\u001b[0m\u001b[0m\n",
      "\u001b[0;32m/usr/lib64/python3.4/multiprocessing/pool.py\u001b[0m in \u001b[0;36mwait\u001b[0;34m(self, timeout)\u001b[0m\n\u001b[1;32m    597\u001b[0m \u001b[0;34m\u001b[0m\u001b[0m\n\u001b[1;32m    598\u001b[0m     \u001b[0;32mdef\u001b[0m \u001b[0mwait\u001b[0m\u001b[0;34m(\u001b[0m\u001b[0mself\u001b[0m\u001b[0;34m,\u001b[0m \u001b[0mtimeout\u001b[0m\u001b[0;34m=\u001b[0m\u001b[0;32mNone\u001b[0m\u001b[0;34m)\u001b[0m\u001b[0;34m:\u001b[0m\u001b[0;34m\u001b[0m\u001b[0m\n\u001b[0;32m--> 599\u001b[0;31m         \u001b[0mself\u001b[0m\u001b[0;34m.\u001b[0m\u001b[0m_event\u001b[0m\u001b[0;34m.\u001b[0m\u001b[0mwait\u001b[0m\u001b[0;34m(\u001b[0m\u001b[0mtimeout\u001b[0m\u001b[0;34m)\u001b[0m\u001b[0;34m\u001b[0m\u001b[0m\n\u001b[0m\u001b[1;32m    600\u001b[0m \u001b[0;34m\u001b[0m\u001b[0m\n\u001b[1;32m    601\u001b[0m     \u001b[0;32mdef\u001b[0m \u001b[0mget\u001b[0m\u001b[0;34m(\u001b[0m\u001b[0mself\u001b[0m\u001b[0;34m,\u001b[0m \u001b[0mtimeout\u001b[0m\u001b[0;34m=\u001b[0m\u001b[0;32mNone\u001b[0m\u001b[0;34m)\u001b[0m\u001b[0;34m:\u001b[0m\u001b[0;34m\u001b[0m\u001b[0m\n",
      "\u001b[0;32m/usr/lib64/python3.4/threading.py\u001b[0m in \u001b[0;36mwait\u001b[0;34m(self, timeout)\u001b[0m\n\u001b[1;32m    544\u001b[0m             \u001b[0msignaled\u001b[0m \u001b[0;34m=\u001b[0m \u001b[0mself\u001b[0m\u001b[0;34m.\u001b[0m\u001b[0m_flag\u001b[0m\u001b[0;34m\u001b[0m\u001b[0m\n\u001b[1;32m    545\u001b[0m             \u001b[0;32mif\u001b[0m \u001b[0;32mnot\u001b[0m \u001b[0msignaled\u001b[0m\u001b[0;34m:\u001b[0m\u001b[0;34m\u001b[0m\u001b[0m\n\u001b[0;32m--> 546\u001b[0;31m                 \u001b[0msignaled\u001b[0m \u001b[0;34m=\u001b[0m \u001b[0mself\u001b[0m\u001b[0;34m.\u001b[0m\u001b[0m_cond\u001b[0m\u001b[0;34m.\u001b[0m\u001b[0mwait\u001b[0m\u001b[0;34m(\u001b[0m\u001b[0mtimeout\u001b[0m\u001b[0;34m)\u001b[0m\u001b[0;34m\u001b[0m\u001b[0m\n\u001b[0m\u001b[1;32m    547\u001b[0m             \u001b[0;32mreturn\u001b[0m \u001b[0msignaled\u001b[0m\u001b[0;34m\u001b[0m\u001b[0m\n\u001b[1;32m    548\u001b[0m \u001b[0;34m\u001b[0m\u001b[0m\n",
      "\u001b[0;32m/usr/lib64/python3.4/threading.py\u001b[0m in \u001b[0;36mwait\u001b[0;34m(self, timeout)\u001b[0m\n\u001b[1;32m    288\u001b[0m         \u001b[0;32mtry\u001b[0m\u001b[0;34m:\u001b[0m    \u001b[0;31m# restore state no matter what (e.g., KeyboardInterrupt)\u001b[0m\u001b[0;34m\u001b[0m\u001b[0m\n\u001b[1;32m    289\u001b[0m             \u001b[0;32mif\u001b[0m \u001b[0mtimeout\u001b[0m \u001b[0;32mis\u001b[0m \u001b[0;32mNone\u001b[0m\u001b[0;34m:\u001b[0m\u001b[0;34m\u001b[0m\u001b[0m\n\u001b[0;32m--> 290\u001b[0;31m                 \u001b[0mwaiter\u001b[0m\u001b[0;34m.\u001b[0m\u001b[0macquire\u001b[0m\u001b[0;34m(\u001b[0m\u001b[0;34m)\u001b[0m\u001b[0;34m\u001b[0m\u001b[0m\n\u001b[0m\u001b[1;32m    291\u001b[0m                 \u001b[0mgotit\u001b[0m \u001b[0;34m=\u001b[0m \u001b[0;32mTrue\u001b[0m\u001b[0;34m\u001b[0m\u001b[0m\n\u001b[1;32m    292\u001b[0m             \u001b[0;32melse\u001b[0m\u001b[0;34m:\u001b[0m\u001b[0;34m\u001b[0m\u001b[0m\n",
      "\u001b[0;31mKeyboardInterrupt\u001b[0m: "
     ]
    }
   ],
   "source": [
    "score = cross_val_score(clf, features_df, labels, groups=user_ids, cv=GroupKFold(n_splits=3), n_jobs=12, scoring=scorer, verbose=2)\n"
   ]
  },
  {
   "cell_type": "code",
   "execution_count": 7,
   "metadata": {
    "scrolled": true
   },
   "outputs": [
    {
     "name": "stdout",
     "output_type": "stream",
     "text": [
      "Fitting 3 folds for each of 20 candidates, totalling 60 fits\n",
      "[CV] clf__C=0.001, clf__gamma=0.001 ..................................\n",
      "[CV] clf__C=0.001, clf__gamma=0.001 ..................................\n",
      "[CV] clf__C=0.001, clf__gamma=0.001 ..................................\n",
      "[CV] clf__C=0.001, clf__gamma=0.01 ...................................\n"
     ]
    },
    {
     "ename": "KeyboardInterrupt",
     "evalue": "",
     "output_type": "error",
     "traceback": [
      "\u001b[0;31m---------------------------------------------------------------------------\u001b[0m",
      "\u001b[0;31mKeyboardInterrupt\u001b[0m                         Traceback (most recent call last)",
      "\u001b[0;32m<ipython-input-7-fa76dfa029c1>\u001b[0m in \u001b[0;36m<module>\u001b[0;34m()\u001b[0m\n\u001b[1;32m      3\u001b[0m \u001b[0mgsv\u001b[0m \u001b[0;34m=\u001b[0m \u001b[0mGridSearchCV\u001b[0m\u001b[0;34m(\u001b[0m\u001b[0mclf\u001b[0m\u001b[0;34m,\u001b[0m \u001b[0mparam_grid\u001b[0m\u001b[0;34m=\u001b[0m\u001b[0mparam_grid\u001b[0m\u001b[0;34m,\u001b[0m \u001b[0mcv\u001b[0m\u001b[0;34m=\u001b[0m\u001b[0mcv\u001b[0m\u001b[0;34m,\u001b[0m \u001b[0mn_jobs\u001b[0m\u001b[0;34m=\u001b[0m\u001b[0;36m4\u001b[0m\u001b[0;34m,\u001b[0m \u001b[0mverbose\u001b[0m\u001b[0;34m=\u001b[0m\u001b[0;36m2\u001b[0m\u001b[0;34m)\u001b[0m\u001b[0;34m\u001b[0m\u001b[0m\n\u001b[1;32m      4\u001b[0m \u001b[0;34m\u001b[0m\u001b[0m\n\u001b[0;32m----> 5\u001b[0;31m \u001b[0mgsv_results\u001b[0m \u001b[0;34m=\u001b[0m \u001b[0mgsv\u001b[0m\u001b[0;34m.\u001b[0m\u001b[0mfit\u001b[0m\u001b[0;34m(\u001b[0m\u001b[0mfeatures_df\u001b[0m\u001b[0;34m,\u001b[0m \u001b[0mlabels\u001b[0m\u001b[0;34m)\u001b[0m\u001b[0;34m\u001b[0m\u001b[0m\n\u001b[0m\u001b[1;32m      6\u001b[0m \u001b[0mprint\u001b[0m\u001b[0;34m(\u001b[0m\u001b[0;34m\"best score : %s\"\u001b[0m \u001b[0;34m%\u001b[0m \u001b[0mgsv_results\u001b[0m\u001b[0;34m.\u001b[0m\u001b[0mbest_score_\u001b[0m\u001b[0;34m)\u001b[0m\u001b[0;34m\u001b[0m\u001b[0m\n\u001b[1;32m      7\u001b[0m \u001b[0mprint\u001b[0m\u001b[0;34m(\u001b[0m\u001b[0;34m\"best params : %s\"\u001b[0m \u001b[0;34m%\u001b[0m \u001b[0mgsv_results\u001b[0m\u001b[0;34m.\u001b[0m\u001b[0mbest_params_\u001b[0m\u001b[0;34m)\u001b[0m\u001b[0;34m\u001b[0m\u001b[0m\n",
      "\u001b[0;32m/usr/lib64/python3.4/site-packages/sklearn/model_selection/_search.py\u001b[0m in \u001b[0;36mfit\u001b[0;34m(self, X, y, groups, **fit_params)\u001b[0m\n\u001b[1;32m    636\u001b[0m                                   error_score=self.error_score)\n\u001b[1;32m    637\u001b[0m           for parameters, (train, test) in product(candidate_params,\n\u001b[0;32m--> 638\u001b[0;31m                                                    cv.split(X, y, groups)))\n\u001b[0m\u001b[1;32m    639\u001b[0m \u001b[0;34m\u001b[0m\u001b[0m\n\u001b[1;32m    640\u001b[0m         \u001b[0;31m# if one choose to see train score, \"out\" will contain train score info\u001b[0m\u001b[0;34m\u001b[0m\u001b[0;34m\u001b[0m\u001b[0m\n",
      "\u001b[0;32m/usr/lib64/python3.4/site-packages/sklearn/externals/joblib/parallel.py\u001b[0m in \u001b[0;36m__call__\u001b[0;34m(self, iterable)\u001b[0m\n\u001b[1;32m    787\u001b[0m                 \u001b[0;31m# consumption.\u001b[0m\u001b[0;34m\u001b[0m\u001b[0;34m\u001b[0m\u001b[0m\n\u001b[1;32m    788\u001b[0m                 \u001b[0mself\u001b[0m\u001b[0;34m.\u001b[0m\u001b[0m_iterating\u001b[0m \u001b[0;34m=\u001b[0m \u001b[0;32mFalse\u001b[0m\u001b[0;34m\u001b[0m\u001b[0m\n\u001b[0;32m--> 789\u001b[0;31m             \u001b[0mself\u001b[0m\u001b[0;34m.\u001b[0m\u001b[0mretrieve\u001b[0m\u001b[0;34m(\u001b[0m\u001b[0;34m)\u001b[0m\u001b[0;34m\u001b[0m\u001b[0m\n\u001b[0m\u001b[1;32m    790\u001b[0m             \u001b[0;31m# Make sure that we get a last message telling us we are done\u001b[0m\u001b[0;34m\u001b[0m\u001b[0;34m\u001b[0m\u001b[0m\n\u001b[1;32m    791\u001b[0m             \u001b[0melapsed_time\u001b[0m \u001b[0;34m=\u001b[0m \u001b[0mtime\u001b[0m\u001b[0;34m.\u001b[0m\u001b[0mtime\u001b[0m\u001b[0;34m(\u001b[0m\u001b[0;34m)\u001b[0m \u001b[0;34m-\u001b[0m \u001b[0mself\u001b[0m\u001b[0;34m.\u001b[0m\u001b[0m_start_time\u001b[0m\u001b[0;34m\u001b[0m\u001b[0m\n",
      "\u001b[0;32m/usr/lib64/python3.4/site-packages/sklearn/externals/joblib/parallel.py\u001b[0m in \u001b[0;36mretrieve\u001b[0;34m(self)\u001b[0m\n\u001b[1;32m    697\u001b[0m             \u001b[0;32mtry\u001b[0m\u001b[0;34m:\u001b[0m\u001b[0;34m\u001b[0m\u001b[0m\n\u001b[1;32m    698\u001b[0m                 \u001b[0;32mif\u001b[0m \u001b[0mgetattr\u001b[0m\u001b[0;34m(\u001b[0m\u001b[0mself\u001b[0m\u001b[0;34m.\u001b[0m\u001b[0m_backend\u001b[0m\u001b[0;34m,\u001b[0m \u001b[0;34m'supports_timeout'\u001b[0m\u001b[0;34m,\u001b[0m \u001b[0;32mFalse\u001b[0m\u001b[0;34m)\u001b[0m\u001b[0;34m:\u001b[0m\u001b[0;34m\u001b[0m\u001b[0m\n\u001b[0;32m--> 699\u001b[0;31m                     \u001b[0mself\u001b[0m\u001b[0;34m.\u001b[0m\u001b[0m_output\u001b[0m\u001b[0;34m.\u001b[0m\u001b[0mextend\u001b[0m\u001b[0;34m(\u001b[0m\u001b[0mjob\u001b[0m\u001b[0;34m.\u001b[0m\u001b[0mget\u001b[0m\u001b[0;34m(\u001b[0m\u001b[0mtimeout\u001b[0m\u001b[0;34m=\u001b[0m\u001b[0mself\u001b[0m\u001b[0;34m.\u001b[0m\u001b[0mtimeout\u001b[0m\u001b[0;34m)\u001b[0m\u001b[0;34m)\u001b[0m\u001b[0;34m\u001b[0m\u001b[0m\n\u001b[0m\u001b[1;32m    700\u001b[0m                 \u001b[0;32melse\u001b[0m\u001b[0;34m:\u001b[0m\u001b[0;34m\u001b[0m\u001b[0m\n\u001b[1;32m    701\u001b[0m                     \u001b[0mself\u001b[0m\u001b[0;34m.\u001b[0m\u001b[0m_output\u001b[0m\u001b[0;34m.\u001b[0m\u001b[0mextend\u001b[0m\u001b[0;34m(\u001b[0m\u001b[0mjob\u001b[0m\u001b[0;34m.\u001b[0m\u001b[0mget\u001b[0m\u001b[0;34m(\u001b[0m\u001b[0;34m)\u001b[0m\u001b[0;34m)\u001b[0m\u001b[0;34m\u001b[0m\u001b[0m\n",
      "\u001b[0;32m/usr/lib64/python3.4/multiprocessing/pool.py\u001b[0m in \u001b[0;36mget\u001b[0;34m(self, timeout)\u001b[0m\n\u001b[1;32m    600\u001b[0m \u001b[0;34m\u001b[0m\u001b[0m\n\u001b[1;32m    601\u001b[0m     \u001b[0;32mdef\u001b[0m \u001b[0mget\u001b[0m\u001b[0;34m(\u001b[0m\u001b[0mself\u001b[0m\u001b[0;34m,\u001b[0m \u001b[0mtimeout\u001b[0m\u001b[0;34m=\u001b[0m\u001b[0;32mNone\u001b[0m\u001b[0;34m)\u001b[0m\u001b[0;34m:\u001b[0m\u001b[0;34m\u001b[0m\u001b[0m\n\u001b[0;32m--> 602\u001b[0;31m         \u001b[0mself\u001b[0m\u001b[0;34m.\u001b[0m\u001b[0mwait\u001b[0m\u001b[0;34m(\u001b[0m\u001b[0mtimeout\u001b[0m\u001b[0;34m)\u001b[0m\u001b[0;34m\u001b[0m\u001b[0m\n\u001b[0m\u001b[1;32m    603\u001b[0m         \u001b[0;32mif\u001b[0m \u001b[0;32mnot\u001b[0m \u001b[0mself\u001b[0m\u001b[0;34m.\u001b[0m\u001b[0mready\u001b[0m\u001b[0;34m(\u001b[0m\u001b[0;34m)\u001b[0m\u001b[0;34m:\u001b[0m\u001b[0;34m\u001b[0m\u001b[0m\n\u001b[1;32m    604\u001b[0m             \u001b[0;32mraise\u001b[0m \u001b[0mTimeoutError\u001b[0m\u001b[0;34m\u001b[0m\u001b[0m\n",
      "\u001b[0;32m/usr/lib64/python3.4/multiprocessing/pool.py\u001b[0m in \u001b[0;36mwait\u001b[0;34m(self, timeout)\u001b[0m\n\u001b[1;32m    597\u001b[0m \u001b[0;34m\u001b[0m\u001b[0m\n\u001b[1;32m    598\u001b[0m     \u001b[0;32mdef\u001b[0m \u001b[0mwait\u001b[0m\u001b[0;34m(\u001b[0m\u001b[0mself\u001b[0m\u001b[0;34m,\u001b[0m \u001b[0mtimeout\u001b[0m\u001b[0;34m=\u001b[0m\u001b[0;32mNone\u001b[0m\u001b[0;34m)\u001b[0m\u001b[0;34m:\u001b[0m\u001b[0;34m\u001b[0m\u001b[0m\n\u001b[0;32m--> 599\u001b[0;31m         \u001b[0mself\u001b[0m\u001b[0;34m.\u001b[0m\u001b[0m_event\u001b[0m\u001b[0;34m.\u001b[0m\u001b[0mwait\u001b[0m\u001b[0;34m(\u001b[0m\u001b[0mtimeout\u001b[0m\u001b[0;34m)\u001b[0m\u001b[0;34m\u001b[0m\u001b[0m\n\u001b[0m\u001b[1;32m    600\u001b[0m \u001b[0;34m\u001b[0m\u001b[0m\n\u001b[1;32m    601\u001b[0m     \u001b[0;32mdef\u001b[0m \u001b[0mget\u001b[0m\u001b[0;34m(\u001b[0m\u001b[0mself\u001b[0m\u001b[0;34m,\u001b[0m \u001b[0mtimeout\u001b[0m\u001b[0;34m=\u001b[0m\u001b[0;32mNone\u001b[0m\u001b[0;34m)\u001b[0m\u001b[0;34m:\u001b[0m\u001b[0;34m\u001b[0m\u001b[0m\n",
      "\u001b[0;32m/usr/lib64/python3.4/threading.py\u001b[0m in \u001b[0;36mwait\u001b[0;34m(self, timeout)\u001b[0m\n\u001b[1;32m    544\u001b[0m             \u001b[0msignaled\u001b[0m \u001b[0;34m=\u001b[0m \u001b[0mself\u001b[0m\u001b[0;34m.\u001b[0m\u001b[0m_flag\u001b[0m\u001b[0;34m\u001b[0m\u001b[0m\n\u001b[1;32m    545\u001b[0m             \u001b[0;32mif\u001b[0m \u001b[0;32mnot\u001b[0m \u001b[0msignaled\u001b[0m\u001b[0;34m:\u001b[0m\u001b[0;34m\u001b[0m\u001b[0m\n\u001b[0;32m--> 546\u001b[0;31m                 \u001b[0msignaled\u001b[0m \u001b[0;34m=\u001b[0m \u001b[0mself\u001b[0m\u001b[0;34m.\u001b[0m\u001b[0m_cond\u001b[0m\u001b[0;34m.\u001b[0m\u001b[0mwait\u001b[0m\u001b[0;34m(\u001b[0m\u001b[0mtimeout\u001b[0m\u001b[0;34m)\u001b[0m\u001b[0;34m\u001b[0m\u001b[0m\n\u001b[0m\u001b[1;32m    547\u001b[0m             \u001b[0;32mreturn\u001b[0m \u001b[0msignaled\u001b[0m\u001b[0;34m\u001b[0m\u001b[0m\n\u001b[1;32m    548\u001b[0m \u001b[0;34m\u001b[0m\u001b[0m\n",
      "\u001b[0;32m/usr/lib64/python3.4/threading.py\u001b[0m in \u001b[0;36mwait\u001b[0;34m(self, timeout)\u001b[0m\n\u001b[1;32m    288\u001b[0m         \u001b[0;32mtry\u001b[0m\u001b[0;34m:\u001b[0m    \u001b[0;31m# restore state no matter what (e.g., KeyboardInterrupt)\u001b[0m\u001b[0;34m\u001b[0m\u001b[0m\n\u001b[1;32m    289\u001b[0m             \u001b[0;32mif\u001b[0m \u001b[0mtimeout\u001b[0m \u001b[0;32mis\u001b[0m \u001b[0;32mNone\u001b[0m\u001b[0;34m:\u001b[0m\u001b[0;34m\u001b[0m\u001b[0m\n\u001b[0;32m--> 290\u001b[0;31m                 \u001b[0mwaiter\u001b[0m\u001b[0;34m.\u001b[0m\u001b[0macquire\u001b[0m\u001b[0;34m(\u001b[0m\u001b[0;34m)\u001b[0m\u001b[0;34m\u001b[0m\u001b[0m\n\u001b[0m\u001b[1;32m    291\u001b[0m                 \u001b[0mgotit\u001b[0m \u001b[0;34m=\u001b[0m \u001b[0;32mTrue\u001b[0m\u001b[0;34m\u001b[0m\u001b[0m\n\u001b[1;32m    292\u001b[0m             \u001b[0;32melse\u001b[0m\u001b[0;34m:\u001b[0m\u001b[0;34m\u001b[0m\u001b[0m\n",
      "\u001b[0;31mKeyboardInterrupt\u001b[0m: "
     ]
    }
   ],
   "source": [
    "clf = Pipeline(steps)\n",
    "cv = list(GroupKFold(n_splits=3).split(features_df, labels, user_ids))\n",
    "gsv = GridSearchCV(clf, param_grid=param_grid, cv=cv, n_jobs=4, verbose=2)\n",
    "\n",
    "gsv_results = gsv.fit(features_df, labels)\n",
    "print(\"best score : %s\" % gsv_results.best_score_)\n",
    "print(\"best params : %s\" % gsv_results.best_params_)"
   ]
  },
  {
   "cell_type": "markdown",
   "metadata": {},
   "source": [
    "These SVMs do not appear to converge with the RBF kernel even after many hours of training. This likely means that there is too much data to hold in even 60GB of memory."
   ]
  },
  {
   "cell_type": "markdown",
   "metadata": {},
   "source": [
    "# Bagging SVMs"
   ]
  },
  {
   "cell_type": "code",
   "execution_count": 19,
   "metadata": {
    "collapsed": true
   },
   "outputs": [],
   "source": [
    "from sklearn.ensemble import BaggingClassifier"
   ]
  },
  {
   "cell_type": "code",
   "execution_count": 36,
   "metadata": {
    "collapsed": true
   },
   "outputs": [],
   "source": [
    "steps = [('standardize', StandardScaler()),\n",
    "         ('clf', BaggingClassifier(SVC(kernel=\"rbf\", class_weight=\"balanced\", probability=True), max_samples=0.1, max_features=0.25, n_jobs=4, n_estimators=100, verbose=2))]\n",
    "clf = Pipeline(steps)"
   ]
  },
  {
   "cell_type": "code",
   "execution_count": 39,
   "metadata": {
    "collapsed": true
   },
   "outputs": [],
   "source": [
    "cv = cv=GroupKFold(n_splits=2).split(features_df, labels, user_ids)\n",
    "iteration = next(cv)\n",
    "X_train = features_df.iloc[iteration[0]]\n",
    "y_train = labels.iloc[iteration[0]]\n",
    "\n",
    "X_test = features_df.iloc[iteration[1]]\n",
    "y_test = labels.iloc[iteration[1]]"
   ]
  },
  {
   "cell_type": "code",
   "execution_count": 40,
   "metadata": {
    "scrolled": true
   },
   "outputs": [
    {
     "name": "stdout",
     "output_type": "stream",
     "text": [
      "Building estimator 1 of 25 for this parallel run (total 100)...\n",
      "Building estimator 1 of 25 for this parallel run (total 100)...\n",
      "Building estimator 1 of 25 for this parallel run (total 100)...\n",
      "Building estimator 1 of 25 for this parallel run (total 100)...\n",
      "Building estimator 2 of 25 for this parallel run (total 100)...\n",
      "Building estimator 2 of 25 for this parallel run (total 100)...\n",
      "Building estimator 2 of 25 for this parallel run (total 100)...\n",
      "Building estimator 2 of 25 for this parallel run (total 100)...\n",
      "Building estimator 3 of 25 for this parallel run (total 100)...\n",
      "Building estimator 3 of 25 for this parallel run (total 100)...\n",
      "Building estimator 3 of 25 for this parallel run (total 100)...\n",
      "Building estimator 3 of 25 for this parallel run (total 100)...\n",
      "Building estimator 4 of 25 for this parallel run (total 100)...\n",
      "Building estimator 4 of 25 for this parallel run (total 100)...\n",
      "Building estimator 4 of 25 for this parallel run (total 100)...\n",
      "Building estimator 4 of 25 for this parallel run (total 100)...\n",
      "Building estimator 5 of 25 for this parallel run (total 100)...\n",
      "Building estimator 5 of 25 for this parallel run (total 100)...\n",
      "Building estimator 5 of 25 for this parallel run (total 100)...\n",
      "Building estimator 5 of 25 for this parallel run (total 100)...\n",
      "Building estimator 6 of 25 for this parallel run (total 100)...\n",
      "Building estimator 6 of 25 for this parallel run (total 100)...\n",
      "Building estimator 6 of 25 for this parallel run (total 100)...\n",
      "Building estimator 6 of 25 for this parallel run (total 100)...\n",
      "Building estimator 7 of 25 for this parallel run (total 100)...\n",
      "Building estimator 7 of 25 for this parallel run (total 100)...\n",
      "Building estimator 7 of 25 for this parallel run (total 100)...\n",
      "Building estimator 7 of 25 for this parallel run (total 100)...\n",
      "Building estimator 8 of 25 for this parallel run (total 100)...\n",
      "Building estimator 8 of 25 for this parallel run (total 100)...\n",
      "Building estimator 8 of 25 for this parallel run (total 100)...\n",
      "Building estimator 8 of 25 for this parallel run (total 100)...\n",
      "Building estimator 9 of 25 for this parallel run (total 100)...\n",
      "Building estimator 9 of 25 for this parallel run (total 100)...\n",
      "Building estimator 9 of 25 for this parallel run (total 100)...\n",
      "Building estimator 9 of 25 for this parallel run (total 100)...\n",
      "Building estimator 10 of 25 for this parallel run (total 100)...\n",
      "Building estimator 10 of 25 for this parallel run (total 100)...\n",
      "Building estimator 10 of 25 for this parallel run (total 100)...\n",
      "Building estimator 10 of 25 for this parallel run (total 100)...\n",
      "Building estimator 11 of 25 for this parallel run (total 100)...\n",
      "Building estimator 11 of 25 for this parallel run (total 100)...\n",
      "Building estimator 11 of 25 for this parallel run (total 100)...\n",
      "Building estimator 11 of 25 for this parallel run (total 100)...\n",
      "Building estimator 12 of 25 for this parallel run (total 100)...\n",
      "Building estimator 12 of 25 for this parallel run (total 100)...\n",
      "Building estimator 12 of 25 for this parallel run (total 100)...\n",
      "Building estimator 13 of 25 for this parallel run (total 100)...\n",
      "Building estimator 12 of 25 for this parallel run (total 100)...\n",
      "Building estimator 13 of 25 for this parallel run (total 100)...\n",
      "Building estimator 13 of 25 for this parallel run (total 100)...\n",
      "Building estimator 13 of 25 for this parallel run (total 100)...\n",
      "Building estimator 14 of 25 for this parallel run (total 100)...\n",
      "Building estimator 14 of 25 for this parallel run (total 100)...\n",
      "Building estimator 14 of 25 for this parallel run (total 100)...\n",
      "Building estimator 14 of 25 for this parallel run (total 100)...\n",
      "Building estimator 15 of 25 for this parallel run (total 100)...\n",
      "Building estimator 15 of 25 for this parallel run (total 100)...\n",
      "Building estimator 15 of 25 for this parallel run (total 100)...\n",
      "Building estimator 15 of 25 for this parallel run (total 100)...\n",
      "Building estimator 16 of 25 for this parallel run (total 100)...\n",
      "Building estimator 16 of 25 for this parallel run (total 100)...\n",
      "Building estimator 16 of 25 for this parallel run (total 100)...\n",
      "Building estimator 17 of 25 for this parallel run (total 100)...\n",
      "Building estimator 16 of 25 for this parallel run (total 100)...\n",
      "Building estimator 17 of 25 for this parallel run (total 100)...\n",
      "Building estimator 17 of 25 for this parallel run (total 100)...\n",
      "Building estimator 18 of 25 for this parallel run (total 100)...\n",
      "Building estimator 17 of 25 for this parallel run (total 100)...\n",
      "Building estimator 18 of 25 for this parallel run (total 100)...\n",
      "Building estimator 18 of 25 for this parallel run (total 100)...\n",
      "Building estimator 19 of 25 for this parallel run (total 100)...\n",
      "Building estimator 18 of 25 for this parallel run (total 100)...\n",
      "Building estimator 19 of 25 for this parallel run (total 100)...\n",
      "Building estimator 19 of 25 for this parallel run (total 100)...\n",
      "Building estimator 19 of 25 for this parallel run (total 100)...\n",
      "Building estimator 20 of 25 for this parallel run (total 100)...\n",
      "Building estimator 20 of 25 for this parallel run (total 100)...\n",
      "Building estimator 20 of 25 for this parallel run (total 100)...\n",
      "Building estimator 20 of 25 for this parallel run (total 100)...\n",
      "Building estimator 21 of 25 for this parallel run (total 100)...\n",
      "Building estimator 21 of 25 for this parallel run (total 100)...\n",
      "Building estimator 21 of 25 for this parallel run (total 100)...\n",
      "Building estimator 21 of 25 for this parallel run (total 100)...\n",
      "Building estimator 22 of 25 for this parallel run (total 100)...\n",
      "Building estimator 22 of 25 for this parallel run (total 100)...\n",
      "Building estimator 22 of 25 for this parallel run (total 100)...\n",
      "Building estimator 22 of 25 for this parallel run (total 100)...\n",
      "Building estimator 23 of 25 for this parallel run (total 100)...\n",
      "Building estimator 23 of 25 for this parallel run (total 100)...\n",
      "Building estimator 23 of 25 for this parallel run (total 100)...\n",
      "Building estimator 23 of 25 for this parallel run (total 100)...\n",
      "Building estimator 24 of 25 for this parallel run (total 100)...\n",
      "Building estimator 24 of 25 for this parallel run (total 100)...\n",
      "Building estimator 24 of 25 for this parallel run (total 100)...\n",
      "Building estimator 24 of 25 for this parallel run (total 100)...\n",
      "Building estimator 25 of 25 for this parallel run (total 100)...\n",
      "Building estimator 25 of 25 for this parallel run (total 100)...\n",
      "Building estimator 25 of 25 for this parallel run (total 100)...\n",
      "Building estimator 25 of 25 for this parallel run (total 100)...\n"
     ]
    },
    {
     "name": "stderr",
     "output_type": "stream",
     "text": [
      "[Parallel(n_jobs=4)]: Done   4 out of   4 | elapsed: 42.5min finished\n"
     ]
    },
    {
     "data": {
      "text/plain": [
       "Pipeline(memory=None,\n",
       "     steps=[('standardize', StandardScaler(copy=True, with_mean=True, with_std=True)), ('clf', BaggingClassifier(base_estimator=SVC(C=1.0, cache_size=200, class_weight='balanced', coef0=0.0,\n",
       "  decision_function_shape='ovr', degree=3, gamma='auto', kernel='rbf',\n",
       "  max_iter=-1, probability=True, random_sta...stimators=100, n_jobs=4, oob_score=False,\n",
       "         random_state=None, verbose=2, warm_start=False))])"
      ]
     },
     "execution_count": 40,
     "metadata": {},
     "output_type": "execute_result"
    }
   ],
   "source": [
    "clf.fit(X_train, y_train)"
   ]
  },
  {
   "cell_type": "code",
   "execution_count": 42,
   "metadata": {},
   "outputs": [
    {
     "name": "stderr",
     "output_type": "stream",
     "text": [
      "[Parallel(n_jobs=4)]: Done   4 out of   4 | elapsed: 38.8min finished\n"
     ]
    }
   ],
   "source": [
    "predictions = clf.predict(X_test)"
   ]
  },
  {
   "cell_type": "code",
   "execution_count": 43,
   "metadata": {},
   "outputs": [
    {
     "data": {
      "text/plain": [
       "0.59946404819654175"
      ]
     },
     "execution_count": 43,
     "metadata": {},
     "output_type": "execute_result"
    }
   ],
   "source": [
    "accuracy_score(y_test, predictions)"
   ]
  },
  {
   "cell_type": "code",
   "execution_count": 25,
   "metadata": {},
   "outputs": [
    {
     "name": "stdout",
     "output_type": "stream",
     "text": [
      "[CV]  ................................................................\n",
      "[CV]  ................................................................\n",
      "[CV]  ................................................................\n"
     ]
    },
    {
     "name": "stderr",
     "output_type": "stream",
     "text": [
      "Process ForkPoolWorker-86:\n",
      "Process ForkPoolWorker-80:\n",
      "Process ForkPoolWorker-83:\n",
      "Process ForkPoolWorker-85:\n",
      "Process ForkPoolWorker-84:\n",
      "Process ForkPoolWorker-87:\n",
      "Process ForkPoolWorker-82:\n",
      "Process ForkPoolWorker-88:\n",
      "Traceback (most recent call last):\n",
      "Traceback (most recent call last):\n",
      "Traceback (most recent call last):\n",
      "Traceback (most recent call last):\n",
      "Process ForkPoolWorker-81:\n",
      "Traceback (most recent call last):\n",
      "Traceback (most recent call last):\n",
      "Traceback (most recent call last):\n",
      "Traceback (most recent call last):\n",
      "Traceback (most recent call last):\n",
      "  File \"/usr/lib64/python3.4/multiprocessing/process.py\", line 254, in _bootstrap\n",
      "    self.run()\n",
      "  File \"/usr/lib64/python3.4/multiprocessing/process.py\", line 254, in _bootstrap\n",
      "    self.run()\n",
      "  File \"/usr/lib64/python3.4/multiprocessing/process.py\", line 254, in _bootstrap\n",
      "    self.run()\n",
      "  File \"/usr/lib64/python3.4/multiprocessing/process.py\", line 254, in _bootstrap\n",
      "    self.run()\n",
      "  File \"/usr/lib64/python3.4/multiprocessing/process.py\", line 254, in _bootstrap\n",
      "    self.run()\n",
      "  File \"/usr/lib64/python3.4/multiprocessing/process.py\", line 254, in _bootstrap\n",
      "    self.run()\n",
      "  File \"/usr/lib64/python3.4/multiprocessing/process.py\", line 93, in run\n",
      "    self._target(*self._args, **self._kwargs)\n",
      "  File \"/usr/lib64/python3.4/multiprocessing/process.py\", line 93, in run\n",
      "    self._target(*self._args, **self._kwargs)\n",
      "  File \"/usr/lib64/python3.4/multiprocessing/process.py\", line 254, in _bootstrap\n",
      "    self.run()\n",
      "  File \"/usr/lib64/python3.4/multiprocessing/process.py\", line 254, in _bootstrap\n",
      "    self.run()\n",
      "  File \"/usr/lib64/python3.4/multiprocessing/process.py\", line 93, in run\n",
      "    self._target(*self._args, **self._kwargs)\n",
      "  File \"/usr/lib64/python3.4/multiprocessing/process.py\", line 93, in run\n",
      "    self._target(*self._args, **self._kwargs)\n",
      "  File \"/usr/lib64/python3.4/multiprocessing/process.py\", line 93, in run\n",
      "    self._target(*self._args, **self._kwargs)\n",
      "  File \"/usr/lib64/python3.4/multiprocessing/process.py\", line 93, in run\n",
      "    self._target(*self._args, **self._kwargs)\n",
      "  File \"/usr/lib64/python3.4/multiprocessing/process.py\", line 254, in _bootstrap\n",
      "    self.run()\n",
      "  File \"/usr/lib64/python3.4/multiprocessing/pool.py\", line 108, in worker\n",
      "    task = get()\n",
      "  File \"/usr/lib64/python3.4/multiprocessing/process.py\", line 93, in run\n",
      "    self._target(*self._args, **self._kwargs)\n",
      "  File \"/usr/lib64/python3.4/multiprocessing/pool.py\", line 108, in worker\n",
      "    task = get()\n",
      "  File \"/usr/lib64/python3.4/multiprocessing/pool.py\", line 108, in worker\n",
      "    task = get()\n",
      "  File \"/usr/lib64/python3.4/multiprocessing/process.py\", line 93, in run\n",
      "    self._target(*self._args, **self._kwargs)\n",
      "  File \"/usr/lib64/python3.4/multiprocessing/process.py\", line 93, in run\n",
      "    self._target(*self._args, **self._kwargs)\n",
      "  File \"/usr/lib64/python3.4/multiprocessing/pool.py\", line 108, in worker\n",
      "    task = get()\n",
      "  File \"/usr/lib64/python3.4/multiprocessing/pool.py\", line 108, in worker\n",
      "    task = get()\n",
      "  File \"/usr/lib64/python3.4/multiprocessing/pool.py\", line 108, in worker\n",
      "    task = get()\n",
      "  File \"/usr/lib64/python3.4/multiprocessing/pool.py\", line 108, in worker\n",
      "    task = get()\n",
      "  File \"/usr/lib64/python3.4/multiprocessing/pool.py\", line 108, in worker\n",
      "    task = get()\n",
      "  File \"/usr/lib64/python3.4/site-packages/sklearn/externals/joblib/pool.py\", line 360, in get\n",
      "    racquire()\n",
      "  File \"/usr/lib64/python3.4/site-packages/sklearn/externals/joblib/pool.py\", line 360, in get\n",
      "    racquire()\n",
      "  File \"/usr/lib64/python3.4/site-packages/sklearn/externals/joblib/pool.py\", line 360, in get\n",
      "    racquire()\n",
      "  File \"/usr/lib64/python3.4/site-packages/sklearn/externals/joblib/pool.py\", line 360, in get\n",
      "    racquire()\n",
      "  File \"/usr/lib64/python3.4/multiprocessing/pool.py\", line 108, in worker\n",
      "    task = get()\n",
      "  File \"/usr/lib64/python3.4/site-packages/sklearn/externals/joblib/pool.py\", line 362, in get\n",
      "    return recv()\n",
      "KeyboardInterrupt\n",
      "  File \"/usr/lib64/python3.4/site-packages/sklearn/externals/joblib/pool.py\", line 360, in get\n",
      "    racquire()\n",
      "KeyboardInterrupt\n",
      "KeyboardInterrupt\n",
      "KeyboardInterrupt\n",
      "  File \"/usr/lib64/python3.4/site-packages/sklearn/externals/joblib/pool.py\", line 360, in get\n",
      "    racquire()\n",
      "  File \"/usr/lib64/python3.4/site-packages/sklearn/externals/joblib/pool.py\", line 360, in get\n",
      "    racquire()\n",
      "  File \"/usr/lib64/python3.4/site-packages/sklearn/externals/joblib/pool.py\", line 360, in get\n",
      "    racquire()\n",
      "  File \"/usr/lib64/python3.4/multiprocessing/connection.py\", line 250, in recv\n",
      "    buf = self._recv_bytes()\n",
      "KeyboardInterrupt\n",
      "KeyboardInterrupt\n",
      "KeyboardInterrupt\n",
      "KeyboardInterrupt\n",
      "  File \"/usr/lib64/python3.4/multiprocessing/connection.py\", line 416, in _recv_bytes\n",
      "    buf = self._recv(4)\n",
      "  File \"/usr/lib64/python3.4/multiprocessing/connection.py\", line 383, in _recv\n",
      "    chunk = read(handle, remaining)\n",
      "KeyboardInterrupt\n"
     ]
    },
    {
     "ename": "KeyboardInterrupt",
     "evalue": "",
     "output_type": "error",
     "traceback": [
      "\u001b[0;31m---------------------------------------------------------------------------\u001b[0m",
      "\u001b[0;31mKeyboardInterrupt\u001b[0m                         Traceback (most recent call last)",
      "\u001b[0;32m<ipython-input-25-e2d4fa57cf8f>\u001b[0m in \u001b[0;36m<module>\u001b[0;34m()\u001b[0m\n\u001b[0;32m----> 1\u001b[0;31m \u001b[0mscore\u001b[0m \u001b[0;34m=\u001b[0m \u001b[0mcross_val_score\u001b[0m\u001b[0;34m(\u001b[0m\u001b[0mclf\u001b[0m\u001b[0;34m,\u001b[0m \u001b[0mfeatures_df\u001b[0m\u001b[0;34m,\u001b[0m \u001b[0mlabels\u001b[0m\u001b[0;34m,\u001b[0m \u001b[0mgroups\u001b[0m\u001b[0;34m=\u001b[0m\u001b[0muser_ids\u001b[0m\u001b[0;34m,\u001b[0m \u001b[0mcv\u001b[0m\u001b[0;34m=\u001b[0m\u001b[0mGroupKFold\u001b[0m\u001b[0;34m(\u001b[0m\u001b[0mn_splits\u001b[0m\u001b[0;34m=\u001b[0m\u001b[0;36m3\u001b[0m\u001b[0;34m)\u001b[0m\u001b[0;34m,\u001b[0m \u001b[0mn_jobs\u001b[0m\u001b[0;34m=\u001b[0m\u001b[0;36m12\u001b[0m\u001b[0;34m,\u001b[0m \u001b[0mscoring\u001b[0m\u001b[0;34m=\u001b[0m\u001b[0mscorer\u001b[0m\u001b[0;34m,\u001b[0m \u001b[0mverbose\u001b[0m\u001b[0;34m=\u001b[0m\u001b[0;36m2\u001b[0m\u001b[0;34m)\u001b[0m\u001b[0;34m\u001b[0m\u001b[0m\n\u001b[0m",
      "\u001b[0;32m/usr/lib64/python3.4/site-packages/sklearn/model_selection/_validation.py\u001b[0m in \u001b[0;36mcross_val_score\u001b[0;34m(estimator, X, y, groups, scoring, cv, n_jobs, verbose, fit_params, pre_dispatch)\u001b[0m\n\u001b[1;32m    319\u001b[0m                                 \u001b[0mn_jobs\u001b[0m\u001b[0;34m=\u001b[0m\u001b[0mn_jobs\u001b[0m\u001b[0;34m,\u001b[0m \u001b[0mverbose\u001b[0m\u001b[0;34m=\u001b[0m\u001b[0mverbose\u001b[0m\u001b[0;34m,\u001b[0m\u001b[0;34m\u001b[0m\u001b[0m\n\u001b[1;32m    320\u001b[0m                                 \u001b[0mfit_params\u001b[0m\u001b[0;34m=\u001b[0m\u001b[0mfit_params\u001b[0m\u001b[0;34m,\u001b[0m\u001b[0;34m\u001b[0m\u001b[0m\n\u001b[0;32m--> 321\u001b[0;31m                                 pre_dispatch=pre_dispatch)\n\u001b[0m\u001b[1;32m    322\u001b[0m     \u001b[0;32mreturn\u001b[0m \u001b[0mcv_results\u001b[0m\u001b[0;34m[\u001b[0m\u001b[0;34m'test_score'\u001b[0m\u001b[0;34m]\u001b[0m\u001b[0;34m\u001b[0m\u001b[0m\n\u001b[1;32m    323\u001b[0m \u001b[0;34m\u001b[0m\u001b[0m\n",
      "\u001b[0;32m/usr/lib64/python3.4/site-packages/sklearn/model_selection/_validation.py\u001b[0m in \u001b[0;36mcross_validate\u001b[0;34m(estimator, X, y, groups, scoring, cv, n_jobs, verbose, fit_params, pre_dispatch, return_train_score)\u001b[0m\n\u001b[1;32m    193\u001b[0m             \u001b[0mfit_params\u001b[0m\u001b[0;34m,\u001b[0m \u001b[0mreturn_train_score\u001b[0m\u001b[0;34m=\u001b[0m\u001b[0mreturn_train_score\u001b[0m\u001b[0;34m,\u001b[0m\u001b[0;34m\u001b[0m\u001b[0m\n\u001b[1;32m    194\u001b[0m             return_times=True)\n\u001b[0;32m--> 195\u001b[0;31m         for train, test in cv.split(X, y, groups))\n\u001b[0m\u001b[1;32m    196\u001b[0m \u001b[0;34m\u001b[0m\u001b[0m\n\u001b[1;32m    197\u001b[0m     \u001b[0;32mif\u001b[0m \u001b[0mreturn_train_score\u001b[0m\u001b[0;34m:\u001b[0m\u001b[0;34m\u001b[0m\u001b[0m\n",
      "\u001b[0;32m/usr/lib64/python3.4/site-packages/sklearn/externals/joblib/parallel.py\u001b[0m in \u001b[0;36m__call__\u001b[0;34m(self, iterable)\u001b[0m\n\u001b[1;32m    787\u001b[0m                 \u001b[0;31m# consumption.\u001b[0m\u001b[0;34m\u001b[0m\u001b[0;34m\u001b[0m\u001b[0m\n\u001b[1;32m    788\u001b[0m                 \u001b[0mself\u001b[0m\u001b[0;34m.\u001b[0m\u001b[0m_iterating\u001b[0m \u001b[0;34m=\u001b[0m \u001b[0;32mFalse\u001b[0m\u001b[0;34m\u001b[0m\u001b[0m\n\u001b[0;32m--> 789\u001b[0;31m             \u001b[0mself\u001b[0m\u001b[0;34m.\u001b[0m\u001b[0mretrieve\u001b[0m\u001b[0;34m(\u001b[0m\u001b[0;34m)\u001b[0m\u001b[0;34m\u001b[0m\u001b[0m\n\u001b[0m\u001b[1;32m    790\u001b[0m             \u001b[0;31m# Make sure that we get a last message telling us we are done\u001b[0m\u001b[0;34m\u001b[0m\u001b[0;34m\u001b[0m\u001b[0m\n\u001b[1;32m    791\u001b[0m             \u001b[0melapsed_time\u001b[0m \u001b[0;34m=\u001b[0m \u001b[0mtime\u001b[0m\u001b[0;34m.\u001b[0m\u001b[0mtime\u001b[0m\u001b[0;34m(\u001b[0m\u001b[0;34m)\u001b[0m \u001b[0;34m-\u001b[0m \u001b[0mself\u001b[0m\u001b[0;34m.\u001b[0m\u001b[0m_start_time\u001b[0m\u001b[0;34m\u001b[0m\u001b[0m\n",
      "\u001b[0;32m/usr/lib64/python3.4/site-packages/sklearn/externals/joblib/parallel.py\u001b[0m in \u001b[0;36mretrieve\u001b[0;34m(self)\u001b[0m\n\u001b[1;32m    697\u001b[0m             \u001b[0;32mtry\u001b[0m\u001b[0;34m:\u001b[0m\u001b[0;34m\u001b[0m\u001b[0m\n\u001b[1;32m    698\u001b[0m                 \u001b[0;32mif\u001b[0m \u001b[0mgetattr\u001b[0m\u001b[0;34m(\u001b[0m\u001b[0mself\u001b[0m\u001b[0;34m.\u001b[0m\u001b[0m_backend\u001b[0m\u001b[0;34m,\u001b[0m \u001b[0;34m'supports_timeout'\u001b[0m\u001b[0;34m,\u001b[0m \u001b[0;32mFalse\u001b[0m\u001b[0;34m)\u001b[0m\u001b[0;34m:\u001b[0m\u001b[0;34m\u001b[0m\u001b[0m\n\u001b[0;32m--> 699\u001b[0;31m                     \u001b[0mself\u001b[0m\u001b[0;34m.\u001b[0m\u001b[0m_output\u001b[0m\u001b[0;34m.\u001b[0m\u001b[0mextend\u001b[0m\u001b[0;34m(\u001b[0m\u001b[0mjob\u001b[0m\u001b[0;34m.\u001b[0m\u001b[0mget\u001b[0m\u001b[0;34m(\u001b[0m\u001b[0mtimeout\u001b[0m\u001b[0;34m=\u001b[0m\u001b[0mself\u001b[0m\u001b[0;34m.\u001b[0m\u001b[0mtimeout\u001b[0m\u001b[0;34m)\u001b[0m\u001b[0;34m)\u001b[0m\u001b[0;34m\u001b[0m\u001b[0m\n\u001b[0m\u001b[1;32m    700\u001b[0m                 \u001b[0;32melse\u001b[0m\u001b[0;34m:\u001b[0m\u001b[0;34m\u001b[0m\u001b[0m\n\u001b[1;32m    701\u001b[0m                     \u001b[0mself\u001b[0m\u001b[0;34m.\u001b[0m\u001b[0m_output\u001b[0m\u001b[0;34m.\u001b[0m\u001b[0mextend\u001b[0m\u001b[0;34m(\u001b[0m\u001b[0mjob\u001b[0m\u001b[0;34m.\u001b[0m\u001b[0mget\u001b[0m\u001b[0;34m(\u001b[0m\u001b[0;34m)\u001b[0m\u001b[0;34m)\u001b[0m\u001b[0;34m\u001b[0m\u001b[0m\n",
      "\u001b[0;32m/usr/lib64/python3.4/multiprocessing/pool.py\u001b[0m in \u001b[0;36mget\u001b[0;34m(self, timeout)\u001b[0m\n\u001b[1;32m    600\u001b[0m \u001b[0;34m\u001b[0m\u001b[0m\n\u001b[1;32m    601\u001b[0m     \u001b[0;32mdef\u001b[0m \u001b[0mget\u001b[0m\u001b[0;34m(\u001b[0m\u001b[0mself\u001b[0m\u001b[0;34m,\u001b[0m \u001b[0mtimeout\u001b[0m\u001b[0;34m=\u001b[0m\u001b[0;32mNone\u001b[0m\u001b[0;34m)\u001b[0m\u001b[0;34m:\u001b[0m\u001b[0;34m\u001b[0m\u001b[0m\n\u001b[0;32m--> 602\u001b[0;31m         \u001b[0mself\u001b[0m\u001b[0;34m.\u001b[0m\u001b[0mwait\u001b[0m\u001b[0;34m(\u001b[0m\u001b[0mtimeout\u001b[0m\u001b[0;34m)\u001b[0m\u001b[0;34m\u001b[0m\u001b[0m\n\u001b[0m\u001b[1;32m    603\u001b[0m         \u001b[0;32mif\u001b[0m \u001b[0;32mnot\u001b[0m \u001b[0mself\u001b[0m\u001b[0;34m.\u001b[0m\u001b[0mready\u001b[0m\u001b[0;34m(\u001b[0m\u001b[0;34m)\u001b[0m\u001b[0;34m:\u001b[0m\u001b[0;34m\u001b[0m\u001b[0m\n\u001b[1;32m    604\u001b[0m             \u001b[0;32mraise\u001b[0m \u001b[0mTimeoutError\u001b[0m\u001b[0;34m\u001b[0m\u001b[0m\n",
      "\u001b[0;32m/usr/lib64/python3.4/multiprocessing/pool.py\u001b[0m in \u001b[0;36mwait\u001b[0;34m(self, timeout)\u001b[0m\n\u001b[1;32m    597\u001b[0m \u001b[0;34m\u001b[0m\u001b[0m\n\u001b[1;32m    598\u001b[0m     \u001b[0;32mdef\u001b[0m \u001b[0mwait\u001b[0m\u001b[0;34m(\u001b[0m\u001b[0mself\u001b[0m\u001b[0;34m,\u001b[0m \u001b[0mtimeout\u001b[0m\u001b[0;34m=\u001b[0m\u001b[0;32mNone\u001b[0m\u001b[0;34m)\u001b[0m\u001b[0;34m:\u001b[0m\u001b[0;34m\u001b[0m\u001b[0m\n\u001b[0;32m--> 599\u001b[0;31m         \u001b[0mself\u001b[0m\u001b[0;34m.\u001b[0m\u001b[0m_event\u001b[0m\u001b[0;34m.\u001b[0m\u001b[0mwait\u001b[0m\u001b[0;34m(\u001b[0m\u001b[0mtimeout\u001b[0m\u001b[0;34m)\u001b[0m\u001b[0;34m\u001b[0m\u001b[0m\n\u001b[0m\u001b[1;32m    600\u001b[0m \u001b[0;34m\u001b[0m\u001b[0m\n\u001b[1;32m    601\u001b[0m     \u001b[0;32mdef\u001b[0m \u001b[0mget\u001b[0m\u001b[0;34m(\u001b[0m\u001b[0mself\u001b[0m\u001b[0;34m,\u001b[0m \u001b[0mtimeout\u001b[0m\u001b[0;34m=\u001b[0m\u001b[0;32mNone\u001b[0m\u001b[0;34m)\u001b[0m\u001b[0;34m:\u001b[0m\u001b[0;34m\u001b[0m\u001b[0m\n",
      "\u001b[0;32m/usr/lib64/python3.4/threading.py\u001b[0m in \u001b[0;36mwait\u001b[0;34m(self, timeout)\u001b[0m\n\u001b[1;32m    544\u001b[0m             \u001b[0msignaled\u001b[0m \u001b[0;34m=\u001b[0m \u001b[0mself\u001b[0m\u001b[0;34m.\u001b[0m\u001b[0m_flag\u001b[0m\u001b[0;34m\u001b[0m\u001b[0m\n\u001b[1;32m    545\u001b[0m             \u001b[0;32mif\u001b[0m \u001b[0;32mnot\u001b[0m \u001b[0msignaled\u001b[0m\u001b[0;34m:\u001b[0m\u001b[0;34m\u001b[0m\u001b[0m\n\u001b[0;32m--> 546\u001b[0;31m                 \u001b[0msignaled\u001b[0m \u001b[0;34m=\u001b[0m \u001b[0mself\u001b[0m\u001b[0;34m.\u001b[0m\u001b[0m_cond\u001b[0m\u001b[0;34m.\u001b[0m\u001b[0mwait\u001b[0m\u001b[0;34m(\u001b[0m\u001b[0mtimeout\u001b[0m\u001b[0;34m)\u001b[0m\u001b[0;34m\u001b[0m\u001b[0m\n\u001b[0m\u001b[1;32m    547\u001b[0m             \u001b[0;32mreturn\u001b[0m \u001b[0msignaled\u001b[0m\u001b[0;34m\u001b[0m\u001b[0m\n\u001b[1;32m    548\u001b[0m \u001b[0;34m\u001b[0m\u001b[0m\n",
      "\u001b[0;32m/usr/lib64/python3.4/threading.py\u001b[0m in \u001b[0;36mwait\u001b[0;34m(self, timeout)\u001b[0m\n\u001b[1;32m    288\u001b[0m         \u001b[0;32mtry\u001b[0m\u001b[0;34m:\u001b[0m    \u001b[0;31m# restore state no matter what (e.g., KeyboardInterrupt)\u001b[0m\u001b[0;34m\u001b[0m\u001b[0m\n\u001b[1;32m    289\u001b[0m             \u001b[0;32mif\u001b[0m \u001b[0mtimeout\u001b[0m \u001b[0;32mis\u001b[0m \u001b[0;32mNone\u001b[0m\u001b[0;34m:\u001b[0m\u001b[0;34m\u001b[0m\u001b[0m\n\u001b[0;32m--> 290\u001b[0;31m                 \u001b[0mwaiter\u001b[0m\u001b[0;34m.\u001b[0m\u001b[0macquire\u001b[0m\u001b[0;34m(\u001b[0m\u001b[0;34m)\u001b[0m\u001b[0;34m\u001b[0m\u001b[0m\n\u001b[0m\u001b[1;32m    291\u001b[0m                 \u001b[0mgotit\u001b[0m \u001b[0;34m=\u001b[0m \u001b[0;32mTrue\u001b[0m\u001b[0;34m\u001b[0m\u001b[0m\n\u001b[1;32m    292\u001b[0m             \u001b[0;32melse\u001b[0m\u001b[0;34m:\u001b[0m\u001b[0;34m\u001b[0m\u001b[0m\n",
      "\u001b[0;31mKeyboardInterrupt\u001b[0m: "
     ]
    }
   ],
   "source": [
    "score = cross_val_score(clf, features_df, labels, groups=user_ids, cv=GroupKFold(n_splits=3), n_jobs=12, scoring=scorer, verbose=2)\n"
   ]
  },
  {
   "cell_type": "markdown",
   "metadata": {},
   "source": [
    "# Tuning a KNN"
   ]
  },
  {
   "cell_type": "code",
   "execution_count": 12,
   "metadata": {
    "collapsed": true
   },
   "outputs": [],
   "source": [
    "from sklearn.neighbors import KNeighborsClassifier"
   ]
  },
  {
   "cell_type": "code",
   "execution_count": 16,
   "metadata": {
    "collapsed": true
   },
   "outputs": [],
   "source": [
    "param_grid = {'clf__n_neighbors' : [2,5,10,15]}"
   ]
  },
  {
   "cell_type": "code",
   "execution_count": 17,
   "metadata": {
    "collapsed": true
   },
   "outputs": [],
   "source": [
    "steps = [('standardize', StandardScaler()),\n",
    "         ('clf', KNeighborsClassifier())]\n",
    "clf = Pipeline(steps)"
   ]
  },
  {
   "cell_type": "code",
   "execution_count": 18,
   "metadata": {},
   "outputs": [
    {
     "name": "stdout",
     "output_type": "stream",
     "text": [
      "Fitting 3 folds for each of 4 candidates, totalling 12 fits\n",
      "[CV] clf__n_neighbors=2 ..............................................\n",
      "[CV] clf__n_neighbors=2 ..............................................\n",
      "[CV] clf__n_neighbors=2 ..............................................\n",
      "[CV] clf__n_neighbors=5 ..............................................\n",
      "[CV] clf__n_neighbors=5 ..............................................\n",
      "[CV] clf__n_neighbors=5 ..............................................\n",
      "[CV] clf__n_neighbors=10 .............................................\n",
      "[CV] clf__n_neighbors=10 .............................................\n",
      "[CV] clf__n_neighbors=10 .............................................\n",
      "[CV] clf__n_neighbors=15 .............................................\n",
      "[CV] clf__n_neighbors=15 .............................................\n",
      "[CV] clf__n_neighbors=15 .............................................\n",
      "[CV] ............................... clf__n_neighbors=2, total= 4.1min\n",
      "[CV] ............................... clf__n_neighbors=5, total= 5.2min\n",
      "[CV] ............................... clf__n_neighbors=2, total= 6.1min\n"
     ]
    },
    {
     "name": "stderr",
     "output_type": "stream",
     "text": [
      "[Parallel(n_jobs=12)]: Done   3 out of  12 | elapsed: 13.9min remaining: 41.6min\n"
     ]
    },
    {
     "name": "stdout",
     "output_type": "stream",
     "text": [
      "[CV] ............................... clf__n_neighbors=2, total= 6.3min\n",
      "[CV] .............................. clf__n_neighbors=10, total= 6.0min\n",
      "[CV] .............................. clf__n_neighbors=15, total= 6.6min\n",
      "[CV] ............................... clf__n_neighbors=5, total= 7.6min\n",
      "[CV] ............................... clf__n_neighbors=5, total= 7.6min\n",
      "[CV] .............................. clf__n_neighbors=10, total= 8.6min\n",
      "[CV] .............................. clf__n_neighbors=10, total= 8.4min\n"
     ]
    },
    {
     "name": "stderr",
     "output_type": "stream",
     "text": [
      "[Parallel(n_jobs=12)]: Done  10 out of  12 | elapsed: 20.8min remaining:  4.2min\n"
     ]
    },
    {
     "name": "stdout",
     "output_type": "stream",
     "text": [
      "[CV] .............................. clf__n_neighbors=15, total= 9.3min\n",
      "[CV] .............................. clf__n_neighbors=15, total= 9.5min\n"
     ]
    },
    {
     "name": "stderr",
     "output_type": "stream",
     "text": [
      "[Parallel(n_jobs=12)]: Done  12 out of  12 | elapsed: 22.4min finished\n"
     ]
    },
    {
     "name": "stdout",
     "output_type": "stream",
     "text": [
      "best score : 0.582167860618\n",
      "best params : {'clf__n_neighbors': 15}\n"
     ]
    }
   ],
   "source": [
    "clf = Pipeline(steps)\n",
    "cv = list(GroupKFold(n_splits=3).split(features_df, labels, user_ids))\n",
    "gsv = GridSearchCV(clf, param_grid=param_grid, cv=cv, n_jobs=12, verbose=2)\n",
    "\n",
    "gsv_results = gsv.fit(features_df, labels)\n",
    "print(\"best score : %s\" % gsv_results.best_score_)\n",
    "print(\"best params : %s\" % gsv_results.best_params_)"
   ]
  },
  {
   "cell_type": "markdown",
   "metadata": {},
   "source": [
    "# Try [XGBoost](https://machinelearningmastery.com/develop-first-xgboost-model-python-scikit-learn/)"
   ]
  },
  {
   "cell_type": "markdown",
   "metadata": {},
   "source": [
    "# Boosting algos\n",
    "* [Machine Learning Mastery's page on gradient boosting, lots of other resources too!](https://machinelearningmastery.com/gentle-introduction-gradient-boosting-algorithm-machine-learning/)\n",
    "* [Kaggle master's blog on gradient descent](http://blog.kaggle.com/2017/01/23/a-kaggle-master-explains-gradient-boosting/)\n"
   ]
  },
  {
   "cell_type": "code",
   "execution_count": 44,
   "metadata": {
    "collapsed": true
   },
   "outputs": [],
   "source": [
    "from xgboost import XGBClassifier"
   ]
  },
  {
   "cell_type": "code",
   "execution_count": 45,
   "metadata": {
    "collapsed": true
   },
   "outputs": [],
   "source": [
    "steps = [('standardize', StandardScaler()),\n",
    "         ('clf', XGBClassifier())]\n",
    "clf = Pipeline(steps)"
   ]
  },
  {
   "cell_type": "code",
   "execution_count": 51,
   "metadata": {
    "collapsed": true
   },
   "outputs": [],
   "source": [
    "cv = cv=GroupKFold(n_splits=2).split(features_df, labels, user_ids)\n",
    "iteration = next(cv)\n",
    "X_train = features_df.iloc[iteration[0]]\n",
    "y_train = labels.iloc[iteration[0]]\n",
    "\n",
    "X_test = features_df.iloc[iteration[1]]\n",
    "y_test = labels.iloc[iteration[1]]"
   ]
  },
  {
   "cell_type": "code",
   "execution_count": 52,
   "metadata": {},
   "outputs": [
    {
     "data": {
      "text/plain": [
       "Pipeline(memory=None,\n",
       "     steps=[('standardize', StandardScaler(copy=True, with_mean=True, with_std=True)), ('clf', XGBClassifier(base_score=0.5, booster='gbtree', colsample_bylevel=1,\n",
       "       colsample_bytree=1, gamma=0, learning_rate=0.1, max_delta_step=0,\n",
       "       max_depth=3, min_child_weight=1, missing=None, n_estimators=100,\n",
       "       n_jobs=1, nthread=None, objective='multi:softprob', random_state=0,\n",
       "       reg_alpha=0, reg_lambda=1, scale_pos_weight=1, seed=None,\n",
       "       silent=True, subsample=1))])"
      ]
     },
     "execution_count": 52,
     "metadata": {},
     "output_type": "execute_result"
    }
   ],
   "source": [
    "clf.fit(X_train, y_train)"
   ]
  },
  {
   "cell_type": "code",
   "execution_count": 53,
   "metadata": {
    "collapsed": true
   },
   "outputs": [],
   "source": [
    "predictions = clf.predict(X_test)"
   ]
  },
  {
   "cell_type": "code",
   "execution_count": 54,
   "metadata": {},
   "outputs": [
    {
     "data": {
      "text/plain": [
       "0.65276582427040142"
      ]
     },
     "execution_count": 54,
     "metadata": {},
     "output_type": "execute_result"
    }
   ],
   "source": [
    "accuracy_score(y_test, predictions)"
   ]
  },
  {
   "cell_type": "markdown",
   "metadata": {},
   "source": [
    "## ^^^ Best score yet and it's not even optimized!"
   ]
  },
  {
   "cell_type": "code",
   "execution_count": 55,
   "metadata": {},
   "outputs": [
    {
     "name": "stdout",
     "output_type": "stream",
     "text": [
      "[CV]  ................................................................\n",
      "[CV]  ................................................................\n",
      "[CV]  ................................................................\n",
      "[CV] ................................................. , total= 3.4min\n",
      "[CV] ................................................. , total= 3.6min\n",
      "[CV] ................................................. , total= 3.9min\n"
     ]
    },
    {
     "name": "stderr",
     "output_type": "stream",
     "text": [
      "[Parallel(n_jobs=12)]: Done   3 out of   3 | elapsed:  3.9min finished\n"
     ]
    },
    {
     "data": {
      "text/plain": [
       "array([ 0.65479285,  0.62705914,  0.63133807])"
      ]
     },
     "execution_count": 55,
     "metadata": {},
     "output_type": "execute_result"
    }
   ],
   "source": [
    "score = cross_val_score(clf, features_df, labels, groups=user_ids, cv=GroupKFold(n_splits=3), n_jobs=12, scoring=scorer, verbose=2)\n",
    "score"
   ]
  },
  {
   "cell_type": "code",
   "execution_count": 57,
   "metadata": {},
   "outputs": [
    {
     "data": {
      "text/plain": [
       "0.63773002246473798"
      ]
     },
     "execution_count": 57,
     "metadata": {},
     "output_type": "execute_result"
    }
   ],
   "source": [
    "np.mean(score)"
   ]
  },
  {
   "cell_type": "markdown",
   "metadata": {},
   "source": [
    "### ^^^^ Optimize the shit out of this!!!\n",
    "* [Analytics Vidhya's blog about tuning xgboost](https://www.analyticsvidhya.com/blog/2016/03/complete-guide-parameter-tuning-xgboost-with-codes-python/)"
   ]
  },
  {
   "cell_type": "code",
   "execution_count": null,
   "metadata": {
    "collapsed": true
   },
   "outputs": [],
   "source": []
  },
  {
   "cell_type": "markdown",
   "metadata": {},
   "source": [
    "# Attempting one vs. rest with regression models\n",
    "* [Drawing from Sklearn's page](http://scikit-learn.org/stable/modules/multiclass.html#one-vs-the-rest)"
   ]
  },
  {
   "cell_type": "markdown",
   "metadata": {},
   "source": [
    "# Maybe also consider [Deep Forest](https://github.com/kingfengji/gcForest)"
   ]
  },
  {
   "cell_type": "code",
   "execution_count": null,
   "metadata": {
    "collapsed": true
   },
   "outputs": [],
   "source": []
  }
 ],
 "metadata": {
  "kernelspec": {
   "display_name": "Python 3",
   "language": "python",
   "name": "python3"
  },
  "language_info": {
   "codemirror_mode": {
    "name": "ipython",
    "version": 3
   },
   "file_extension": ".py",
   "mimetype": "text/x-python",
   "name": "python",
   "nbconvert_exporter": "python",
   "pygments_lexer": "ipython3",
   "version": "3.4.5"
  }
 },
 "nbformat": 4,
 "nbformat_minor": 2
}
