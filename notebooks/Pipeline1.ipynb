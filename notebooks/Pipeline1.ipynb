{
 "cells": [
  {
   "cell_type": "code",
   "execution_count": 1,
   "metadata": {
    "collapsed": true
   },
   "outputs": [],
   "source": [
    "import pandas as pd\n",
    "import numpy as np\n",
    "import importlib.machinery\n",
    "es = importlib.machinery.SourceFileLoader('extrasense','/home/sac086/extrasensory/extrasense/extrasense.py').load_module()\n",
    "from sklearn.ensemble import RandomForestClassifier\n",
    "from sklearn.metrics import accuracy_score\n",
    "from sklearn.model_selection import StratifiedShuffleSplit, ShuffleSplit, KFold, StratifiedKFold\n",
    "from sklearn.preprocessing import StandardScaler"
   ]
  },
  {
   "cell_type": "markdown",
   "metadata": {},
   "source": [
    "# Testing a Personal Model\n",
    "This is just so that I can get a sense of whether the data is working out."
   ]
  },
  {
   "cell_type": "code",
   "execution_count": null,
   "metadata": {
    "collapsed": true
   },
   "outputs": [],
   "source": [
    "def test_personal_model(user_id):\n",
    "    kf = KFold(n_splits=3)\n",
    "\n",
    "    user_df = es.get_data_from_user_id(user_id, data_type=\"activity\", labeled_only=True)\n",
    "    timestamps_series = user_df.pop('timestamp')\n",
    "    scores = []\n",
    "    for training_ind, test_ind in kf.split(user_df):\n",
    "        train_df = user_df.iloc[training_ind]\n",
    "        test_df = user_df.iloc[test_ind]\n",
    "\n",
    "        train_labels = train_df.pop(\"label\")\n",
    "        test_labels = test_df.pop(\"label\")\n",
    "        \n",
    "\n",
    "        clf = RandomForestClassifier()\n",
    "\n",
    "        # standard scale training\n",
    "        scaler = StandardScaler().fit(train_df)\n",
    "        scaled_train_df = scaler.transform(train_df)\n",
    "        scaled_test_df = scaler.transform(test_df)\n",
    "\n",
    "        clf.fit(scaled_train_df, train_labels)\n",
    "\n",
    "        # standard scale testing\n",
    "        predictions = clf.predict(scaled_test_df)\n",
    "        score = accuracy_score(test_labels, predictions)\n",
    "        scores.append(score)\n",
    "    return np.mean(scores)"
   ]
  },
  {
   "cell_type": "code",
   "execution_count": null,
   "metadata": {},
   "outputs": [],
   "source": [
    "user_scores = {}\n",
    "for user_id in es.user_ids:\n",
    "    mean_score = test_personal_model(user_id)\n",
    "    user_scores[user_id] = mean_score"
   ]
  },
  {
   "cell_type": "code",
   "execution_count": null,
   "metadata": {
    "collapsed": true
   },
   "outputs": [],
   "source": [
    "scores = [v for v in user_scores.values()]"
   ]
  },
  {
   "cell_type": "code",
   "execution_count": null,
   "metadata": {},
   "outputs": [],
   "source": [
    "np.mean(scores)"
   ]
  },
  {
   "cell_type": "markdown",
   "metadata": {
    "collapsed": true
   },
   "source": [
    "# Testing an impersonal model\n",
    "Leave-One Participant out design\n",
    "\n",
    "Sampling personal test data with ShuffleSplit method which will randomly select personal data\n",
    "making no gaurentee that the distribution of test data is similar to the distribution of training data"
   ]
  },
  {
   "cell_type": "code",
   "execution_count": 2,
   "metadata": {},
   "outputs": [
    {
     "name": "stderr",
     "output_type": "stream",
     "text": [
      "/home/sac086/extrasensory/extrasense/extrasense.py:159: UserWarning: Boolean Series key will be reindexed to match DataFrame index.\n",
      "  user_df = user_df[null_mask]\n"
     ]
    }
   ],
   "source": [
    "user_df = es.get_data_from_user_id(es.user_ids[0], data_type=\"activity\", labeled_only=True)"
   ]
  },
  {
   "cell_type": "code",
   "execution_count": 14,
   "metadata": {
    "scrolled": true
   },
   "outputs": [],
   "source": [
    "impersonal_df = es.get_impersonal_data(es.user_ids[0], data_type=\"activity\", labeled_only=True)"
   ]
  },
  {
   "cell_type": "code",
   "execution_count": 15,
   "metadata": {
    "collapsed": true
   },
   "outputs": [],
   "source": [
    "impersonal_df = pd.concat(impersonal_df, ignore_index=True)"
   ]
  },
  {
   "cell_type": "code",
   "execution_count": 16,
   "metadata": {},
   "outputs": [],
   "source": [
    "features_df = impersonal_df[impersonal_df.columns.intersection(es.acc_col_name)]"
   ]
  },
  {
   "cell_type": "code",
   "execution_count": 17,
   "metadata": {},
   "outputs": [],
   "source": [
    "labels_df = es.clean_labels(impersonal_df[impersonal_df.columns.intersection(es.acc_labels_name)])"
   ]
  },
  {
   "cell_type": "code",
   "execution_count": 18,
   "metadata": {},
   "outputs": [],
   "source": [
    "impersonal_df = pd.concat((features_df,labels_df,impersonal_df['timestamp']), axis=1)"
   ]
  },
  {
   "cell_type": "code",
   "execution_count": 19,
   "metadata": {},
   "outputs": [
    {
     "data": {
      "text/html": [
       "<div>\n",
       "<style>\n",
       "    .dataframe thead tr:only-child th {\n",
       "        text-align: right;\n",
       "    }\n",
       "\n",
       "    .dataframe thead th {\n",
       "        text-align: left;\n",
       "    }\n",
       "\n",
       "    .dataframe tbody tr th {\n",
       "        vertical-align: top;\n",
       "    }\n",
       "</style>\n",
       "<table border=\"1\" class=\"dataframe\">\n",
       "  <thead>\n",
       "    <tr style=\"text-align: right;\">\n",
       "      <th></th>\n",
       "      <th>raw_acc:magnitude_stats:mean</th>\n",
       "      <th>raw_acc:magnitude_stats:std</th>\n",
       "      <th>raw_acc:magnitude_stats:moment3</th>\n",
       "      <th>raw_acc:magnitude_stats:moment4</th>\n",
       "      <th>raw_acc:magnitude_stats:percentile25</th>\n",
       "      <th>raw_acc:magnitude_stats:percentile50</th>\n",
       "      <th>raw_acc:magnitude_stats:percentile75</th>\n",
       "      <th>raw_acc:magnitude_stats:value_entropy</th>\n",
       "      <th>raw_acc:magnitude_stats:time_entropy</th>\n",
       "      <th>raw_acc:magnitude_spectrum:log_energy_band0</th>\n",
       "      <th>...</th>\n",
       "      <th>raw_acc:3d:mean_y</th>\n",
       "      <th>raw_acc:3d:mean_z</th>\n",
       "      <th>raw_acc:3d:std_x</th>\n",
       "      <th>raw_acc:3d:std_y</th>\n",
       "      <th>raw_acc:3d:std_z</th>\n",
       "      <th>raw_acc:3d:ro_xy</th>\n",
       "      <th>raw_acc:3d:ro_xz</th>\n",
       "      <th>raw_acc:3d:ro_yz</th>\n",
       "      <th>0</th>\n",
       "      <th>timestamp</th>\n",
       "    </tr>\n",
       "  </thead>\n",
       "  <tbody>\n",
       "    <tr>\n",
       "      <th>0</th>\n",
       "      <td>1.000371</td>\n",
       "      <td>0.007671</td>\n",
       "      <td>-0.016173</td>\n",
       "      <td>0.027860</td>\n",
       "      <td>0.998221</td>\n",
       "      <td>1.000739</td>\n",
       "      <td>1.003265</td>\n",
       "      <td>0.891038</td>\n",
       "      <td>6.684582</td>\n",
       "      <td>5.045157</td>\n",
       "      <td>...</td>\n",
       "      <td>0.000406</td>\n",
       "      <td>-1.000342</td>\n",
       "      <td>0.004052</td>\n",
       "      <td>0.003310</td>\n",
       "      <td>0.007697</td>\n",
       "      <td>-0.329743</td>\n",
       "      <td>0.382219</td>\n",
       "      <td>-0.121107</td>\n",
       "      <td>NaN</td>\n",
       "      <td>1449601597</td>\n",
       "    </tr>\n",
       "    <tr>\n",
       "      <th>1</th>\n",
       "      <td>1.000243</td>\n",
       "      <td>0.003782</td>\n",
       "      <td>-0.002713</td>\n",
       "      <td>0.007046</td>\n",
       "      <td>0.998463</td>\n",
       "      <td>1.000373</td>\n",
       "      <td>1.002088</td>\n",
       "      <td>1.647929</td>\n",
       "      <td>6.684605</td>\n",
       "      <td>5.044516</td>\n",
       "      <td>...</td>\n",
       "      <td>0.000355</td>\n",
       "      <td>-1.000211</td>\n",
       "      <td>0.002911</td>\n",
       "      <td>0.002960</td>\n",
       "      <td>0.003792</td>\n",
       "      <td>0.202860</td>\n",
       "      <td>0.335481</td>\n",
       "      <td>0.105470</td>\n",
       "      <td>NaN</td>\n",
       "      <td>1449601657</td>\n",
       "    </tr>\n",
       "    <tr>\n",
       "      <th>2</th>\n",
       "      <td>1.000811</td>\n",
       "      <td>0.002082</td>\n",
       "      <td>-0.001922</td>\n",
       "      <td>0.003575</td>\n",
       "      <td>0.999653</td>\n",
       "      <td>1.000928</td>\n",
       "      <td>1.002032</td>\n",
       "      <td>1.960286</td>\n",
       "      <td>6.684610</td>\n",
       "      <td>5.043892</td>\n",
       "      <td>...</td>\n",
       "      <td>-0.000170</td>\n",
       "      <td>-1.000802</td>\n",
       "      <td>0.002262</td>\n",
       "      <td>0.001760</td>\n",
       "      <td>0.002086</td>\n",
       "      <td>0.111225</td>\n",
       "      <td>0.488020</td>\n",
       "      <td>0.154312</td>\n",
       "      <td>NaN</td>\n",
       "      <td>1449601717</td>\n",
       "    </tr>\n",
       "    <tr>\n",
       "      <th>3</th>\n",
       "      <td>1.001245</td>\n",
       "      <td>0.004715</td>\n",
       "      <td>-0.002895</td>\n",
       "      <td>0.008881</td>\n",
       "      <td>0.999188</td>\n",
       "      <td>1.001425</td>\n",
       "      <td>1.003500</td>\n",
       "      <td>1.614524</td>\n",
       "      <td>6.684601</td>\n",
       "      <td>5.043505</td>\n",
       "      <td>...</td>\n",
       "      <td>0.002558</td>\n",
       "      <td>-1.001208</td>\n",
       "      <td>0.003094</td>\n",
       "      <td>0.003091</td>\n",
       "      <td>0.004724</td>\n",
       "      <td>-0.107052</td>\n",
       "      <td>0.351430</td>\n",
       "      <td>-0.054253</td>\n",
       "      <td>NaN</td>\n",
       "      <td>1449601777</td>\n",
       "    </tr>\n",
       "    <tr>\n",
       "      <th>4</th>\n",
       "      <td>1.001354</td>\n",
       "      <td>0.065186</td>\n",
       "      <td>-0.096520</td>\n",
       "      <td>0.165298</td>\n",
       "      <td>1.000807</td>\n",
       "      <td>1.002259</td>\n",
       "      <td>1.003631</td>\n",
       "      <td>0.837790</td>\n",
       "      <td>6.682252</td>\n",
       "      <td>5.045126</td>\n",
       "      <td>...</td>\n",
       "      <td>0.024336</td>\n",
       "      <td>-0.996488</td>\n",
       "      <td>0.054192</td>\n",
       "      <td>0.067662</td>\n",
       "      <td>0.074172</td>\n",
       "      <td>-0.106908</td>\n",
       "      <td>0.460092</td>\n",
       "      <td>-0.021773</td>\n",
       "      <td>SITTING</td>\n",
       "      <td>1449601855</td>\n",
       "    </tr>\n",
       "  </tbody>\n",
       "</table>\n",
       "<p>5 rows × 28 columns</p>\n",
       "</div>"
      ],
      "text/plain": [
       "   raw_acc:magnitude_stats:mean  raw_acc:magnitude_stats:std  \\\n",
       "0                      1.000371                     0.007671   \n",
       "1                      1.000243                     0.003782   \n",
       "2                      1.000811                     0.002082   \n",
       "3                      1.001245                     0.004715   \n",
       "4                      1.001354                     0.065186   \n",
       "\n",
       "   raw_acc:magnitude_stats:moment3  raw_acc:magnitude_stats:moment4  \\\n",
       "0                        -0.016173                         0.027860   \n",
       "1                        -0.002713                         0.007046   \n",
       "2                        -0.001922                         0.003575   \n",
       "3                        -0.002895                         0.008881   \n",
       "4                        -0.096520                         0.165298   \n",
       "\n",
       "   raw_acc:magnitude_stats:percentile25  raw_acc:magnitude_stats:percentile50  \\\n",
       "0                              0.998221                              1.000739   \n",
       "1                              0.998463                              1.000373   \n",
       "2                              0.999653                              1.000928   \n",
       "3                              0.999188                              1.001425   \n",
       "4                              1.000807                              1.002259   \n",
       "\n",
       "   raw_acc:magnitude_stats:percentile75  \\\n",
       "0                              1.003265   \n",
       "1                              1.002088   \n",
       "2                              1.002032   \n",
       "3                              1.003500   \n",
       "4                              1.003631   \n",
       "\n",
       "   raw_acc:magnitude_stats:value_entropy  \\\n",
       "0                               0.891038   \n",
       "1                               1.647929   \n",
       "2                               1.960286   \n",
       "3                               1.614524   \n",
       "4                               0.837790   \n",
       "\n",
       "   raw_acc:magnitude_stats:time_entropy  \\\n",
       "0                              6.684582   \n",
       "1                              6.684605   \n",
       "2                              6.684610   \n",
       "3                              6.684601   \n",
       "4                              6.682252   \n",
       "\n",
       "   raw_acc:magnitude_spectrum:log_energy_band0     ...      raw_acc:3d:mean_y  \\\n",
       "0                                     5.045157     ...               0.000406   \n",
       "1                                     5.044516     ...               0.000355   \n",
       "2                                     5.043892     ...              -0.000170   \n",
       "3                                     5.043505     ...               0.002558   \n",
       "4                                     5.045126     ...               0.024336   \n",
       "\n",
       "   raw_acc:3d:mean_z  raw_acc:3d:std_x  raw_acc:3d:std_y  raw_acc:3d:std_z  \\\n",
       "0          -1.000342          0.004052          0.003310          0.007697   \n",
       "1          -1.000211          0.002911          0.002960          0.003792   \n",
       "2          -1.000802          0.002262          0.001760          0.002086   \n",
       "3          -1.001208          0.003094          0.003091          0.004724   \n",
       "4          -0.996488          0.054192          0.067662          0.074172   \n",
       "\n",
       "   raw_acc:3d:ro_xy  raw_acc:3d:ro_xz  raw_acc:3d:ro_yz        0   timestamp  \n",
       "0         -0.329743          0.382219         -0.121107      NaN  1449601597  \n",
       "1          0.202860          0.335481          0.105470      NaN  1449601657  \n",
       "2          0.111225          0.488020          0.154312      NaN  1449601717  \n",
       "3         -0.107052          0.351430         -0.054253      NaN  1449601777  \n",
       "4         -0.106908          0.460092         -0.021773  SITTING  1449601855  \n",
       "\n",
       "[5 rows x 28 columns]"
      ]
     },
     "execution_count": 19,
     "metadata": {},
     "output_type": "execute_result"
    }
   ],
   "source": [
    "impersonal_df.head()"
   ]
  },
  {
   "cell_type": "code",
   "execution_count": null,
   "metadata": {},
   "outputs": [],
   "source": [
    "type(impersonal_df)"
   ]
  },
  {
   "cell_type": "code",
   "execution_count": null,
   "metadata": {},
   "outputs": [],
   "source": [
    "list(impersonal_df.columns)"
   ]
  },
  {
   "cell_type": "code",
   "execution_count": null,
   "metadata": {
    "collapsed": true
   },
   "outputs": [],
   "source": [
    "def test_impersonal_model(user_id):\n",
    "    personal_df = es.get_data_from_user_id(user_id, data_type=\"activity\", labeled_only=True)\n",
    "    impersonal_df\n",
    "    timestamps_series = user_df.pop('timestamp')\n",
    "    scores = []\n",
    "\n",
    "    for training_ind, test_ind in kf.split(user_df):\n",
    "        train_df = user_df.iloc[training_ind]\n",
    "        test_df = user_df.iloc[test_ind]\n",
    "\n",
    "        train_labels = train_df.pop(\"label\")\n",
    "        test_labels = test_df.pop(\"label\")\n",
    "        \n",
    "\n",
    "        clf = RandomForestClassifier()\n",
    "\n",
    "        # standard scale training\n",
    "        scaler = StandardScaler().fit(train_df)\n",
    "        scaled_train_df = scaler.transform(train_df)\n",
    "        scaled_test_df = scaler.transform(test_df)\n",
    "\n",
    "        clf.fit(scaled_train_df, train_labels)\n",
    "\n",
    "        # standard scale testing\n",
    "        predictions = clf.predict(scaled_test_df)\n",
    "        score = accuracy_score(test_labels, predictions)\n",
    "        scores.append(score)\n",
    "    return np.mean(scores)"
   ]
  },
  {
   "cell_type": "code",
   "execution_count": null,
   "metadata": {
    "collapsed": true
   },
   "outputs": [],
   "source": []
  }
 ],
 "metadata": {
  "kernelspec": {
   "display_name": "Python 3",
   "language": "python",
   "name": "python3"
  },
  "language_info": {
   "codemirror_mode": {
    "name": "ipython",
    "version": 3
   },
   "file_extension": ".py",
   "mimetype": "text/x-python",
   "name": "python",
   "nbconvert_exporter": "python",
   "pygments_lexer": "ipython3",
   "version": "3.4.5"
  }
 },
 "nbformat": 4,
 "nbformat_minor": 2
}
