{
 "cells": [
  {
   "cell_type": "code",
   "execution_count": 1,
   "metadata": {
    "collapsed": true
   },
   "outputs": [],
   "source": [
    "import pandas as pd\n",
    "import numpy as np\n",
    "import importlib.machinery\n",
    "es = importlib.machinery.SourceFileLoader('extrasense','/home/sac086/extrasensory/extrasense/extrasense.py').load_module()\n",
    "from sklearn.ensemble import RandomForestClassifier\n",
    "from sklearn.metrics import accuracy_score\n",
    "from sklearn.model_selection import StratifiedShuffleSplit, ShuffleSplit, KFold, StratifiedKFold\n",
    "from sklearn.preprocessing import StandardScaler"
   ]
  },
  {
   "cell_type": "code",
   "execution_count": 2,
   "metadata": {
    "collapsed": true
   },
   "outputs": [],
   "source": [
    "def test_personal_model(user_id):\n",
    "    kf = KFold(n_splits=3)\n",
    "\n",
    "    user_df = es.get_data_from_user_id(user_id, data_type=\"activity\", labeled_only=True)\n",
    "    scores = []\n",
    "    for training_ind, test_ind in kf.split(user_df):\n",
    "        train_df = user_df.iloc[training_ind]\n",
    "        test_df = user_df.iloc[test_ind]\n",
    "\n",
    "        train_labels = train_df.pop(\"label\")\n",
    "        test_labels = test_df.pop(\"label\")\n",
    "\n",
    "        clf = RandomForestClassifier()\n",
    "\n",
    "        # standard scale training\n",
    "        scaler = StandardScaler().fit(train_df)\n",
    "        scaled_train_df = scaler.transform(train_df)\n",
    "        scaled_test_df = scaler.transform(test_df)\n",
    "\n",
    "        clf.fit(scaled_train_df, train_labels)\n",
    "\n",
    "        # standard scale testing\n",
    "        predictions = clf.predict(scaled_test_df)\n",
    "        score = accuracy_score(test_labels, predictions)\n",
    "        scores.append(score)\n",
    "    return np.mean(scores)"
   ]
  },
  {
   "cell_type": "code",
   "execution_count": 3,
   "metadata": {},
   "outputs": [
    {
     "name": "stderr",
     "output_type": "stream",
     "text": [
      "/home/sac086/extrasensory/extrasense/extrasense.py:159: UserWarning: Boolean Series key will be reindexed to match DataFrame index.\n",
      "  user_df = user_df[null_mask]\n",
      "/home/sac086/extrasensory/extrasense/extrasense.py:159: UserWarning: Boolean Series key will be reindexed to match DataFrame index.\n",
      "  user_df = user_df[null_mask]\n",
      "/home/sac086/extrasensory/extrasense/extrasense.py:159: UserWarning: Boolean Series key will be reindexed to match DataFrame index.\n",
      "  user_df = user_df[null_mask]\n",
      "/home/sac086/extrasensory/extrasense/extrasense.py:159: UserWarning: Boolean Series key will be reindexed to match DataFrame index.\n",
      "  user_df = user_df[null_mask]\n",
      "/home/sac086/extrasensory/extrasense/extrasense.py:159: UserWarning: Boolean Series key will be reindexed to match DataFrame index.\n",
      "  user_df = user_df[null_mask]\n",
      "/home/sac086/extrasensory/extrasense/extrasense.py:159: UserWarning: Boolean Series key will be reindexed to match DataFrame index.\n",
      "  user_df = user_df[null_mask]\n",
      "/home/sac086/extrasensory/extrasense/extrasense.py:159: UserWarning: Boolean Series key will be reindexed to match DataFrame index.\n",
      "  user_df = user_df[null_mask]\n",
      "/home/sac086/extrasensory/extrasense/extrasense.py:159: UserWarning: Boolean Series key will be reindexed to match DataFrame index.\n",
      "  user_df = user_df[null_mask]\n",
      "/home/sac086/extrasensory/extrasense/extrasense.py:159: UserWarning: Boolean Series key will be reindexed to match DataFrame index.\n",
      "  user_df = user_df[null_mask]\n",
      "/home/sac086/extrasensory/extrasense/extrasense.py:159: UserWarning: Boolean Series key will be reindexed to match DataFrame index.\n",
      "  user_df = user_df[null_mask]\n",
      "/home/sac086/extrasensory/extrasense/extrasense.py:159: UserWarning: Boolean Series key will be reindexed to match DataFrame index.\n",
      "  user_df = user_df[null_mask]\n",
      "/home/sac086/extrasensory/extrasense/extrasense.py:159: UserWarning: Boolean Series key will be reindexed to match DataFrame index.\n",
      "  user_df = user_df[null_mask]\n",
      "/home/sac086/extrasensory/extrasense/extrasense.py:159: UserWarning: Boolean Series key will be reindexed to match DataFrame index.\n",
      "  user_df = user_df[null_mask]\n",
      "/home/sac086/extrasensory/extrasense/extrasense.py:159: UserWarning: Boolean Series key will be reindexed to match DataFrame index.\n",
      "  user_df = user_df[null_mask]\n",
      "/home/sac086/extrasensory/extrasense/extrasense.py:159: UserWarning: Boolean Series key will be reindexed to match DataFrame index.\n",
      "  user_df = user_df[null_mask]\n",
      "/home/sac086/extrasensory/extrasense/extrasense.py:159: UserWarning: Boolean Series key will be reindexed to match DataFrame index.\n",
      "  user_df = user_df[null_mask]\n",
      "/home/sac086/extrasensory/extrasense/extrasense.py:159: UserWarning: Boolean Series key will be reindexed to match DataFrame index.\n",
      "  user_df = user_df[null_mask]\n",
      "/home/sac086/extrasensory/extrasense/extrasense.py:159: UserWarning: Boolean Series key will be reindexed to match DataFrame index.\n",
      "  user_df = user_df[null_mask]\n",
      "/home/sac086/extrasensory/extrasense/extrasense.py:159: UserWarning: Boolean Series key will be reindexed to match DataFrame index.\n",
      "  user_df = user_df[null_mask]\n",
      "/home/sac086/extrasensory/extrasense/extrasense.py:159: UserWarning: Boolean Series key will be reindexed to match DataFrame index.\n",
      "  user_df = user_df[null_mask]\n",
      "/home/sac086/extrasensory/extrasense/extrasense.py:159: UserWarning: Boolean Series key will be reindexed to match DataFrame index.\n",
      "  user_df = user_df[null_mask]\n",
      "/home/sac086/extrasensory/extrasense/extrasense.py:159: UserWarning: Boolean Series key will be reindexed to match DataFrame index.\n",
      "  user_df = user_df[null_mask]\n",
      "/home/sac086/extrasensory/extrasense/extrasense.py:159: UserWarning: Boolean Series key will be reindexed to match DataFrame index.\n",
      "  user_df = user_df[null_mask]\n",
      "/home/sac086/extrasensory/extrasense/extrasense.py:159: UserWarning: Boolean Series key will be reindexed to match DataFrame index.\n",
      "  user_df = user_df[null_mask]\n"
     ]
    }
   ],
   "source": [
    "user_scores = {}\n",
    "for user_id in es.user_ids:\n",
    "    mean_score = test_personal_model(user_id)\n",
    "    user_scores[user_id] = mean_score"
   ]
  },
  {
   "cell_type": "code",
   "execution_count": 5,
   "metadata": {},
   "outputs": [],
   "source": [
    "scores = [v for v in user_scores.values()]"
   ]
  },
  {
   "cell_type": "code",
   "execution_count": 6,
   "metadata": {},
   "outputs": [
    {
     "data": {
      "text/plain": [
       "0.65104819294957061"
      ]
     },
     "execution_count": 6,
     "metadata": {},
     "output_type": "execute_result"
    }
   ],
   "source": [
    "np.mean(scores)"
   ]
  },
  {
   "cell_type": "code",
   "execution_count": null,
   "metadata": {
    "collapsed": true
   },
   "outputs": [],
   "source": []
  }
 ],
 "metadata": {
  "kernelspec": {
   "display_name": "Python 3",
   "language": "python",
   "name": "python3"
  },
  "language_info": {
   "codemirror_mode": {
    "name": "ipython",
    "version": 3
   },
   "file_extension": ".py",
   "mimetype": "text/x-python",
   "name": "python",
   "nbconvert_exporter": "python",
   "pygments_lexer": "ipython3",
   "version": "3.4.5"
  }
 },
 "nbformat": 4,
 "nbformat_minor": 2
}
