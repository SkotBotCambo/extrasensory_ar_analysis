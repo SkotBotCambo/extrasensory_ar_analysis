{
 "cells": [
  {
   "cell_type": "markdown",
   "metadata": {},
   "source": [
    "# TODO\n",
    "1. change get_baseline_model and get_xgb_model() so that instead we have a function that takes in an estimator and returns a whole pipeline\n",
    "2. rewrite the SensorFusionClassifier to take an instance of the base model instead of a class"
   ]
  },
  {
   "cell_type": "code",
   "execution_count": 46,
   "metadata": {
    "collapsed": true
   },
   "outputs": [],
   "source": [
    "import pandas as pd\n",
    "import numpy as np\n",
    "import time\n",
    "import importlib.machinery\n",
    "import sys\n",
    "sys.path.append('/home/sac086/extrasensory/')\n",
    "import extrasense as es\n",
    "from sklearn.metrics import accuracy_score, make_scorer, roc_auc_score\n",
    "from sklearn.preprocessing import StandardScaler, MinMaxScaler, Imputer\n",
    "from sklearn.model_selection import GroupShuffleSplit, GroupKFold, cross_val_score, \\\n",
    "                                    GridSearchCV, RandomizedSearchCV, KFold, train_test_split\n",
    "from sklearn.pipeline import Pipeline\n",
    "from sklearn.linear_model import LogisticRegression\n",
    "from sklearn.base import BaseEstimator, ClassifierMixin, clone"
   ]
  },
  {
   "cell_type": "code",
   "execution_count": 2,
   "metadata": {
    "collapsed": true
   },
   "outputs": [],
   "source": [
    "import xgboost as xgb"
   ]
  },
  {
   "cell_type": "markdown",
   "metadata": {},
   "source": [
    "# Load data"
   ]
  },
  {
   "cell_type": "code",
   "execution_count": 3,
   "metadata": {
    "collapsed": true,
    "scrolled": true
   },
   "outputs": [],
   "source": [
    "features_df = es.get_impersonal_data(leave_users_out=[], drop_nan_rows=False, sensors=None, label_type=\"activity\", labeled_only=True)\n",
    "\n",
    "timestamps = features_df.pop('timestamp')\n",
    "label_source = features_df.pop(\"label_source\")\n",
    "labels = features_df.pop(\"label\")\n",
    "user_ids = features_df.pop(\"user_id\")"
   ]
  },
  {
   "cell_type": "code",
   "execution_count": 4,
   "metadata": {},
   "outputs": [
    {
     "name": "stdout",
     "output_type": "stream",
     "text": [
      "SITTING\n",
      "FIX_walking\n",
      "LYING_DOWN\n",
      "FIX_running\n",
      "BICYCLING\n",
      "STAIRS\n"
     ]
    }
   ],
   "source": [
    "for l in labels.unique():\n",
    "    print(l)"
   ]
  },
  {
   "cell_type": "code",
   "execution_count": 5,
   "metadata": {
    "collapsed": true
   },
   "outputs": [],
   "source": [
    "folds = es.get_uids_from_es_folds()"
   ]
  },
  {
   "cell_type": "code",
   "execution_count": 22,
   "metadata": {
    "collapsed": true
   },
   "outputs": [],
   "source": [
    "def make_pipeline(clf, **params):\n",
    "    steps = []\n",
    "    steps.append(('imputer', Imputer(missing_values='NaN', strategy='mean', axis=0)))\n",
    "    steps.append(('standardize', StandardScaler()))\n",
    "    steps.append(('clf', clf(**params)))\n",
    "    model = Pipeline(steps)\n",
    "    return model"
   ]
  },
  {
   "cell_type": "code",
   "execution_count": 23,
   "metadata": {
    "collapsed": true
   },
   "outputs": [],
   "source": [
    "clf = make_pipeline(LogisticRegression, **dict(class_weight='balanced'))"
   ]
  },
  {
   "cell_type": "code",
   "execution_count": 8,
   "metadata": {
    "collapsed": true
   },
   "outputs": [],
   "source": [
    "def get_train_test_ind(test_fold_uids, all_user_ids):\n",
    "    bool_arr = all_user_ids.isin(test_fold_uids)\n",
    "    test_ind = all_user_ids.index[bool_arr]\n",
    "    bool_arr = np.logical_not(bool_arr)\n",
    "    train_ind = all_user_ids.index[bool_arr]\n",
    "    return train_ind, test_ind\n",
    "    "
   ]
  },
  {
   "cell_type": "code",
   "execution_count": 9,
   "metadata": {
    "collapsed": true
   },
   "outputs": [],
   "source": [
    "def get_metrics(y, y_pred, verbose=True):\n",
    "    predictions = []\n",
    "    # Naive accuracy (correct classification rate):\n",
    "    accuracy = np.mean(y_pred == y);\n",
    "    \n",
    "    # Count occorrences of true-positive, true-negative, false-positive, and false-negative:\n",
    "    tp = np.sum(np.logical_and(y_pred,y));\n",
    "    tn = np.sum(np.logical_and(np.logical_not(y_pred),np.logical_not(y)));\n",
    "    fp = np.sum(np.logical_and(y_pred,np.logical_not(y)));\n",
    "    fn = np.sum(np.logical_and(np.logical_not(y_pred),y));\n",
    "    \n",
    "    # Sensitivity (=recall=true positive rate) and Specificity (=true negative rate):\n",
    "    sensitivity = float(tp) / (tp+fn);\n",
    "    specificity = float(tn) / (tn+fp);\n",
    "    \n",
    "    # Balanced accuracy is a more fair replacement for the naive accuracy:\n",
    "    balanced_accuracy = (sensitivity + specificity) / 2.;\n",
    "    \n",
    "    # Precision:\n",
    "    # Beware from this metric, since it may be too sensitive to rare labels.\n",
    "    # In the ExtraSensory Dataset, there is large skew among the positive and negative classes,\n",
    "    # and for each label the pos/neg ratio is different.\n",
    "    # This can cause undesirable and misleading results when averaging precision across different labels.\n",
    "    precision = float(tp) / (tp+fp);\n",
    "    \n",
    "    if verbose:\n",
    "        print(\"-\"*10);\n",
    "        print('Accuracy*:         %.2f' % accuracy);\n",
    "        print('Sensitivity (TPR): %.2f' % sensitivity);\n",
    "        print('Specificity (TNR): %.2f' % specificity);\n",
    "        print('Balanced accuracy: %.2f' % balanced_accuracy);\n",
    "        print('Precision**:       %.2f' % precision);\n",
    "        print(\"-\"*10);\n",
    "        \n",
    "    return {'sensitivity' : sensitivity,\n",
    "            'specificity' : specificity,\n",
    "            'accuracy' : accuracy,\n",
    "            'balanced accuracy' : balanced_accuracy,\n",
    "            'precision' : precision}"
   ]
  },
  {
   "cell_type": "code",
   "execution_count": 10,
   "metadata": {
    "collapsed": true
   },
   "outputs": [],
   "source": [
    "def test_model(model_getter, context, **params):\n",
    "    folds = es.get_uids_from_es_folds()\n",
    "    fold_metrics = []\n",
    "    \n",
    "    for i, kf in enumerate(folds):\n",
    "        print('Fold #%s' % i)\n",
    "        model = model_getter(**params)\n",
    "        \n",
    "        train_ind, test_ind = get_train_test_ind(kf, user_ids)\n",
    "        \n",
    "        print(\"Training model...\")\n",
    "        X_train = features_df.iloc[train_ind]\n",
    "        y_train = labels.iloc[train_ind]\n",
    "        y_train = np.array([1 if y == context else 0 for y in y_train])\n",
    "        \n",
    "        X_test = features_df.iloc[test_ind]\n",
    "        y_test = labels.iloc[test_ind]\n",
    "        y_test = np.array([1 if y == context else 0 for y in y_test])\n",
    "\n",
    "        model.fit(X_train, y_train)\n",
    "        \n",
    "        print(\"Testing model...\")\n",
    "        y_pred = model.predict(X_test)\n",
    "        \n",
    "        metrics = get_metrics(y_test, y_pred, verbose=True)\n",
    "        fold_metrics.append(metrics)\n",
    "    \n",
    "    return fold_metrics"
   ]
  },
  {
   "cell_type": "code",
   "execution_count": 20,
   "metadata": {},
   "outputs": [
    {
     "name": "stdout",
     "output_type": "stream",
     "text": [
      "Fold #0\n",
      "Training model...\n",
      "Testing model...\n",
      "----------\n",
      "Accuracy*:         0.78\n",
      "Sensitivity (TPR): 0.82\n",
      "Specificity (TNR): 0.74\n",
      "Balanced accuracy: 0.78\n",
      "Precision**:       0.73\n",
      "----------\n",
      "Fold #1\n",
      "Training model...\n",
      "Testing model...\n",
      "----------\n",
      "Accuracy*:         0.74\n",
      "Sensitivity (TPR): 0.83\n",
      "Specificity (TNR): 0.67\n",
      "Balanced accuracy: 0.75\n",
      "Precision**:       0.67\n",
      "----------\n",
      "Fold #2\n",
      "Training model...\n",
      "Testing model...\n",
      "----------\n",
      "Accuracy*:         0.78\n",
      "Sensitivity (TPR): 0.77\n",
      "Specificity (TNR): 0.78\n",
      "Balanced accuracy: 0.78\n",
      "Precision**:       0.73\n",
      "----------\n",
      "Fold #3\n",
      "Training model...\n",
      "Testing model...\n",
      "----------\n",
      "Accuracy*:         0.77\n",
      "Sensitivity (TPR): 0.72\n",
      "Specificity (TNR): 0.79\n",
      "Balanced accuracy: 0.76\n",
      "Precision**:       0.69\n",
      "----------\n",
      "Fold #4\n",
      "Training model...\n",
      "Testing model...\n",
      "----------\n",
      "Accuracy*:         0.67\n",
      "Sensitivity (TPR): 0.68\n",
      "Specificity (TNR): 0.67\n",
      "Balanced accuracy: 0.67\n",
      "Precision**:       0.68\n",
      "----------\n"
     ]
    }
   ],
   "source": [
    "test_metrics = test_model(get_baseline_model, 'SITTING')"
   ]
  },
  {
   "cell_type": "code",
   "execution_count": 11,
   "metadata": {
    "collapsed": true
   },
   "outputs": [],
   "source": [
    "def get_mean_metrics(metrics, verbose=True):\n",
    "    mean_metrics = {}\n",
    "    \n",
    "    for fold_metrics in metrics:\n",
    "        for key, val in fold_metrics.items():\n",
    "            if key in mean_metrics:\n",
    "                mean_metrics[key].append(val)\n",
    "            else:\n",
    "                mean_metrics[key] = [val]\n",
    "    \n",
    "    print(\"-\"*10);\n",
    "    print('Accuracy*:         %.2f' % np.mean(mean_metrics['accuracy']));\n",
    "    print('Sensitivity (TPR): %.2f' % np.mean(mean_metrics['sensitivity']));\n",
    "    print('Specificity (TNR): %.2f' % np.mean(mean_metrics['specificity']))\n",
    "    print('Balanced accuracy: %.2f' % np.mean(mean_metrics['balanced accuracy']))\n",
    "    print('Precision**:       %.2f' % np.mean(mean_metrics['precision']))\n",
    "    print(\"-\"*10);"
   ]
  },
  {
   "cell_type": "code",
   "execution_count": 23,
   "metadata": {},
   "outputs": [
    {
     "name": "stdout",
     "output_type": "stream",
     "text": [
      "----------\n",
      "Accuracy*:         0.75\n",
      "Sensitivity (TPR): 0.77\n",
      "Specificity (TNR): 0.73\n",
      "Balanced accuracy: 0.75\n",
      "Precision**:       0.70\n",
      "----------\n"
     ]
    }
   ],
   "source": [
    "get_mean_metrics(test_metrics)"
   ]
  },
  {
   "cell_type": "code",
   "execution_count": 24,
   "metadata": {},
   "outputs": [
    {
     "name": "stdout",
     "output_type": "stream",
     "text": [
      "BICYCLING : 5020\n",
      "SITTING : 136728\n",
      "LYING_DOWN : 141461\n",
      "STAIRS : 822\n",
      "FIX_walking : 22136\n",
      "FIX_running : 1090\n"
     ]
    }
   ],
   "source": [
    "from collections import Counter\n",
    "c = Counter(labels)\n",
    "for key, val in c.items():\n",
    "    print(\"%s : %s\" % (key, val))"
   ]
  },
  {
   "cell_type": "code",
   "execution_count": 12,
   "metadata": {
    "collapsed": true
   },
   "outputs": [],
   "source": [
    "def get_xgb_model():\n",
    "    steps = []\n",
    "    steps.append(('standardize', StandardScaler()))\n",
    "    steps.append(('clf', xgb.XGBClassifier()))\n",
    "    model = Pipeline(steps)\n",
    "    return model"
   ]
  },
  {
   "cell_type": "code",
   "execution_count": 18,
   "metadata": {},
   "outputs": [
    {
     "name": "stdout",
     "output_type": "stream",
     "text": [
      "Fold #0\n",
      "Training model...\n",
      "Testing model...\n",
      "----------\n",
      "Accuracy*:         0.67\n",
      "Sensitivity (TPR): 0.62\n",
      "Specificity (TNR): 0.72\n",
      "Balanced accuracy: 0.67\n",
      "Precision**:       0.66\n",
      "----------\n",
      "Fold #1\n",
      "Training model...\n",
      "Testing model...\n",
      "----------\n",
      "Accuracy*:         0.66\n",
      "Sensitivity (TPR): 0.59\n",
      "Specificity (TNR): 0.71\n",
      "Balanced accuracy: 0.65\n",
      "Precision**:       0.63\n",
      "----------\n",
      "Fold #2\n",
      "Training model...\n",
      "Testing model...\n",
      "----------\n",
      "Accuracy*:         0.70\n",
      "Sensitivity (TPR): 0.64\n",
      "Specificity (TNR): 0.75\n",
      "Balanced accuracy: 0.69\n",
      "Precision**:       0.66\n",
      "----------\n",
      "Fold #3\n",
      "Training model...\n",
      "Testing model...\n",
      "----------\n",
      "Accuracy*:         0.69\n",
      "Sensitivity (TPR): 0.67\n",
      "Specificity (TNR): 0.70\n",
      "Balanced accuracy: 0.69\n",
      "Precision**:       0.59\n",
      "----------\n",
      "Fold #4\n",
      "Training model...\n",
      "Testing model...\n",
      "----------\n",
      "Accuracy*:         0.59\n",
      "Sensitivity (TPR): 0.61\n",
      "Specificity (TNR): 0.58\n",
      "Balanced accuracy: 0.59\n",
      "Precision**:       0.60\n",
      "----------\n"
     ]
    }
   ],
   "source": [
    "test_metrics = test_model(get_xgb_model, 'SITTING')"
   ]
  },
  {
   "cell_type": "code",
   "execution_count": 19,
   "metadata": {},
   "outputs": [
    {
     "name": "stdout",
     "output_type": "stream",
     "text": [
      "----------\n",
      "Accuracy*:         0.66\n",
      "Sensitivity (TPR): 0.62\n",
      "Specificity (TNR): 0.69\n",
      "Balanced accuracy: 0.66\n",
      "Precision**:       0.63\n",
      "----------\n"
     ]
    }
   ],
   "source": [
    "get_mean_metrics(test_metrics)"
   ]
  },
  {
   "cell_type": "markdown",
   "metadata": {
    "collapsed": true
   },
   "source": [
    "# Sensor Fusion\n",
    "* This is from the [Recognizing Detailed Human Context-In-the-Wild from Smartphones and Smartwatches](http://extrasensory.ucsd.edu/papers/vaizman2017a_pervasiveAcceptedVersion.pdf)"
   ]
  },
  {
   "cell_type": "code",
   "execution_count": 13,
   "metadata": {
    "collapsed": true
   },
   "outputs": [],
   "source": [
    "import inspect"
   ]
  },
  {
   "cell_type": "markdown",
   "metadata": {},
   "source": [
    "### [used this sklearn github issue as a helper](https://github.com/scikit-learn/scikit-learn/issues/6079#issuecomment-166990309)"
   ]
  },
  {
   "cell_type": "code",
   "execution_count": 63,
   "metadata": {},
   "outputs": [],
   "source": [
    "class SensorFusionClassifier(BaseEstimator, ClassifierMixin):\n",
    "    \"\"\"Late Fusion Using Average Probability\n",
    "    \n",
    "    Attributes: \n",
    "    clf: The base classifier to use for the individual classifiers\n",
    "    \"\"\"\n",
    "    \n",
    "    base_clf = None\n",
    "    base_params=None\n",
    "    meta_clf = None\n",
    "    meta_clf_params = None\n",
    "    confidence_threshold = None\n",
    "    sensors = None\n",
    "    verbose=True\n",
    "    ensemble_type = None\n",
    "    classifiers = {}\n",
    "    training_accuracy = None\n",
    "\n",
    "    \n",
    "    def __init__(self, base_clf=None, base_params=None, meta_clf=None, \\\n",
    "                   meta_clf_params=None, confidence_threshold=0.5, \\\n",
    "                   sensors=None, verbose=True, ensemble_type='bagging'):\n",
    "        args, _, _, values = inspect.getargvalues(inspect.currentframe())\n",
    "        for arg, val in values.items():\n",
    "            setattr(self, arg, val)\n",
    "        if self.base_clf is None:\n",
    "            self.base_clf = make_pipeline(LogisticRegression, **dict(class_weight=\"balanced\"))\n",
    "        \n",
    "        if (self.meta_clf is None) and ensemble_type is 'stacking':\n",
    "            self.meta_clf = LogisticRegression(class_weight=\"balanced\")\n",
    "                \n",
    "        if confidence_threshold is not None:\n",
    "            self.confidence_threshold = confidence_threshold\n",
    "    \n",
    "    def fit(self, X_train, y_train, sensors=None):\n",
    "        if sensors:\n",
    "            self.sensors = sensors\n",
    "        \n",
    "        if self.ensemble_type is 'bagging':\n",
    "            self.bag_fit(X_train, y_train)\n",
    "            \n",
    "        if self.ensemble_type is 'stacking':\n",
    "            self.stack_fit(X_train, y_train)\n",
    "    \n",
    "    def stack_fit(self, X_train, y_train):\n",
    "        # split training data\n",
    "        X_train_base, X_train_meta, y_train_base, y_train_meta = train_test_split(X_train, y_train, test_size=0.5)\n",
    "        \n",
    "        # train base classifiers\n",
    "        self.bag_fit(X_train, y_train)\n",
    "        y_pred_base = self.get_base_predictions(X_train_meta)\n",
    "\n",
    "        # train meta classifier\n",
    "        self.meta_clf.fit(y_pred_base, y_train_meta)\n",
    "\n",
    "    def  bag_fit(self, X_train, y_train):\n",
    "        for sensor in self.sensors:\n",
    "            if self.verbose:\n",
    "                print(\"Training classifier with data from %s sensor\" % sensor)\n",
    "            X_train_sensor = self.get_features_for_sensor(X_train, sensor)\n",
    "            clf_sensor = clone(self.base_clf)\n",
    "            if self.base_params is not None:\n",
    "                clf_sensor.set_params(**self.base_params)\n",
    "                \n",
    "            clf_sensor.fit(X_train_sensor, y_train)\n",
    "            self.classifiers[sensor] = clf_sensor\n",
    "    \n",
    "    def get_features_for_sensor(self,X, sensor):\n",
    "        feature_cols = []\n",
    "        \n",
    "        for col in X.columns:\n",
    "            sensor_names = es.sensor_key_dict[sensor]\n",
    "            for sensor_name in sensor_names:\n",
    "                if sensor_name in col:\n",
    "                    feature_cols.append(col)\n",
    "                    break\n",
    "        \n",
    "        return X[X.columns.intersection(feature_cols)]\n",
    "    \n",
    "    def predict(self, X_test, sensors=None):\n",
    "        if sensors is None:\n",
    "            sensors = self.sensors\n",
    "        \n",
    "        if self.ensemble_type is 'bagging':\n",
    "            return self.bag_predict(X_test)\n",
    "        \n",
    "        if self.ensemble_type is 'stacking':\n",
    "            return self.stack_predict(X_test)\n",
    "            \n",
    "    def bag_predict(self, X_test):\n",
    "        y_pred = get_base_predictions(X_test)\n",
    "        # average across rows\n",
    "        y_mean_pred = y_pred.mean(axis=1)\n",
    "        y_pred = y_mean_pred > self.confidence_threshold # may have to convert this from boolean to integer 1,0\n",
    "        return y_pred.astype(int)\n",
    "    \n",
    "    def stack_predict(self, X_test):\n",
    "        y_base_pred_probas = self.get_base_predictions(X_test)\n",
    "        y_meta_pred = self.meta_clf.predict(y_base_pred_probas)\n",
    "        return y_meta_pred\n",
    "    \n",
    "    def get_base_predictions(self, X_test):\n",
    "        predictions_by_classifier = {}\n",
    "        \n",
    "        for sensor in self.sensors:\n",
    "            X_test_sensor = self.get_features_for_sensor(X_test, sensor)\n",
    "            predictions = self.classifiers[sensor].predict_proba(X_test_sensor)[:,1]\n",
    "            predictions_by_classifier[sensor] = pd.Series(predictions, name=sensor)\n",
    "\n",
    "        predictions_df = pd.concat([p for p in predictions_by_classifier.values()], axis=1)\n",
    "        \n",
    "        return predictions_df"
   ]
  },
  {
   "cell_type": "code",
   "execution_count": 64,
   "metadata": {},
   "outputs": [],
   "source": [
    "sensors = [\"Acc\", \"Gyro\", \"Magnet\", \"WAcc\", \"Compass\", \"Loc\", \"Aud\", \"AP\", \"PS\", \"LF\"]\n",
    "clf = SensorFusionClassifier(sensors=sensors, ensemble_type='stacking')"
   ]
  },
  {
   "cell_type": "code",
   "execution_count": 65,
   "metadata": {},
   "outputs": [
    {
     "name": "stdout",
     "output_type": "stream",
     "text": [
      "Training model...\n"
     ]
    }
   ],
   "source": [
    "context = \"SITTING\"\n",
    "train_ind, test_ind = get_train_test_ind(folds[0], user_ids)\n",
    "\n",
    "print(\"Training model...\")\n",
    "X_train = features_df.iloc[train_ind]\n",
    "y_train = labels.iloc[train_ind]\n",
    "y_train = np.array([1 if y == context else 0 for y in y_train])\n",
    "\n",
    "X_test = features_df.iloc[test_ind]\n",
    "y_test = labels.iloc[test_ind]\n",
    "y_test = np.array([1 if y == context else 0 for y in y_test])"
   ]
  },
  {
   "cell_type": "code",
   "execution_count": 66,
   "metadata": {},
   "outputs": [
    {
     "name": "stdout",
     "output_type": "stream",
     "text": [
      "Training classifier with data from Acc sensor\n",
      "Training classifier with data from Gyro sensor\n",
      "Training classifier with data from Magnet sensor\n",
      "Training classifier with data from WAcc sensor\n",
      "Training classifier with data from Compass sensor\n",
      "Training classifier with data from Loc sensor\n",
      "Training classifier with data from Aud sensor\n",
      "Training classifier with data from AP sensor\n",
      "Training classifier with data from PS sensor\n",
      "Training classifier with data from LF sensor\n"
     ]
    }
   ],
   "source": [
    "clf.fit(X_train, y_train)"
   ]
  },
  {
   "cell_type": "markdown",
   "metadata": {},
   "source": [
    "## ^^^^ Need to figure out how sklearn manages *args, **kwargs, **params, that kind of thing"
   ]
  },
  {
   "cell_type": "markdown",
   "metadata": {},
   "source": [
    "# Use Late Fusion Averaging (Bagging)"
   ]
  },
  {
   "cell_type": "code",
   "execution_count": 43,
   "metadata": {
    "scrolled": true
   },
   "outputs": [
    {
     "name": "stdout",
     "output_type": "stream",
     "text": [
      "Fold #0\n",
      "Training model...\n",
      "Training classifier with data from Acc sensor\n",
      "Training classifier with data from Gyro sensor\n",
      "Training classifier with data from Magnet sensor\n",
      "Training classifier with data from WAcc sensor\n",
      "Training classifier with data from Compass sensor\n",
      "Training classifier with data from Loc sensor\n",
      "Training classifier with data from Aud sensor\n",
      "Training classifier with data from AP sensor\n",
      "Training classifier with data from PS sensor\n",
      "Training classifier with data from LF sensor\n",
      "Testing model...\n",
      "----------\n",
      "Accuracy*:         0.76\n",
      "Sensitivity (TPR): 0.81\n",
      "Specificity (TNR): 0.72\n",
      "Balanced accuracy: 0.77\n",
      "Precision**:       0.72\n",
      "----------\n",
      "Fold #1\n",
      "Training model...\n",
      "Training classifier with data from Acc sensor\n",
      "Training classifier with data from Gyro sensor\n",
      "Training classifier with data from Magnet sensor\n",
      "Training classifier with data from WAcc sensor\n",
      "Training classifier with data from Compass sensor\n",
      "Training classifier with data from Loc sensor\n",
      "Training classifier with data from Aud sensor\n",
      "Training classifier with data from AP sensor\n",
      "Training classifier with data from PS sensor\n",
      "Training classifier with data from LF sensor\n",
      "Testing model...\n",
      "----------\n",
      "Accuracy*:         0.73\n",
      "Sensitivity (TPR): 0.83\n",
      "Specificity (TNR): 0.65\n",
      "Balanced accuracy: 0.74\n",
      "Precision**:       0.66\n",
      "----------\n",
      "Fold #2\n",
      "Training model...\n",
      "Training classifier with data from Acc sensor\n",
      "Training classifier with data from Gyro sensor\n",
      "Training classifier with data from Magnet sensor\n",
      "Training classifier with data from WAcc sensor\n",
      "Training classifier with data from Compass sensor\n",
      "Training classifier with data from Loc sensor\n",
      "Training classifier with data from Aud sensor\n",
      "Training classifier with data from AP sensor\n",
      "Training classifier with data from PS sensor\n",
      "Training classifier with data from LF sensor\n",
      "Testing model...\n",
      "----------\n",
      "Accuracy*:         0.76\n",
      "Sensitivity (TPR): 0.78\n",
      "Specificity (TNR): 0.75\n",
      "Balanced accuracy: 0.76\n",
      "Precision**:       0.71\n",
      "----------\n",
      "Fold #3\n",
      "Training model...\n",
      "Training classifier with data from Acc sensor\n",
      "Training classifier with data from Gyro sensor\n",
      "Training classifier with data from Magnet sensor\n",
      "Training classifier with data from WAcc sensor\n",
      "Training classifier with data from Compass sensor\n",
      "Training classifier with data from Loc sensor\n",
      "Training classifier with data from Aud sensor\n",
      "Training classifier with data from AP sensor\n",
      "Training classifier with data from PS sensor\n",
      "Training classifier with data from LF sensor\n",
      "Testing model...\n",
      "----------\n",
      "Accuracy*:         0.75\n",
      "Sensitivity (TPR): 0.72\n",
      "Specificity (TNR): 0.77\n",
      "Balanced accuracy: 0.74\n",
      "Precision**:       0.66\n",
      "----------\n",
      "Fold #4\n",
      "Training model...\n",
      "Training classifier with data from Acc sensor\n",
      "Training classifier with data from Gyro sensor\n",
      "Training classifier with data from Magnet sensor\n",
      "Training classifier with data from WAcc sensor\n",
      "Training classifier with data from Compass sensor\n",
      "Training classifier with data from Loc sensor\n",
      "Training classifier with data from Aud sensor\n",
      "Training classifier with data from AP sensor\n",
      "Training classifier with data from PS sensor\n",
      "Training classifier with data from LF sensor\n",
      "Testing model...\n",
      "----------\n",
      "Accuracy*:         0.70\n",
      "Sensitivity (TPR): 0.73\n",
      "Specificity (TNR): 0.66\n",
      "Balanced accuracy: 0.70\n",
      "Precision**:       0.70\n",
      "----------\n"
     ]
    }
   ],
   "source": [
    "test_metrics = test_model(SensorFusionClassifier, \\\n",
    "                          'SITTING', \\\n",
    "                          sensors=sensors)"
   ]
  },
  {
   "cell_type": "code",
   "execution_count": 44,
   "metadata": {},
   "outputs": [
    {
     "name": "stdout",
     "output_type": "stream",
     "text": [
      "----------\n",
      "Accuracy*:         0.74\n",
      "Sensitivity (TPR): 0.77\n",
      "Specificity (TNR): 0.71\n",
      "Balanced accuracy: 0.74\n",
      "Precision**:       0.69\n",
      "----------\n"
     ]
    }
   ],
   "source": [
    "get_mean_metrics(test_metrics)"
   ]
  },
  {
   "cell_type": "markdown",
   "metadata": {
    "collapsed": true
   },
   "source": [
    "# Use Learned Weights (Stacking)"
   ]
  },
  {
   "cell_type": "code",
   "execution_count": 67,
   "metadata": {},
   "outputs": [
    {
     "name": "stdout",
     "output_type": "stream",
     "text": [
      "Fold #0\n",
      "Training model...\n",
      "Training classifier with data from Acc sensor\n",
      "Training classifier with data from Gyro sensor\n",
      "Training classifier with data from Magnet sensor\n",
      "Training classifier with data from WAcc sensor\n",
      "Training classifier with data from Compass sensor\n",
      "Training classifier with data from Loc sensor\n",
      "Training classifier with data from Aud sensor\n",
      "Training classifier with data from AP sensor\n",
      "Training classifier with data from PS sensor\n",
      "Training classifier with data from LF sensor\n",
      "Testing model...\n",
      "----------\n",
      "Accuracy*:         0.77\n",
      "Sensitivity (TPR): 0.82\n",
      "Specificity (TNR): 0.72\n",
      "Balanced accuracy: 0.77\n",
      "Precision**:       0.72\n",
      "----------\n",
      "Fold #1\n",
      "Training model...\n",
      "Training classifier with data from Acc sensor\n",
      "Training classifier with data from Gyro sensor\n",
      "Training classifier with data from Magnet sensor\n",
      "Training classifier with data from WAcc sensor\n",
      "Training classifier with data from Compass sensor\n",
      "Training classifier with data from Loc sensor\n",
      "Training classifier with data from Aud sensor\n",
      "Training classifier with data from AP sensor\n",
      "Training classifier with data from PS sensor\n",
      "Training classifier with data from LF sensor\n",
      "Testing model...\n",
      "----------\n",
      "Accuracy*:         0.73\n",
      "Sensitivity (TPR): 0.85\n",
      "Specificity (TNR): 0.64\n",
      "Balanced accuracy: 0.74\n",
      "Precision**:       0.66\n",
      "----------\n",
      "Fold #2\n",
      "Training model...\n",
      "Training classifier with data from Acc sensor\n",
      "Training classifier with data from Gyro sensor\n",
      "Training classifier with data from Magnet sensor\n",
      "Training classifier with data from WAcc sensor\n",
      "Training classifier with data from Compass sensor\n",
      "Training classifier with data from Loc sensor\n",
      "Training classifier with data from Aud sensor\n",
      "Training classifier with data from AP sensor\n",
      "Training classifier with data from PS sensor\n",
      "Training classifier with data from LF sensor\n",
      "Testing model...\n",
      "----------\n",
      "Accuracy*:         0.76\n",
      "Sensitivity (TPR): 0.77\n",
      "Specificity (TNR): 0.75\n",
      "Balanced accuracy: 0.76\n",
      "Precision**:       0.71\n",
      "----------\n",
      "Fold #3\n",
      "Training model...\n",
      "Training classifier with data from Acc sensor\n",
      "Training classifier with data from Gyro sensor\n",
      "Training classifier with data from Magnet sensor\n",
      "Training classifier with data from WAcc sensor\n",
      "Training classifier with data from Compass sensor\n",
      "Training classifier with data from Loc sensor\n",
      "Training classifier with data from Aud sensor\n",
      "Training classifier with data from AP sensor\n",
      "Training classifier with data from PS sensor\n",
      "Training classifier with data from LF sensor\n",
      "Testing model...\n",
      "----------\n",
      "Accuracy*:         0.75\n",
      "Sensitivity (TPR): 0.72\n",
      "Specificity (TNR): 0.76\n",
      "Balanced accuracy: 0.74\n",
      "Precision**:       0.65\n",
      "----------\n",
      "Fold #4\n",
      "Training model...\n",
      "Training classifier with data from Acc sensor\n",
      "Training classifier with data from Gyro sensor\n",
      "Training classifier with data from Magnet sensor\n",
      "Training classifier with data from WAcc sensor\n",
      "Training classifier with data from Compass sensor\n",
      "Training classifier with data from Loc sensor\n",
      "Training classifier with data from Aud sensor\n",
      "Training classifier with data from AP sensor\n",
      "Training classifier with data from PS sensor\n",
      "Training classifier with data from LF sensor\n",
      "Testing model...\n",
      "----------\n",
      "Accuracy*:         0.71\n",
      "Sensitivity (TPR): 0.73\n",
      "Specificity (TNR): 0.68\n",
      "Balanced accuracy: 0.70\n",
      "Precision**:       0.71\n",
      "----------\n"
     ]
    }
   ],
   "source": [
    "test_metrics = test_model(SensorFusionClassifier, \\\n",
    "                          'SITTING', \\\n",
    "                          sensors=sensors, ensemble_type=\"stacking\")"
   ]
  },
  {
   "cell_type": "code",
   "execution_count": 68,
   "metadata": {},
   "outputs": [
    {
     "name": "stdout",
     "output_type": "stream",
     "text": [
      "----------\n",
      "Accuracy*:         0.74\n",
      "Sensitivity (TPR): 0.78\n",
      "Specificity (TNR): 0.71\n",
      "Balanced accuracy: 0.74\n",
      "Precision**:       0.69\n",
      "----------\n"
     ]
    }
   ],
   "source": [
    "get_mean_metrics(test_metrics)"
   ]
  },
  {
   "cell_type": "code",
   "execution_count": null,
   "metadata": {
    "collapsed": true
   },
   "outputs": [],
   "source": []
  }
 ],
 "metadata": {
  "kernelspec": {
   "display_name": "Python 3",
   "language": "python",
   "name": "python3"
  },
  "language_info": {
   "codemirror_mode": {
    "name": "ipython",
    "version": 3
   },
   "file_extension": ".py",
   "mimetype": "text/x-python",
   "name": "python",
   "nbconvert_exporter": "python",
   "pygments_lexer": "ipython3",
   "version": "3.4.5"
  }
 },
 "nbformat": 4,
 "nbformat_minor": 2
}
