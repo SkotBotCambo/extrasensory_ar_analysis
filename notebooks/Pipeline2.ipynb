{
 "cells": [
  {
   "cell_type": "code",
   "execution_count": 1,
   "metadata": {
    "collapsed": true
   },
   "outputs": [],
   "source": [
    "import pandas as pd\n",
    "import numpy as np\n",
    "import time\n",
    "import importlib.machinery\n",
    "es = importlib.machinery.SourceFileLoader('extrasense','/home/sac086/extrasensory/extrasense/extrasense.py').load_module()\n",
    "from sklearn.ensemble import RandomForestClassifier\n",
    "from sklearn.metrics import accuracy_score\n",
    "from sklearn.model_selection import StratifiedShuffleSplit, ShuffleSplit, KFold, StratifiedKFold\n",
    "from sklearn.preprocessing import StandardScaler"
   ]
  },
  {
   "cell_type": "markdown",
   "metadata": {},
   "source": [
    "# Testing a Personal Model\n",
    "This is just so that I can get a sense of whether the data is working out."
   ]
  },
  {
   "cell_type": "code",
   "execution_count": 2,
   "metadata": {
    "collapsed": true
   },
   "outputs": [],
   "source": [
    "def test_personal_model(user_id):\n",
    "    kf = KFold(n_splits=3)\n",
    "\n",
    "    user_df = es.get_data_from_user_id(user_id, data_type=\"activity\", labeled_only=True)\n",
    "    timestamps_series = user_df.pop('timestamp')\n",
    "    scores = []\n",
    "    for training_ind, test_ind in kf.split(user_df):\n",
    "        train_df = user_df.iloc[training_ind]\n",
    "        test_df = user_df.iloc[test_ind]\n",
    "\n",
    "        train_labels = train_df.pop(\"label\")\n",
    "        test_labels = test_df.pop(\"label\")\n",
    "        \n",
    "\n",
    "        clf = RandomForestClassifier()\n",
    "\n",
    "        # standard scale training\n",
    "        \n",
    "        scaled_test_df = scaler.transform(test_df)\n",
    "\n",
    "        clf.fit(scaled_train_df, train_labels)\n",
    "\n",
    "        # standard scale testing\n",
    "        predictions = clf.predict(scaled_test_df)\n",
    "        score = accuracy_score(test_labels, predictions)\n",
    "        scores.append(score)\n",
    "    return np.mean(scores)"
   ]
  },
  {
   "cell_type": "code",
   "execution_count": 3,
   "metadata": {
    "collapsed": true
   },
   "outputs": [],
   "source": [
    "#user_scores = {}\n",
    "#for user_id in es.user_ids:\n",
    "#    mean_score = test_personal_model(user_id)\n",
    "#    user_scores[user_id] = mean_score"
   ]
  },
  {
   "cell_type": "markdown",
   "metadata": {
    "collapsed": true
   },
   "source": [
    "# Testing an impersonal model\n",
    "Leave-One Participant out design\n",
    "\n",
    "Sampling personal test data with ShuffleSplit method which will randomly select personal data\n",
    "making no gaurentee that the distribution of test data is similar to the distribution of training data"
   ]
  },
  {
   "cell_type": "code",
   "execution_count": 4,
   "metadata": {},
   "outputs": [
    {
     "name": "stderr",
     "output_type": "stream",
     "text": [
      "/home/sac086/extrasensory/extrasense/extrasense.py:159: UserWarning: Boolean Series key will be reindexed to match DataFrame index.\n",
      "  user_df = user_df[null_mask]\n"
     ]
    }
   ],
   "source": [
    "user_df = es.get_data_from_user_id(es.user_ids[0], data_type=\"activity\", labeled_only=True)"
   ]
  },
  {
   "cell_type": "code",
   "execution_count": 5,
   "metadata": {
    "scrolled": true
   },
   "outputs": [
    {
     "name": "stderr",
     "output_type": "stream",
     "text": [
      "/home/sac086/extrasensory/extrasense/extrasense.py:181: UserWarning: Boolean Series key will be reindexed to match DataFrame index.\n",
      "  impersonal_df = impersonal_df[null_mask]\n"
     ]
    }
   ],
   "source": [
    "impersonal_df = es.get_impersonal_data(es.user_ids[0], data_type=\"activity\", labeled_only=True)"
   ]
  },
  {
   "cell_type": "code",
   "execution_count": null,
   "metadata": {
    "collapsed": true
   },
   "outputs": [],
   "source": [
    "impersonal_df = pd.concat(impersonal_df, ignore_index=True)"
   ]
  },
  {
   "cell_type": "code",
   "execution_count": null,
   "metadata": {
    "collapsed": true
   },
   "outputs": [],
   "source": [
    "features_df = impersonal_df[impersonal_df.columns.intersection(es.acc_col_name)]"
   ]
  },
  {
   "cell_type": "code",
   "execution_count": null,
   "metadata": {
    "collapsed": true
   },
   "outputs": [],
   "source": [
    "labels_df = es.clean_labels(impersonal_df[impersonal_df.columns.intersection(es.acc_labels_name)])"
   ]
  },
  {
   "cell_type": "code",
   "execution_count": null,
   "metadata": {
    "collapsed": true
   },
   "outputs": [],
   "source": [
    "impersonal_df = pd.concat((features_df,labels_df,impersonal_df['timestamp']), axis=1)"
   ]
  },
  {
   "cell_type": "code",
   "execution_count": null,
   "metadata": {},
   "outputs": [],
   "source": [
    "impersonal_df.head()"
   ]
  },
  {
   "cell_type": "code",
   "execution_count": null,
   "metadata": {
    "collapsed": true
   },
   "outputs": [],
   "source": [
    "type(impersonal_df)"
   ]
  },
  {
   "cell_type": "code",
   "execution_count": null,
   "metadata": {
    "collapsed": true
   },
   "outputs": [],
   "source": [
    "list(impersonal_df.columns)"
   ]
  },
  {
   "cell_type": "code",
   "execution_count": 25,
   "metadata": {
    "collapsed": true
   },
   "outputs": [],
   "source": [
    "def test_impersonal_model(user_id):\n",
    "    personal_df = es.get_data_from_user_id(user_id, data_type=\"activity\", labeled_only=True)\n",
    "    impersonal_df = es.get_impersonal_data(user_id, data_type=\"activity\", labeled_only=True)\n",
    "    timestamps_personal = personal_df.pop('timestamp')\n",
    "    timestamps_impersonal = impersonal_df.pop('timestamp')\n",
    "    scores = []\n",
    "    \n",
    "    rs = ShuffleSplit(n_splits=3, test_size=100)\n",
    "    train_df = impersonal_df\n",
    "    train_labels = train_df.pop(\"label\")\n",
    "    \n",
    "    # standard scale training\n",
    "    scaler = StandardScaler().fit(train_df)\n",
    "    scaled_train_df = scaler.transform(train_df)\n",
    "    \n",
    "    impersonal_clf = RandomForestClassifier()\n",
    "    impersonal_clf.fit(scaled_train_df, train_labels)\n",
    "\n",
    "    for __, test_ind in rs.split(personal_df):\n",
    "        test_df = personal_df.iloc[test_ind]\n",
    "        \n",
    "        #print(train_df['label'])\n",
    "        test_labels = test_df.pop(\"label\")\n",
    "\n",
    "        scaled_test_df = scaler.transform(test_df)\n",
    "\n",
    "        # standard scale testing\n",
    "        predictions = impersonal_clf.predict(scaled_test_df)\n",
    "        score = accuracy_score(test_labels, predictions)\n",
    "        scores.append(score)\n",
    "    return np.mean(scores)"
   ]
  },
  {
   "cell_type": "code",
   "execution_count": 26,
   "metadata": {
    "scrolled": false
   },
   "outputs": [
    {
     "name": "stdout",
     "output_type": "stream",
     "text": [
      "Getting score for 098A72A5-E3E5-4F54-A152-BBDA0DF7B694\n"
     ]
    },
    {
     "name": "stderr",
     "output_type": "stream",
     "text": [
      "/home/sac086/extrasensory/extrasense/extrasense.py:159: UserWarning: Boolean Series key will be reindexed to match DataFrame index.\n",
      "  user_df = user_df[null_mask]\n",
      "/home/sac086/extrasensory/extrasense/extrasense.py:181: UserWarning: Boolean Series key will be reindexed to match DataFrame index.\n",
      "  impersonal_df = impersonal_df[null_mask]\n"
     ]
    },
    {
     "name": "stdout",
     "output_type": "stream",
     "text": [
      "\t M=0.57, took 1.6683868169784546 seconds\n",
      "Getting score for 0A986513-7828-4D53-AA1F-E02D6DF9561B\n"
     ]
    },
    {
     "name": "stderr",
     "output_type": "stream",
     "text": [
      "/home/sac086/extrasensory/extrasense/extrasense.py:181: UserWarning: Boolean Series key will be reindexed to match DataFrame index.\n",
      "  impersonal_df = impersonal_df[null_mask]\n"
     ]
    },
    {
     "name": "stdout",
     "output_type": "stream",
     "text": [
      "\t M=0.66, took 1.6724058508872985 seconds\n",
      "Getting score for 0BFC35E2-4817-4865-BFA7-764742302A2D\n"
     ]
    },
    {
     "name": "stderr",
     "output_type": "stream",
     "text": [
      "/home/sac086/extrasensory/extrasense/extrasense.py:159: UserWarning: Boolean Series key will be reindexed to match DataFrame index.\n",
      "  user_df = user_df[null_mask]\n",
      "/home/sac086/extrasensory/extrasense/extrasense.py:181: UserWarning: Boolean Series key will be reindexed to match DataFrame index.\n",
      "  impersonal_df = impersonal_df[null_mask]\n"
     ]
    },
    {
     "name": "stdout",
     "output_type": "stream",
     "text": [
      "\t M=0.613333333333, took 1.6865341981252036 seconds\n",
      "Getting score for 0E6184E1-90C0-48EE-B25A-F1ECB7B9714E\n"
     ]
    },
    {
     "name": "stderr",
     "output_type": "stream",
     "text": [
      "/home/sac086/extrasensory/extrasense/extrasense.py:159: UserWarning: Boolean Series key will be reindexed to match DataFrame index.\n",
      "  user_df = user_df[null_mask]\n",
      "/home/sac086/extrasensory/extrasense/extrasense.py:181: UserWarning: Boolean Series key will be reindexed to match DataFrame index.\n",
      "  impersonal_df = impersonal_df[null_mask]\n"
     ]
    },
    {
     "name": "stdout",
     "output_type": "stream",
     "text": [
      "\t M=0.596666666667, took 1.676706345876058 seconds\n",
      "Getting score for 1155FF54-63D3-4AB2-9863-8385D0BD0A13\n"
     ]
    },
    {
     "name": "stderr",
     "output_type": "stream",
     "text": [
      "/home/sac086/extrasensory/extrasense/extrasense.py:181: UserWarning: Boolean Series key will be reindexed to match DataFrame index.\n",
      "  impersonal_df = impersonal_df[null_mask]\n"
     ]
    },
    {
     "name": "stdout",
     "output_type": "stream",
     "text": [
      "\t M=0.666666666667, took 1.6862767299016317 seconds\n",
      "Getting score for 11B5EC4D-4133-4289-B475-4E737182A406\n"
     ]
    },
    {
     "name": "stderr",
     "output_type": "stream",
     "text": [
      "/home/sac086/extrasensory/extrasense/extrasense.py:181: UserWarning: Boolean Series key will be reindexed to match DataFrame index.\n",
      "  impersonal_df = impersonal_df[null_mask]\n"
     ]
    },
    {
     "name": "stdout",
     "output_type": "stream",
     "text": [
      "\t M=0.636666666667, took 1.6869596759478251 seconds\n",
      "Getting score for 136562B6-95B2-483D-88DC-065F28409FD2\n"
     ]
    },
    {
     "name": "stderr",
     "output_type": "stream",
     "text": [
      "/home/sac086/extrasensory/extrasense/extrasense.py:181: UserWarning: Boolean Series key will be reindexed to match DataFrame index.\n",
      "  impersonal_df = impersonal_df[null_mask]\n"
     ]
    },
    {
     "name": "stdout",
     "output_type": "stream",
     "text": [
      "\t M=0.603333333333, took 1.6654141227404275 seconds\n",
      "Getting score for 1538C99F-BA1E-4EFB-A949-6C7C47701B20\n"
     ]
    },
    {
     "name": "stderr",
     "output_type": "stream",
     "text": [
      "/home/sac086/extrasensory/extrasense/extrasense.py:181: UserWarning: Boolean Series key will be reindexed to match DataFrame index.\n",
      "  impersonal_df = impersonal_df[null_mask]\n"
     ]
    },
    {
     "name": "stdout",
     "output_type": "stream",
     "text": [
      "\t M=0.556666666667, took 1.6675441106160482 seconds\n",
      "Getting score for 1DBB0F6F-1F81-4A50-9DF4-CD62ACFA4842\n"
     ]
    },
    {
     "name": "stderr",
     "output_type": "stream",
     "text": [
      "/home/sac086/extrasensory/extrasense/extrasense.py:159: UserWarning: Boolean Series key will be reindexed to match DataFrame index.\n",
      "  user_df = user_df[null_mask]\n",
      "/home/sac086/extrasensory/extrasense/extrasense.py:181: UserWarning: Boolean Series key will be reindexed to match DataFrame index.\n",
      "  impersonal_df = impersonal_df[null_mask]\n"
     ]
    },
    {
     "name": "stdout",
     "output_type": "stream",
     "text": [
      "\t M=0.536666666667, took 1.6748879909515382 seconds\n",
      "Getting score for 24E40C4C-A349-4F9F-93AB-01D00FB994AF\n"
     ]
    },
    {
     "name": "stderr",
     "output_type": "stream",
     "text": [
      "/home/sac086/extrasensory/extrasense/extrasense.py:181: UserWarning: Boolean Series key will be reindexed to match DataFrame index.\n",
      "  impersonal_df = impersonal_df[null_mask]\n"
     ]
    },
    {
     "name": "stdout",
     "output_type": "stream",
     "text": [
      "\t M=0.633333333333, took 1.6832911173502605 seconds\n",
      "Getting score for 27E04243-B138-4F40-A164-F40B60165CF3\n"
     ]
    },
    {
     "name": "stderr",
     "output_type": "stream",
     "text": [
      "/home/sac086/extrasensory/extrasense/extrasense.py:159: UserWarning: Boolean Series key will be reindexed to match DataFrame index.\n",
      "  user_df = user_df[null_mask]\n",
      "/home/sac086/extrasensory/extrasense/extrasense.py:181: UserWarning: Boolean Series key will be reindexed to match DataFrame index.\n",
      "  impersonal_df = impersonal_df[null_mask]\n"
     ]
    },
    {
     "name": "stdout",
     "output_type": "stream",
     "text": [
      "\t M=0.403333333333, took 1.6780483643213908 seconds\n",
      "Getting score for 2C32C23E-E30C-498A-8DD2-0EFB9150A02E\n"
     ]
    },
    {
     "name": "stderr",
     "output_type": "stream",
     "text": [
      "/home/sac086/extrasensory/extrasense/extrasense.py:181: UserWarning: Boolean Series key will be reindexed to match DataFrame index.\n",
      "  impersonal_df = impersonal_df[null_mask]\n"
     ]
    },
    {
     "name": "stdout",
     "output_type": "stream",
     "text": [
      "\t M=0.61, took 1.6734431982040405 seconds\n",
      "Getting score for 33A85C34-CFE4-4732-9E73-0A7AC861B27A\n"
     ]
    },
    {
     "name": "stderr",
     "output_type": "stream",
     "text": [
      "/home/sac086/extrasensory/extrasense/extrasense.py:159: UserWarning: Boolean Series key will be reindexed to match DataFrame index.\n",
      "  user_df = user_df[null_mask]\n",
      "/home/sac086/extrasensory/extrasense/extrasense.py:181: UserWarning: Boolean Series key will be reindexed to match DataFrame index.\n",
      "  impersonal_df = impersonal_df[null_mask]\n"
     ]
    },
    {
     "name": "stdout",
     "output_type": "stream",
     "text": [
      "\t M=0.6, took 1.6787604888280232 seconds\n",
      "Getting score for 3600D531-0C55-44A7-AE95-A7A38519464E\n"
     ]
    },
    {
     "name": "stderr",
     "output_type": "stream",
     "text": [
      "/home/sac086/extrasensory/extrasense/extrasense.py:181: UserWarning: Boolean Series key will be reindexed to match DataFrame index.\n",
      "  impersonal_df = impersonal_df[null_mask]\n"
     ]
    },
    {
     "name": "stdout",
     "output_type": "stream",
     "text": [
      "\t M=0.533333333333, took 1.6749593536059062 seconds\n",
      "Getting score for 40E170A7-607B-4578-AF04-F021C3B0384A\n"
     ]
    },
    {
     "name": "stderr",
     "output_type": "stream",
     "text": [
      "/home/sac086/extrasensory/extrasense/extrasense.py:159: UserWarning: Boolean Series key will be reindexed to match DataFrame index.\n",
      "  user_df = user_df[null_mask]\n",
      "/home/sac086/extrasensory/extrasense/extrasense.py:181: UserWarning: Boolean Series key will be reindexed to match DataFrame index.\n",
      "  impersonal_df = impersonal_df[null_mask]\n"
     ]
    },
    {
     "name": "stdout",
     "output_type": "stream",
     "text": [
      "\t M=0.53, took 1.6739397565523784 seconds\n",
      "Getting score for 481F4DD2-7689-43B9-A2AA-C8772227162B\n"
     ]
    },
    {
     "name": "stderr",
     "output_type": "stream",
     "text": [
      "/home/sac086/extrasensory/extrasense/extrasense.py:159: UserWarning: Boolean Series key will be reindexed to match DataFrame index.\n",
      "  user_df = user_df[null_mask]\n",
      "/home/sac086/extrasensory/extrasense/extrasense.py:181: UserWarning: Boolean Series key will be reindexed to match DataFrame index.\n",
      "  impersonal_df = impersonal_df[null_mask]\n"
     ]
    },
    {
     "name": "stdout",
     "output_type": "stream",
     "text": [
      "\t M=0.58, took 1.6676113446553549 seconds\n",
      "Getting score for 4E98F91F-4654-42EF-B908-A3389443F2E7\n"
     ]
    },
    {
     "name": "stderr",
     "output_type": "stream",
     "text": [
      "/home/sac086/extrasensory/extrasense/extrasense.py:159: UserWarning: Boolean Series key will be reindexed to match DataFrame index.\n",
      "  user_df = user_df[null_mask]\n",
      "/home/sac086/extrasensory/extrasense/extrasense.py:181: UserWarning: Boolean Series key will be reindexed to match DataFrame index.\n",
      "  impersonal_df = impersonal_df[null_mask]\n"
     ]
    },
    {
     "name": "stdout",
     "output_type": "stream",
     "text": [
      "\t M=0.59, took 1.6797492146492004 seconds\n",
      "Getting score for 4FC32141-E888-4BFF-8804-12559A491D8C\n"
     ]
    },
    {
     "name": "stderr",
     "output_type": "stream",
     "text": [
      "/home/sac086/extrasensory/extrasense/extrasense.py:181: UserWarning: Boolean Series key will be reindexed to match DataFrame index.\n",
      "  impersonal_df = impersonal_df[null_mask]\n"
     ]
    },
    {
     "name": "stdout",
     "output_type": "stream",
     "text": [
      "\t M=0.716666666667, took 1.7073925495147706 seconds\n",
      "Getting score for 5119D0F8-FCA8-4184-A4EB-19421A40DE0D\n"
     ]
    },
    {
     "name": "stderr",
     "output_type": "stream",
     "text": [
      "/home/sac086/extrasensory/extrasense/extrasense.py:181: UserWarning: Boolean Series key will be reindexed to match DataFrame index.\n",
      "  impersonal_df = impersonal_df[null_mask]\n"
     ]
    },
    {
     "name": "stdout",
     "output_type": "stream",
     "text": [
      "\t M=0.663333333333, took 1.6910078565279643 seconds\n",
      "Getting score for 5152A2DF-FAF3-4BA8-9CA9-E66B32671A53\n"
     ]
    },
    {
     "name": "stderr",
     "output_type": "stream",
     "text": [
      "/home/sac086/extrasensory/extrasense/extrasense.py:181: UserWarning: Boolean Series key will be reindexed to match DataFrame index.\n",
      "  impersonal_df = impersonal_df[null_mask]\n"
     ]
    },
    {
     "name": "stdout",
     "output_type": "stream",
     "text": [
      "\t M=0.5, took 1.6716010610262553 seconds\n",
      "Getting score for 59818CD2-24D7-4D32-B133-24C2FE3801E5\n"
     ]
    },
    {
     "name": "stderr",
     "output_type": "stream",
     "text": [
      "/home/sac086/extrasensory/extrasense/extrasense.py:159: UserWarning: Boolean Series key will be reindexed to match DataFrame index.\n",
      "  user_df = user_df[null_mask]\n",
      "/home/sac086/extrasensory/extrasense/extrasense.py:181: UserWarning: Boolean Series key will be reindexed to match DataFrame index.\n",
      "  impersonal_df = impersonal_df[null_mask]\n"
     ]
    },
    {
     "name": "stdout",
     "output_type": "stream",
     "text": [
      "\t M=0.576666666667, took 1.681590457757314 seconds\n",
      "Getting score for 59EEFAE0-DEB0-4FFF-9250-54D2A03D0CF2\n"
     ]
    },
    {
     "name": "stderr",
     "output_type": "stream",
     "text": [
      "/home/sac086/extrasensory/extrasense/extrasense.py:159: UserWarning: Boolean Series key will be reindexed to match DataFrame index.\n",
      "  user_df = user_df[null_mask]\n",
      "/home/sac086/extrasensory/extrasense/extrasense.py:181: UserWarning: Boolean Series key will be reindexed to match DataFrame index.\n",
      "  impersonal_df = impersonal_df[null_mask]\n"
     ]
    },
    {
     "name": "stdout",
     "output_type": "stream",
     "text": [
      "\t M=0.603333333333, took 1.673218544324239 seconds\n",
      "Getting score for 5EF64122-B513-46AE-BCF1-E62AAC285D2C\n"
     ]
    },
    {
     "name": "stderr",
     "output_type": "stream",
     "text": [
      "/home/sac086/extrasensory/extrasense/extrasense.py:181: UserWarning: Boolean Series key will be reindexed to match DataFrame index.\n",
      "  impersonal_df = impersonal_df[null_mask]\n"
     ]
    },
    {
     "name": "stdout",
     "output_type": "stream",
     "text": [
      "\t M=0.713333333333, took 1.6711076736450194 seconds\n",
      "Getting score for 61359772-D8D8-480D-B623-7C636EAD0C81\n"
     ]
    },
    {
     "name": "stderr",
     "output_type": "stream",
     "text": [
      "/home/sac086/extrasensory/extrasense/extrasense.py:159: UserWarning: Boolean Series key will be reindexed to match DataFrame index.\n",
      "  user_df = user_df[null_mask]\n",
      "/home/sac086/extrasensory/extrasense/extrasense.py:181: UserWarning: Boolean Series key will be reindexed to match DataFrame index.\n",
      "  impersonal_df = impersonal_df[null_mask]\n"
     ]
    },
    {
     "name": "stdout",
     "output_type": "stream",
     "text": [
      "\t M=0.483333333333, took 1.6704262892405193 seconds\n",
      "Getting score for 61976C24-1C50-4355-9C49-AAE44A7D09F6\n"
     ]
    },
    {
     "name": "stderr",
     "output_type": "stream",
     "text": [
      "/home/sac086/extrasensory/extrasense/extrasense.py:181: UserWarning: Boolean Series key will be reindexed to match DataFrame index.\n",
      "  impersonal_df = impersonal_df[null_mask]\n"
     ]
    },
    {
     "name": "stdout",
     "output_type": "stream",
     "text": [
      "\t M=0.543333333333, took 1.6687631726264953 seconds\n",
      "Getting score for 665514DE-49DC-421F-8DCB-145D0B2609AD\n"
     ]
    },
    {
     "name": "stderr",
     "output_type": "stream",
     "text": [
      "/home/sac086/extrasensory/extrasense/extrasense.py:159: UserWarning: Boolean Series key will be reindexed to match DataFrame index.\n",
      "  user_df = user_df[null_mask]\n",
      "/home/sac086/extrasensory/extrasense/extrasense.py:181: UserWarning: Boolean Series key will be reindexed to match DataFrame index.\n",
      "  impersonal_df = impersonal_df[null_mask]\n"
     ]
    },
    {
     "name": "stdout",
     "output_type": "stream",
     "text": [
      "\t M=0.52, took 1.6871259172757467 seconds\n",
      "Getting score for 74B86067-5D4B-43CF-82CF-341B76BEA0F4\n"
     ]
    },
    {
     "name": "stderr",
     "output_type": "stream",
     "text": [
      "/home/sac086/extrasensory/extrasense/extrasense.py:159: UserWarning: Boolean Series key will be reindexed to match DataFrame index.\n",
      "  user_df = user_df[null_mask]\n",
      "/home/sac086/extrasensory/extrasense/extrasense.py:181: UserWarning: Boolean Series key will be reindexed to match DataFrame index.\n",
      "  impersonal_df = impersonal_df[null_mask]\n"
     ]
    },
    {
     "name": "stdout",
     "output_type": "stream",
     "text": [
      "\t M=0.62, took 1.6722873330116272 seconds\n",
      "Getting score for 78A91A4E-4A51-4065-BDA7-94755F0BB3BB\n"
     ]
    },
    {
     "name": "stderr",
     "output_type": "stream",
     "text": [
      "/home/sac086/extrasensory/extrasense/extrasense.py:181: UserWarning: Boolean Series key will be reindexed to match DataFrame index.\n",
      "  impersonal_df = impersonal_df[null_mask]\n"
     ]
    },
    {
     "name": "stdout",
     "output_type": "stream",
     "text": [
      "\t M=0.593333333333, took 1.6662248611450194 seconds\n",
      "Getting score for 797D145F-3858-4A7F-A7C2-A4EB721E133C\n"
     ]
    },
    {
     "name": "stderr",
     "output_type": "stream",
     "text": [
      "/home/sac086/extrasensory/extrasense/extrasense.py:181: UserWarning: Boolean Series key will be reindexed to match DataFrame index.\n",
      "  impersonal_df = impersonal_df[null_mask]\n"
     ]
    },
    {
     "name": "stdout",
     "output_type": "stream",
     "text": [
      "\t M=0.52, took 1.713589568932851 seconds\n",
      "Getting score for 7CE37510-56D0-4120-A1CF-0E23351428D2\n"
     ]
    },
    {
     "name": "stderr",
     "output_type": "stream",
     "text": [
      "/home/sac086/extrasensory/extrasense/extrasense.py:159: UserWarning: Boolean Series key will be reindexed to match DataFrame index.\n",
      "  user_df = user_df[null_mask]\n",
      "/home/sac086/extrasensory/extrasense/extrasense.py:181: UserWarning: Boolean Series key will be reindexed to match DataFrame index.\n",
      "  impersonal_df = impersonal_df[null_mask]\n"
     ]
    },
    {
     "name": "stdout",
     "output_type": "stream",
     "text": [
      "\t M=0.706666666667, took 1.6683146119117738 seconds\n",
      "Getting score for 7D9BB102-A612-4E2A-8E22-3159752F55D8\n"
     ]
    },
    {
     "name": "stderr",
     "output_type": "stream",
     "text": [
      "/home/sac086/extrasensory/extrasense/extrasense.py:181: UserWarning: Boolean Series key will be reindexed to match DataFrame index.\n",
      "  impersonal_df = impersonal_df[null_mask]\n"
     ]
    },
    {
     "name": "stdout",
     "output_type": "stream",
     "text": [
      "\t M=0.673333333333, took 1.6849355777104695 seconds\n",
      "Getting score for 8023FE1A-D3B0-4E2C-A57A-9321B7FC755F\n"
     ]
    },
    {
     "name": "stderr",
     "output_type": "stream",
     "text": [
      "/home/sac086/extrasensory/extrasense/extrasense.py:181: UserWarning: Boolean Series key will be reindexed to match DataFrame index.\n",
      "  impersonal_df = impersonal_df[null_mask]\n"
     ]
    },
    {
     "name": "stdout",
     "output_type": "stream",
     "text": [
      "\t M=0.53, took 1.67054736216863 seconds\n",
      "Getting score for 806289BC-AD52-4CC1-806C-0CDB14D65EB6\n"
     ]
    },
    {
     "name": "stderr",
     "output_type": "stream",
     "text": [
      "/home/sac086/extrasensory/extrasense/extrasense.py:181: UserWarning: Boolean Series key will be reindexed to match DataFrame index.\n",
      "  impersonal_df = impersonal_df[null_mask]\n"
     ]
    },
    {
     "name": "stdout",
     "output_type": "stream",
     "text": [
      "\t M=0.56, took 1.6782425006230672 seconds\n",
      "Getting score for 81536B0A-8DBF-4D8A-AC24-9543E2E4C8E0\n"
     ]
    },
    {
     "name": "stderr",
     "output_type": "stream",
     "text": [
      "/home/sac086/extrasensory/extrasense/extrasense.py:159: UserWarning: Boolean Series key will be reindexed to match DataFrame index.\n",
      "  user_df = user_df[null_mask]\n",
      "/home/sac086/extrasensory/extrasense/extrasense.py:181: UserWarning: Boolean Series key will be reindexed to match DataFrame index.\n",
      "  impersonal_df = impersonal_df[null_mask]\n"
     ]
    },
    {
     "name": "stdout",
     "output_type": "stream",
     "text": [
      "\t M=0.613333333333, took 1.7621090372403463 seconds\n",
      "Getting score for 83CF687B-7CEC-434B-9FE8-00C3D5799BE6\n"
     ]
    },
    {
     "name": "stderr",
     "output_type": "stream",
     "text": [
      "/home/sac086/extrasensory/extrasense/extrasense.py:181: UserWarning: Boolean Series key will be reindexed to match DataFrame index.\n",
      "  impersonal_df = impersonal_df[null_mask]\n"
     ]
    },
    {
     "name": "stdout",
     "output_type": "stream",
     "text": [
      "\t M=0.513333333333, took 1.6906118114789328 seconds\n",
      "Getting score for 86A4F379-B305-473D-9D83-FC7D800180EF\n"
     ]
    },
    {
     "name": "stderr",
     "output_type": "stream",
     "text": [
      "/home/sac086/extrasensory/extrasense/extrasense.py:159: UserWarning: Boolean Series key will be reindexed to match DataFrame index.\n",
      "  user_df = user_df[null_mask]\n",
      "/home/sac086/extrasensory/extrasense/extrasense.py:181: UserWarning: Boolean Series key will be reindexed to match DataFrame index.\n",
      "  impersonal_df = impersonal_df[null_mask]\n"
     ]
    },
    {
     "name": "stdout",
     "output_type": "stream",
     "text": [
      "\t M=0.343333333333, took 1.7248114824295044 seconds\n",
      "Getting score for 96A358A0-FFF2-4239-B93E-C7425B901B47\n"
     ]
    },
    {
     "name": "stderr",
     "output_type": "stream",
     "text": [
      "/home/sac086/extrasensory/extrasense/extrasense.py:159: UserWarning: Boolean Series key will be reindexed to match DataFrame index.\n",
      "  user_df = user_df[null_mask]\n",
      "/home/sac086/extrasensory/extrasense/extrasense.py:181: UserWarning: Boolean Series key will be reindexed to match DataFrame index.\n",
      "  impersonal_df = impersonal_df[null_mask]\n"
     ]
    },
    {
     "name": "stdout",
     "output_type": "stream",
     "text": [
      "\t M=0.396666666667, took 1.7278412699699401 seconds\n",
      "Getting score for 9759096F-1119-4E19-A0AD-6F16989C7E1C\n"
     ]
    },
    {
     "name": "stderr",
     "output_type": "stream",
     "text": [
      "/home/sac086/extrasensory/extrasense/extrasense.py:181: UserWarning: Boolean Series key will be reindexed to match DataFrame index.\n",
      "  impersonal_df = impersonal_df[null_mask]\n"
     ]
    },
    {
     "name": "stdout",
     "output_type": "stream",
     "text": [
      "\t M=0.493333333333, took 1.698091244697571 seconds\n",
      "Getting score for 99B204C0-DD5C-4BB7-83E8-A37281B8D769\n"
     ]
    },
    {
     "name": "stderr",
     "output_type": "stream",
     "text": [
      "/home/sac086/extrasensory/extrasense/extrasense.py:159: UserWarning: Boolean Series key will be reindexed to match DataFrame index.\n",
      "  user_df = user_df[null_mask]\n",
      "/home/sac086/extrasensory/extrasense/extrasense.py:181: UserWarning: Boolean Series key will be reindexed to match DataFrame index.\n",
      "  impersonal_df = impersonal_df[null_mask]\n"
     ]
    },
    {
     "name": "stdout",
     "output_type": "stream",
     "text": [
      "\t M=0.556666666667, took 1.7608184536298117 seconds\n",
      "Getting score for 9DC38D04-E82E-4F29-AB52-B476535226F2\n"
     ]
    },
    {
     "name": "stderr",
     "output_type": "stream",
     "text": [
      "/home/sac086/extrasensory/extrasense/extrasense.py:181: UserWarning: Boolean Series key will be reindexed to match DataFrame index.\n",
      "  impersonal_df = impersonal_df[null_mask]\n"
     ]
    },
    {
     "name": "stdout",
     "output_type": "stream",
     "text": [
      "\t M=0.623333333333, took 1.7673961162567138 seconds\n",
      "Getting score for A5A30F76-581E-4757-97A2-957553A2C6AA\n"
     ]
    },
    {
     "name": "stderr",
     "output_type": "stream",
     "text": [
      "/home/sac086/extrasensory/extrasense/extrasense.py:181: UserWarning: Boolean Series key will be reindexed to match DataFrame index.\n",
      "  impersonal_df = impersonal_df[null_mask]\n"
     ]
    },
    {
     "name": "stdout",
     "output_type": "stream",
     "text": [
      "\t M=0.463333333333, took 1.754757551352183 seconds\n",
      "Getting score for A5CDF89D-02A2-4EC1-89F8-F534FDABDD96\n"
     ]
    },
    {
     "name": "stderr",
     "output_type": "stream",
     "text": [
      "/home/sac086/extrasensory/extrasense/extrasense.py:181: UserWarning: Boolean Series key will be reindexed to match DataFrame index.\n",
      "  impersonal_df = impersonal_df[null_mask]\n"
     ]
    },
    {
     "name": "stdout",
     "output_type": "stream",
     "text": [
      "\t M=0.676666666667, took 1.7772712349891662 seconds\n",
      "Getting score for A7599A50-24AE-46A6-8EA6-2576F1011D81\n"
     ]
    },
    {
     "name": "stderr",
     "output_type": "stream",
     "text": [
      "/home/sac086/extrasensory/extrasense/extrasense.py:181: UserWarning: Boolean Series key will be reindexed to match DataFrame index.\n",
      "  impersonal_df = impersonal_df[null_mask]\n"
     ]
    },
    {
     "name": "stdout",
     "output_type": "stream",
     "text": [
      "\t M=0.413333333333, took 1.7404357075691224 seconds\n",
      "Getting score for A76A5AF5-5A93-4CF2-A16E-62353BB70E8A\n"
     ]
    },
    {
     "name": "stderr",
     "output_type": "stream",
     "text": [
      "/home/sac086/extrasensory/extrasense/extrasense.py:181: UserWarning: Boolean Series key will be reindexed to match DataFrame index.\n",
      "  impersonal_df = impersonal_df[null_mask]\n"
     ]
    },
    {
     "name": "stdout",
     "output_type": "stream",
     "text": [
      "\t M=0.606666666667, took 1.6914929350217183 seconds\n",
      "Getting score for B09E373F-8A54-44C8-895B-0039390B859F\n"
     ]
    },
    {
     "name": "stderr",
     "output_type": "stream",
     "text": [
      "/home/sac086/extrasensory/extrasense/extrasense.py:181: UserWarning: Boolean Series key will be reindexed to match DataFrame index.\n",
      "  impersonal_df = impersonal_df[null_mask]\n"
     ]
    },
    {
     "name": "stdout",
     "output_type": "stream",
     "text": [
      "\t M=0.486666666667, took 1.702235476175944 seconds\n",
      "Getting score for B7F9D634-263E-4A97-87F9-6FFB4DDCB36C\n"
     ]
    },
    {
     "name": "stderr",
     "output_type": "stream",
     "text": [
      "/home/sac086/extrasensory/extrasense/extrasense.py:181: UserWarning: Boolean Series key will be reindexed to match DataFrame index.\n",
      "  impersonal_df = impersonal_df[null_mask]\n"
     ]
    },
    {
     "name": "stdout",
     "output_type": "stream",
     "text": [
      "\t M=0.47, took 1.6935502211252849 seconds\n",
      "Getting score for B9724848-C7E2-45F4-9B3F-A1F38D864495\n"
     ]
    },
    {
     "name": "stderr",
     "output_type": "stream",
     "text": [
      "/home/sac086/extrasensory/extrasense/extrasense.py:181: UserWarning: Boolean Series key will be reindexed to match DataFrame index.\n",
      "  impersonal_df = impersonal_df[null_mask]\n"
     ]
    },
    {
     "name": "stdout",
     "output_type": "stream",
     "text": [
      "\t M=0.556666666667, took 1.8566166122754415 seconds\n",
      "Getting score for BE3CA5A6-A561-4BBD-B7C9-5DF6805400FC\n"
     ]
    },
    {
     "name": "stderr",
     "output_type": "stream",
     "text": [
      "/home/sac086/extrasensory/extrasense/extrasense.py:181: UserWarning: Boolean Series key will be reindexed to match DataFrame index.\n",
      "  impersonal_df = impersonal_df[null_mask]\n"
     ]
    },
    {
     "name": "stdout",
     "output_type": "stream",
     "text": [
      "\t M=0.643333333333, took 1.7278264204661051 seconds\n",
      "Getting score for BEF6C611-50DA-4971-A040-87FB979F3FC1\n"
     ]
    },
    {
     "name": "stderr",
     "output_type": "stream",
     "text": [
      "/home/sac086/extrasensory/extrasense/extrasense.py:159: UserWarning: Boolean Series key will be reindexed to match DataFrame index.\n",
      "  user_df = user_df[null_mask]\n",
      "/home/sac086/extrasensory/extrasense/extrasense.py:181: UserWarning: Boolean Series key will be reindexed to match DataFrame index.\n",
      "  impersonal_df = impersonal_df[null_mask]\n"
     ]
    },
    {
     "name": "stdout",
     "output_type": "stream",
     "text": [
      "\t M=0.45, took 1.7350372751553853 seconds\n",
      "Getting score for C48CE857-A0DD-4DDB-BEA5-3A25449B2153\n"
     ]
    },
    {
     "name": "stderr",
     "output_type": "stream",
     "text": [
      "/home/sac086/extrasensory/extrasense/extrasense.py:159: UserWarning: Boolean Series key will be reindexed to match DataFrame index.\n",
      "  user_df = user_df[null_mask]\n",
      "/home/sac086/extrasensory/extrasense/extrasense.py:181: UserWarning: Boolean Series key will be reindexed to match DataFrame index.\n",
      "  impersonal_df = impersonal_df[null_mask]\n"
     ]
    },
    {
     "name": "stdout",
     "output_type": "stream",
     "text": [
      "\t M=0.626666666667, took 1.6850870569547018 seconds\n",
      "Getting score for CA820D43-E5E2-42EF-9798-BE56F776370B\n"
     ]
    },
    {
     "name": "stderr",
     "output_type": "stream",
     "text": [
      "/home/sac086/extrasensory/extrasense/extrasense.py:159: UserWarning: Boolean Series key will be reindexed to match DataFrame index.\n",
      "  user_df = user_df[null_mask]\n",
      "/home/sac086/extrasensory/extrasense/extrasense.py:181: UserWarning: Boolean Series key will be reindexed to match DataFrame index.\n",
      "  impersonal_df = impersonal_df[null_mask]\n"
     ]
    },
    {
     "name": "stdout",
     "output_type": "stream",
     "text": [
      "\t M=0.716666666667, took 1.724697212378184 seconds\n",
      "Getting score for CCAF77F0-FABB-4F2F-9E24-D56AD0C5A82F\n"
     ]
    },
    {
     "name": "stderr",
     "output_type": "stream",
     "text": [
      "/home/sac086/extrasensory/extrasense/extrasense.py:159: UserWarning: Boolean Series key will be reindexed to match DataFrame index.\n",
      "  user_df = user_df[null_mask]\n",
      "/home/sac086/extrasensory/extrasense/extrasense.py:181: UserWarning: Boolean Series key will be reindexed to match DataFrame index.\n",
      "  impersonal_df = impersonal_df[null_mask]\n"
     ]
    },
    {
     "name": "stdout",
     "output_type": "stream",
     "text": [
      "\t M=0.55, took 1.6783710559209188 seconds\n",
      "Getting score for CDA3BBF7-6631-45E8-85BA-EEB416B32A3C\n"
     ]
    },
    {
     "name": "stderr",
     "output_type": "stream",
     "text": [
      "/home/sac086/extrasensory/extrasense/extrasense.py:181: UserWarning: Boolean Series key will be reindexed to match DataFrame index.\n",
      "  impersonal_df = impersonal_df[null_mask]\n"
     ]
    },
    {
     "name": "stdout",
     "output_type": "stream",
     "text": [
      "\t M=0.583333333333, took 1.676837929089864 seconds\n",
      "Getting score for CF722AA9-2533-4E51-9FEB-9EAC84EE9AAC\n"
     ]
    },
    {
     "name": "stderr",
     "output_type": "stream",
     "text": [
      "/home/sac086/extrasensory/extrasense/extrasense.py:181: UserWarning: Boolean Series key will be reindexed to match DataFrame index.\n",
      "  impersonal_df = impersonal_df[null_mask]\n"
     ]
    },
    {
     "name": "stdout",
     "output_type": "stream",
     "text": [
      "\t M=0.636666666667, took 1.6781569123268127 seconds\n",
      "Getting score for D7D20E2E-FC78-405D-B346-DBD3FD8FC92B\n"
     ]
    },
    {
     "name": "stderr",
     "output_type": "stream",
     "text": [
      "/home/sac086/extrasensory/extrasense/extrasense.py:181: UserWarning: Boolean Series key will be reindexed to match DataFrame index.\n",
      "  impersonal_df = impersonal_df[null_mask]\n"
     ]
    },
    {
     "name": "stdout",
     "output_type": "stream",
     "text": [
      "\t M=0.566666666667, took 1.6874286492665609 seconds\n",
      "Getting score for E65577C1-8D5D-4F70-AF23-B3ADB9D3DBA3\n"
     ]
    },
    {
     "name": "stderr",
     "output_type": "stream",
     "text": [
      "/home/sac086/extrasensory/extrasense/extrasense.py:181: UserWarning: Boolean Series key will be reindexed to match DataFrame index.\n",
      "  impersonal_df = impersonal_df[null_mask]\n"
     ]
    },
    {
     "name": "stdout",
     "output_type": "stream",
     "text": [
      "\t M=0.48, took 1.682713218530019 seconds\n",
      "Getting score for 00EABED2-271D-49D8-B599-1D4A09240601\n"
     ]
    },
    {
     "name": "stderr",
     "output_type": "stream",
     "text": [
      "/home/sac086/extrasensory/extrasense/extrasense.py:181: UserWarning: Boolean Series key will be reindexed to match DataFrame index.\n",
      "  impersonal_df = impersonal_df[null_mask]\n"
     ]
    },
    {
     "name": "stdout",
     "output_type": "stream",
     "text": [
      "\t M=0.56, took 1.6805893619855246 seconds\n",
      "Getting score for ECECC2AB-D32F-4F90-B74C-E12A1C69BBE2\n"
     ]
    },
    {
     "name": "stderr",
     "output_type": "stream",
     "text": [
      "/home/sac086/extrasensory/extrasense/extrasense.py:181: UserWarning: Boolean Series key will be reindexed to match DataFrame index.\n",
      "  impersonal_df = impersonal_df[null_mask]\n"
     ]
    },
    {
     "name": "stdout",
     "output_type": "stream",
     "text": [
      "\t M=0.623333333333, took 1.6826470255851746 seconds\n",
      "Getting score for F50235E0-DD67-4F2A-B00B-1F31ADA998B9\n"
     ]
    },
    {
     "name": "stderr",
     "output_type": "stream",
     "text": [
      "/home/sac086/extrasensory/extrasense/extrasense.py:159: UserWarning: Boolean Series key will be reindexed to match DataFrame index.\n",
      "  user_df = user_df[null_mask]\n",
      "/home/sac086/extrasensory/extrasense/extrasense.py:181: UserWarning: Boolean Series key will be reindexed to match DataFrame index.\n",
      "  impersonal_df = impersonal_df[null_mask]\n"
     ]
    },
    {
     "name": "stdout",
     "output_type": "stream",
     "text": [
      "\t M=0.513333333333, took 1.6815760334332783 seconds\n",
      "Getting score for FDAA70A1-42A3-4E3F-9AE3-3FDA412E03BF\n"
     ]
    },
    {
     "name": "stderr",
     "output_type": "stream",
     "text": [
      "/home/sac086/extrasensory/extrasense/extrasense.py:181: UserWarning: Boolean Series key will be reindexed to match DataFrame index.\n",
      "  impersonal_df = impersonal_df[null_mask]\n"
     ]
    },
    {
     "name": "stdout",
     "output_type": "stream",
     "text": [
      "\t M=0.636666666667, took 1.6827624360720317 seconds\n"
     ]
    }
   ],
   "source": [
    "user_scores = {}\n",
    "for user_id in es.user_ids:\n",
    "    print(\"Getting score for %s\" % user_id)\n",
    "    start = time.time()\n",
    "    mean_score = test_impersonal_model(user_id)\n",
    "    finish = time.time()\n",
    "    duration_in_minutes = (finish - start) / 60.\n",
    "    print(\"\\t M=%s, took %s seconds\" % (mean_score, duration_in_minutes))\n",
    "    user_scores[user_id] = mean_score"
   ]
  },
  {
   "cell_type": "code",
   "execution_count": 30,
   "metadata": {},
   "outputs": [
    {
     "data": {
      "text/plain": [
       "0.57072222222222235"
      ]
     },
     "execution_count": 30,
     "metadata": {},
     "output_type": "execute_result"
    }
   ],
   "source": [
    "np.mean([v for v in user_scores.values()])"
   ]
  },
  {
   "cell_type": "code",
   "execution_count": 8,
   "metadata": {
    "collapsed": true
   },
   "outputs": [],
   "source": [
    "import time"
   ]
  },
  {
   "cell_type": "code",
   "execution_count": 9,
   "metadata": {},
   "outputs": [
    {
     "data": {
      "text/plain": [
       "1512154353.2834132"
      ]
     },
     "execution_count": 9,
     "metadata": {},
     "output_type": "execute_result"
    }
   ],
   "source": [
    "time.time()"
   ]
  },
  {
   "cell_type": "code",
   "execution_count": 12,
   "metadata": {},
   "outputs": [],
   "source": [
    "label_df = impersonal_df.pop('label')"
   ]
  },
  {
   "cell_type": "code",
   "execution_count": null,
   "metadata": {
    "collapsed": true
   },
   "outputs": [],
   "source": []
  }
 ],
 "metadata": {
  "kernelspec": {
   "display_name": "Python 3",
   "language": "python",
   "name": "python3"
  },
  "language_info": {
   "codemirror_mode": {
    "name": "ipython",
    "version": 3
   },
   "file_extension": ".py",
   "mimetype": "text/x-python",
   "name": "python",
   "nbconvert_exporter": "python",
   "pygments_lexer": "ipython3",
   "version": "3.4.5"
  }
 },
 "nbformat": 4,
 "nbformat_minor": 2
}
