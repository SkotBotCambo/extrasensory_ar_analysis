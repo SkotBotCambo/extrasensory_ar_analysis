{
 "cells": [
  {
   "cell_type": "markdown",
   "metadata": {},
   "source": [
    "# Experiments\n",
    "\n",
    "### Basic Tests\n",
    "1. Look at variability of class balancing vs. entirely random\n",
    "    * How can we reasonably approach this? \n",
    "    * What are the real aggregate likelihoods of activity probabilities and transitions?\n",
    "2. Test alternative models of different classes to be sure that we are using reasonable learning algorithms and parameters\n",
    "    * KNN\n",
    "    * SVM\n",
    "    * RFR\n",
    "    * Some kind of Neural Net (probably RNN)\n",
    "3. What are the user labeling habits?\n",
    "4. Response to preliminary test: Why does this dataset yield an impersonal model which does great, while the other dataset does not?\n",
    "\n",
    "### Notes:\n",
    "* Stratification increases personal model accuracy a small amount with little or no effect on hybrid or impersonal models. It's more important that class balancing is not something we can assume will be available when deploying in practice.\n",
    "\n",
    "* Is it simply understanding the class distribution for a given person that gives personal models an advantage?\n",
    " "
   ]
  },
  {
   "cell_type": "markdown",
   "metadata": {},
   "source": [
    "# Recreating Experiment 1 with the ExtraSensory Dataset"
   ]
  },
  {
   "cell_type": "markdown",
   "metadata": {},
   "source": [
    "### Without stratification of classes"
   ]
  },
  {
   "cell_type": "code",
   "execution_count": 34,
   "metadata": {
    "collapsed": true
   },
   "outputs": [],
   "source": [
    "import pandas as pd\n",
    "import numpy as np"
   ]
  },
  {
   "cell_type": "code",
   "execution_count": 58,
   "metadata": {
    "collapsed": true
   },
   "outputs": [],
   "source": [
    "scores_df = pd.read_pickle('./scores_df.pickle')"
   ]
  },
  {
   "cell_type": "code",
   "execution_count": 59,
   "metadata": {},
   "outputs": [
    {
     "data": {
      "text/html": [
       "<div>\n",
       "<style>\n",
       "    .dataframe thead tr:only-child th {\n",
       "        text-align: right;\n",
       "    }\n",
       "\n",
       "    .dataframe thead th {\n",
       "        text-align: left;\n",
       "    }\n",
       "\n",
       "    .dataframe tbody tr th {\n",
       "        vertical-align: top;\n",
       "    }\n",
       "</style>\n",
       "<table border=\"1\" class=\"dataframe\">\n",
       "  <thead>\n",
       "    <tr style=\"text-align: right;\">\n",
       "      <th></th>\n",
       "      <th>accuracy</th>\n",
       "      <th>method</th>\n",
       "      <th>run_num</th>\n",
       "      <th>user_id</th>\n",
       "    </tr>\n",
       "  </thead>\n",
       "  <tbody>\n",
       "    <tr>\n",
       "      <th>0</th>\n",
       "      <td>0.57</td>\n",
       "      <td>personal</td>\n",
       "      <td>1</td>\n",
       "      <td>098A72A5-E3E5-4F54-A152-BBDA0DF7B694</td>\n",
       "    </tr>\n",
       "    <tr>\n",
       "      <th>1</th>\n",
       "      <td>1.00</td>\n",
       "      <td>hybrid</td>\n",
       "      <td>1</td>\n",
       "      <td>098A72A5-E3E5-4F54-A152-BBDA0DF7B694</td>\n",
       "    </tr>\n",
       "    <tr>\n",
       "      <th>2</th>\n",
       "      <td>1.00</td>\n",
       "      <td>impersonal</td>\n",
       "      <td>1</td>\n",
       "      <td>098A72A5-E3E5-4F54-A152-BBDA0DF7B694</td>\n",
       "    </tr>\n",
       "    <tr>\n",
       "      <th>3</th>\n",
       "      <td>0.54</td>\n",
       "      <td>personal</td>\n",
       "      <td>2</td>\n",
       "      <td>098A72A5-E3E5-4F54-A152-BBDA0DF7B694</td>\n",
       "    </tr>\n",
       "    <tr>\n",
       "      <th>4</th>\n",
       "      <td>1.00</td>\n",
       "      <td>hybrid</td>\n",
       "      <td>2</td>\n",
       "      <td>098A72A5-E3E5-4F54-A152-BBDA0DF7B694</td>\n",
       "    </tr>\n",
       "  </tbody>\n",
       "</table>\n",
       "</div>"
      ],
      "text/plain": [
       "   accuracy      method  run_num                               user_id\n",
       "0      0.57    personal        1  098A72A5-E3E5-4F54-A152-BBDA0DF7B694\n",
       "1      1.00      hybrid        1  098A72A5-E3E5-4F54-A152-BBDA0DF7B694\n",
       "2      1.00  impersonal        1  098A72A5-E3E5-4F54-A152-BBDA0DF7B694\n",
       "3      0.54    personal        2  098A72A5-E3E5-4F54-A152-BBDA0DF7B694\n",
       "4      1.00      hybrid        2  098A72A5-E3E5-4F54-A152-BBDA0DF7B694"
      ]
     },
     "execution_count": 59,
     "metadata": {},
     "output_type": "execute_result"
    }
   ],
   "source": [
    "scores_df.head()"
   ]
  },
  {
   "cell_type": "code",
   "execution_count": 60,
   "metadata": {
    "collapsed": true
   },
   "outputs": [],
   "source": [
    "user_ids = scores_df['user_id'].unique()"
   ]
  },
  {
   "cell_type": "code",
   "execution_count": 61,
   "metadata": {},
   "outputs": [
    {
     "name": "stdout",
     "output_type": "stream",
     "text": [
      "Personal: M=0.590, SD=0.098\n",
      "Hybrid: M=0.994, SD=0.004\n",
      "Impersonal: M=0.993, SD=0.004\n"
     ]
    }
   ],
   "source": [
    "personal_mean_scores = []\n",
    "hybrid_mean_scores = []\n",
    "impersonal_mean_scores = []\n",
    "\n",
    "for user_id in user_ids:\n",
    "    user_personal_mean = scores_df[(scores_df['user_id'] == user_id) &\\\n",
    "          (scores_df['method'] == 'personal')]['accuracy'].mean()\n",
    "    user_hybrid_mean = scores_df[(scores_df['user_id'] == user_id) &\\\n",
    "          (scores_df['method'] == 'hybrid')]['accuracy'].mean()\n",
    "    user_impersonal_mean = scores_df[(scores_df['user_id'] == user_id) &\\\n",
    "          (scores_df['method'] == 'impersonal')]['accuracy'].mean()\n",
    "    personal_mean_scores.append(user_personal_mean)\n",
    "    hybrid_mean_scores.append(user_hybrid_mean)\n",
    "    impersonal_mean_scores.append(user_impersonal_mean)\n",
    "    \n",
    "print(\"Personal: M=%.3f, SD=%.3f\" % (np.mean(personal_mean_scores), np.std(personal_mean_scores)))\n",
    "print(\"Hybrid: M=%.3f, SD=%.3f\" % (np.mean(hybrid_mean_scores), np.std(hybrid_mean_scores)))\n",
    "print(\"Impersonal: M=%.3f, SD=%.3f\" % (np.mean(impersonal_mean_scores), np.std(impersonal_mean_scores)))\n",
    "\n"
   ]
  },
  {
   "cell_type": "code",
   "execution_count": 69,
   "metadata": {
    "collapsed": true
   },
   "outputs": [],
   "source": [
    "scores_df = pd.read_pickle('./scores_df_stratified.pickle')"
   ]
  },
  {
   "cell_type": "code",
   "execution_count": 70,
   "metadata": {},
   "outputs": [
    {
     "data": {
      "text/html": [
       "<div>\n",
       "<style>\n",
       "    .dataframe thead tr:only-child th {\n",
       "        text-align: right;\n",
       "    }\n",
       "\n",
       "    .dataframe thead th {\n",
       "        text-align: left;\n",
       "    }\n",
       "\n",
       "    .dataframe tbody tr th {\n",
       "        vertical-align: top;\n",
       "    }\n",
       "</style>\n",
       "<table border=\"1\" class=\"dataframe\">\n",
       "  <thead>\n",
       "    <tr style=\"text-align: right;\">\n",
       "      <th></th>\n",
       "      <th>accuracy</th>\n",
       "      <th>method</th>\n",
       "      <th>run_num</th>\n",
       "      <th>user_id</th>\n",
       "    </tr>\n",
       "  </thead>\n",
       "  <tbody>\n",
       "    <tr>\n",
       "      <th>0</th>\n",
       "      <td>0.53</td>\n",
       "      <td>personal</td>\n",
       "      <td>1</td>\n",
       "      <td>098A72A5-E3E5-4F54-A152-BBDA0DF7B694</td>\n",
       "    </tr>\n",
       "    <tr>\n",
       "      <th>1</th>\n",
       "      <td>0.99</td>\n",
       "      <td>hybrid</td>\n",
       "      <td>1</td>\n",
       "      <td>098A72A5-E3E5-4F54-A152-BBDA0DF7B694</td>\n",
       "    </tr>\n",
       "    <tr>\n",
       "      <th>2</th>\n",
       "      <td>1.00</td>\n",
       "      <td>impersonal</td>\n",
       "      <td>1</td>\n",
       "      <td>098A72A5-E3E5-4F54-A152-BBDA0DF7B694</td>\n",
       "    </tr>\n",
       "    <tr>\n",
       "      <th>3</th>\n",
       "      <td>0.76</td>\n",
       "      <td>personal</td>\n",
       "      <td>2</td>\n",
       "      <td>098A72A5-E3E5-4F54-A152-BBDA0DF7B694</td>\n",
       "    </tr>\n",
       "    <tr>\n",
       "      <th>4</th>\n",
       "      <td>1.00</td>\n",
       "      <td>hybrid</td>\n",
       "      <td>2</td>\n",
       "      <td>098A72A5-E3E5-4F54-A152-BBDA0DF7B694</td>\n",
       "    </tr>\n",
       "  </tbody>\n",
       "</table>\n",
       "</div>"
      ],
      "text/plain": [
       "   accuracy      method  run_num                               user_id\n",
       "0      0.53    personal        1  098A72A5-E3E5-4F54-A152-BBDA0DF7B694\n",
       "1      0.99      hybrid        1  098A72A5-E3E5-4F54-A152-BBDA0DF7B694\n",
       "2      1.00  impersonal        1  098A72A5-E3E5-4F54-A152-BBDA0DF7B694\n",
       "3      0.76    personal        2  098A72A5-E3E5-4F54-A152-BBDA0DF7B694\n",
       "4      1.00      hybrid        2  098A72A5-E3E5-4F54-A152-BBDA0DF7B694"
      ]
     },
     "execution_count": 70,
     "metadata": {},
     "output_type": "execute_result"
    }
   ],
   "source": [
    "scores_df.head()"
   ]
  },
  {
   "cell_type": "code",
   "execution_count": 76,
   "metadata": {},
   "outputs": [
    {
     "name": "stdout",
     "output_type": "stream",
     "text": [
      "Personal: M=0.606, SD=0.094\n",
      "Hybrid: M=0.993, SD=0.004\n",
      "Impersonal: M=0.994, SD=0.004\n"
     ]
    }
   ],
   "source": [
    "personal_mean_scores = []\n",
    "hybrid_mean_scores = []\n",
    "impersonal_mean_scores = []\n",
    "\n",
    "for user_id in user_ids:\n",
    "    user_personal_mean = scores_df[(scores_df['user_id'] == user_id) &\\\n",
    "          (scores_df['method'] == 'personal')]['accuracy'].mean()\n",
    "    user_hybrid_mean = scores_df[(scores_df['user_id'] == user_id) &\\\n",
    "          (scores_df['method'] == 'hybrid')]['accuracy'].mean()\n",
    "    user_impersonal_mean = scores_df[(scores_df['user_id'] == user_id) &\\\n",
    "          (scores_df['method'] == 'impersonal')]['accuracy'].mean()\n",
    "    if not np.isnan(user_personal_mean):\n",
    "        personal_mean_scores.append(user_personal_mean)\n",
    "    if not np.isnan(user_hybrid_mean):\n",
    "        hybrid_mean_scores.append(user_hybrid_mean)\n",
    "    if not np.isnan(user_impersonal_mean):\n",
    "        impersonal_mean_scores.append(user_impersonal_mean)\n",
    "    \n",
    "print(\"Personal: M=%.3f, SD=%.3f\" % (np.mean(personal_mean_scores), np.std(personal_mean_scores)))\n",
    "print(\"Hybrid: M=%.3f, SD=%.3f\" % (np.mean(hybrid_mean_scores), np.std(hybrid_mean_scores)))\n",
    "print(\"Impersonal: M=%.3f, SD=%.3f\" % (np.mean(impersonal_mean_scores), np.std(impersonal_mean_scores)))"
   ]
  },
  {
   "cell_type": "markdown",
   "metadata": {},
   "source": [
    "## Note : Gigantic difference when stratified validation is used"
   ]
  },
  {
   "cell_type": "code",
   "execution_count": null,
   "metadata": {
    "collapsed": true
   },
   "outputs": [],
   "source": []
  }
 ],
 "metadata": {
  "kernelspec": {
   "display_name": "Python 3",
   "language": "python",
   "name": "python3"
  },
  "language_info": {
   "codemirror_mode": {
    "name": "ipython",
    "version": 3
   },
   "file_extension": ".py",
   "mimetype": "text/x-python",
   "name": "python",
   "nbconvert_exporter": "python",
   "pygments_lexer": "ipython3",
   "version": "3.4.5"
  }
 },
 "nbformat": 4,
 "nbformat_minor": 2
}
